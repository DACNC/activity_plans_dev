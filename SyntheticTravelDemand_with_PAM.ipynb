{
 "cells": [
  {
   "cell_type": "code",
   "execution_count": null,
   "id": "89d0b199",
   "metadata": {},
   "outputs": [],
   "source": [
    "import glob\n",
    "import pandas as pd\n",
    "import numpy as np\n",
    "import os\n",
    "import csv\n",
    "import sys\n",
    "from pathlib import Path\n",
    "import random\n",
    "import datetime\n",
    "\n",
    "from functools import reduce\n",
    "\n",
    "import time \n",
    "from IPython.display import clear_output\n",
    "import math"
   ]
  },
  {
   "cell_type": "code",
   "execution_count": null,
   "id": "fc7a36bc",
   "metadata": {},
   "outputs": [],
   "source": [
    "# libraries required to use PAM (https://github.com/arup-group/pam)\n",
    "\n",
    "import os\n",
    "import numpy as np\n",
    "from random import choice\n",
    "import pandas as pd\n",
    "import geopandas as gp\n",
    "from matplotlib import pyplot as plt\n",
    "%matplotlib inline\n",
    "from shapely.geometry import Point\n",
    "\n",
    "from pam.core import Population, Household, Person\n",
    "from pam.activity import Plan, Activity, Leg\n",
    "from pam.utils import minutes_to_datetime as mtdt\n",
    "from pam.variables import END_OF_DAY\n",
    "from pam.write import write_matsim, write_od_matrices, write_duration_benchmark, write_distance_benchmark, to_csv\n",
    "from pam.plot.stats import plot_activity_times, plot_leg_times\n",
    "from pam.read import load_travel_diary, read_matsim\n",
    "from pam.samplers import facility\n",
    "from pam.write import write_matsim"
   ]
  },
  {
   "cell_type": "code",
   "execution_count": null,
   "id": "9898d7cc",
   "metadata": {},
   "outputs": [],
   "source": []
  },
  {
   "cell_type": "code",
   "execution_count": null,
   "id": "97cd7368",
   "metadata": {},
   "outputs": [],
   "source": [
    "#Read CSV file containing the agents from SPENSER\n",
    "df_persons_SPENSER__dir = r'' # use your path\n",
    "df_persons_SPENSER__file = os.path.join(df_persons_SPENSER__dir, \"\")\n",
    "df_persons_SPENSER = pd.read_csv(df_persons_SPENSER__file, index_col=None, header=0)"
   ]
  },
  {
   "cell_type": "code",
   "execution_count": null,
   "id": "525f2e68",
   "metadata": {},
   "outputs": [],
   "source": [
    "df_persons_SPENSER.head()"
   ]
  },
  {
   "cell_type": "code",
   "execution_count": null,
   "id": "3ca2bb97",
   "metadata": {},
   "outputs": [],
   "source": [
    "len(df_persons_SPENSER)"
   ]
  },
  {
   "cell_type": "code",
   "execution_count": null,
   "id": "70c65d8f",
   "metadata": {},
   "outputs": [],
   "source": [
    "df_persons_SPENSER['Car_access'].unique().tolist()"
   ]
  },
  {
   "cell_type": "code",
   "execution_count": null,
   "id": "9c25c013",
   "metadata": {},
   "outputs": [],
   "source": [
    "#Read CSV file containing the agents from SPENSER\n",
    "df_agents_activities__dir = r'' # use your path\n",
    "df_agents_activities__file = os.path.join(df_agents_activities__dir, \"\")\n",
    "df_agents_activities = pd.read_csv(df_agents_activities__file, index_col=None, header=0)"
   ]
  },
  {
   "cell_type": "code",
   "execution_count": null,
   "id": "62821157",
   "metadata": {},
   "outputs": [],
   "source": [
    "df_agents_activities.head()"
   ]
  },
  {
   "cell_type": "code",
   "execution_count": null,
   "id": "d2bbf87d",
   "metadata": {},
   "outputs": [],
   "source": [
    "df_agents_activities['Ending_time'].max()"
   ]
  },
  {
   "cell_type": "code",
   "execution_count": null,
   "id": "9cd62c5a",
   "metadata": {},
   "outputs": [],
   "source": [
    "df_agents_activities.dtypes"
   ]
  },
  {
   "cell_type": "code",
   "execution_count": null,
   "id": "46ef5d92",
   "metadata": {},
   "outputs": [],
   "source": [
    "df_agents_activities.loc[(df_agents_activities['PID_AreaMSOA'] == \"107585_E02001697\")]"
   ]
  },
  {
   "cell_type": "code",
   "execution_count": null,
   "id": "97bccf6e",
   "metadata": {},
   "outputs": [],
   "source": [
    "unique_agents_ID_list = df_agents_activities['PID_AreaMSOA'].unique().tolist()"
   ]
  },
  {
   "cell_type": "code",
   "execution_count": null,
   "id": "c8cbc632",
   "metadata": {},
   "outputs": [],
   "source": [
    "len(unique_agents_ID_list)"
   ]
  },
  {
   "cell_type": "code",
   "execution_count": null,
   "id": "9288313f",
   "metadata": {},
   "outputs": [],
   "source": [
    "df_agents_activities['Trip_duration'] = df_agents_activities['Ending_time'] - df_agents_activities['Starting_time']"
   ]
  },
  {
   "cell_type": "code",
   "execution_count": null,
   "id": "64ff29fa",
   "metadata": {},
   "outputs": [],
   "source": []
  },
  {
   "cell_type": "code",
   "execution_count": null,
   "id": "95f42fe6",
   "metadata": {},
   "outputs": [],
   "source": [
    "(df_agents_activities.loc[(df_agents_activities['Trip_duration'] < 0)])"
   ]
  },
  {
   "cell_type": "code",
   "execution_count": null,
   "id": "532988bd",
   "metadata": {},
   "outputs": [],
   "source": [
    "df_agents_activities['Transport_mode'].unique().tolist()"
   ]
  },
  {
   "cell_type": "code",
   "execution_count": null,
   "id": "2d2dba4c",
   "metadata": {},
   "outputs": [],
   "source": [
    "public_transport_modes_list = ['train','bus','metro']"
   ]
  },
  {
   "cell_type": "code",
   "execution_count": null,
   "id": "b78e376b",
   "metadata": {},
   "outputs": [],
   "source": [
    "# Change different public transport modes to 'pt'\n",
    "df_agents_activities.loc[df_agents_activities['Transport_mode'].isin(public_transport_modes_list), 'Transport_mode'] = 'pt'"
   ]
  },
  {
   "cell_type": "code",
   "execution_count": null,
   "id": "8ac10e41",
   "metadata": {},
   "outputs": [],
   "source": [
    "# Change motorcycle mode to car\n",
    "df_agents_activities.loc[df_agents_activities['Transport_mode'] == \"motorcycle\", 'Transport_mode'] = 'car'"
   ]
  },
  {
   "cell_type": "code",
   "execution_count": null,
   "id": "0f220d06",
   "metadata": {},
   "outputs": [],
   "source": [
    "# Check if results are OK\n",
    "df_agents_activities['Transport_mode'].unique().tolist()"
   ]
  },
  {
   "cell_type": "code",
   "execution_count": null,
   "id": "48ba0fe7",
   "metadata": {},
   "outputs": [],
   "source": []
  },
  {
   "cell_type": "code",
   "execution_count": null,
   "id": "626ddc57",
   "metadata": {},
   "outputs": [],
   "source": [
    "# Select only those agents that interact with the TW region\n",
    "df_persons_SPENSER_to_use = df_persons_SPENSER.loc[(df_persons_SPENSER['PID_AreaMSOA'].isin(unique_agents_ID_list))]"
   ]
  },
  {
   "cell_type": "code",
   "execution_count": null,
   "id": "89f49a63",
   "metadata": {},
   "outputs": [],
   "source": [
    "len(df_persons_SPENSER_to_use)"
   ]
  },
  {
   "cell_type": "code",
   "execution_count": null,
   "id": "05316c01",
   "metadata": {},
   "outputs": [],
   "source": [
    "########################################################################################################"
   ]
  },
  {
   "cell_type": "code",
   "execution_count": null,
   "id": "b74502f5",
   "metadata": {},
   "outputs": [],
   "source": [
    "df_persons_SPENSER_to_use.dtypes"
   ]
  },
  {
   "cell_type": "code",
   "execution_count": null,
   "id": "b297d7c5",
   "metadata": {},
   "outputs": [],
   "source": []
  },
  {
   "cell_type": "code",
   "execution_count": null,
   "id": "0ca8a373",
   "metadata": {},
   "outputs": [],
   "source": [
    "low_income = ['group_1','group_2']\n",
    "medium_income = ['group_3', 'group_4']\n",
    "high_income = ['group_5']\n",
    "child_no_income = ['group_0']"
   ]
  },
  {
   "cell_type": "code",
   "execution_count": null,
   "id": "4cc5801a",
   "metadata": {},
   "outputs": [],
   "source": []
  },
  {
   "cell_type": "code",
   "execution_count": null,
   "id": "7aa68486",
   "metadata": {},
   "outputs": [],
   "source": [
    "############################ NEW START ###############################################"
   ]
  },
  {
   "cell_type": "code",
   "execution_count": null,
   "id": "4f5a7330",
   "metadata": {},
   "outputs": [],
   "source": [
    "# Spilts persons Dataframe into MSOA areas (whole households are stored in OA areas)\n",
    "grps_persons_msoa_split = df_persons_SPENSER_to_use.groupby('Area_MSOA')\n"
   ]
  },
  {
   "cell_type": "code",
   "execution_count": null,
   "id": "965c4631",
   "metadata": {},
   "outputs": [],
   "source": [
    "msoa_num = 0\n",
    "msoa_tot = df_persons_SPENSER_to_use.Area_MSOA.nunique()"
   ]
  },
  {
   "cell_type": "code",
   "execution_count": null,
   "id": "56240c23",
   "metadata": {
    "scrolled": true
   },
   "outputs": [],
   "source": [
    "t0 = time.time()\n",
    "agents_processsed = 0\n",
    "\n",
    "counter = 0\n",
    "total_people = len(df_persons_SPENSER)\n",
    "\n",
    "\n",
    "for msoa_name, persons_grp in grps_persons_msoa_split:\n",
    "\n",
    "    msoa_num += 1\n",
    "    \n",
    "    persons_grp = persons_grp.sort_values('HID_AreaOA')\n",
    "    \n",
    "        \n",
    "    # Get the agents ID that are located in the MSOA level selected in each iteration of the for loop\n",
    "    agents_id_in_mosa_list = persons_grp['PID_AreaMSOA'].unique().tolist()\n",
    "    \n",
    "    # Select only those acitivity plans related to those agents selected before\n",
    "    df_activity_plans_coord_msoa_level = df_agents_activities.loc[(df_agents_activities['PID_AreaMSOA'].isin(agents_id_in_mosa_list))] \n",
    "\n",
    "    # loop through the persons in the MSOA level in the loop\n",
    "    for idx_person, person_row in persons_grp.iterrows():\n",
    "        \n",
    "        \n",
    "        agents_processsed +=1\n",
    "\n",
    "        percentage_processed = round(agents_processsed/len(df_persons_SPENSER_to_use) * 100,2)\n",
    "        \n",
    "\n",
    "        counter += 1\n",
    "        t1 = time.time()\n",
    "        clear_output(wait=True)\n",
    "        print(f'MSOA num: {msoa_num} of {msoa_tot}, MSOA name: {msoa_name}')\n",
    "        print(f'Agent num: {agents_processsed} of {len(df_persons_SPENSER_to_use)}')\n",
    "        print(f'time running {(t1 - t0)/3600}')\n",
    "        print(f'Percentage done: {percentage_processed}')\n",
    "\n",
    "\n",
    "\n",
    "        # Create  personal attributes\n",
    "        spenser_id = person_row['PID_AreaMSOA']\n",
    "        driven_license = person_row['Driving_license']\n",
    "        car_access = person_row['Car_access']\n",
    "        age = person_row['Age']\n",
    "        \n",
    "        \n",
    "        #Get the trip of the SPENSER agent\n",
    "        df_activity_plans_individual = df_activity_plans_coord_msoa_level.loc[(df_activity_plans_coord_msoa_level['PID_AreaMSOA'] == spenser_id)] \n",
    "\n",
    "        df_activity_plans_individual = df_activity_plans_individual.reset_index(drop=True)\n",
    "        \n",
    "        # Get the transport modes used by the agent\n",
    "        transport_modes_list = df_activity_plans_individual['Transport_mode'].unique().tolist()\n",
    "        \n",
    "        \n",
    "        if (('car' in transport_modes_list) & (car_access == False) & (age > 18)):\n",
    "            \n",
    "            # Set the new value to True\n",
    "            car_access = True\n",
    "            driven_license = True\n",
    "\n",
    "            # Update the value in the agent\n",
    "            df_persons_SPENSER_to_use.at[idx_person,'Car_access'] = car_access\n",
    "            df_persons_SPENSER_to_use.at[idx_person,'Driving_license'] = driven_license\n",
    "            "
   ]
  },
  {
   "cell_type": "code",
   "execution_count": null,
   "id": "c022c91a",
   "metadata": {},
   "outputs": [],
   "source": [
    "###########################################################################"
   ]
  },
  {
   "cell_type": "code",
   "execution_count": null,
   "id": "62d4e9c7",
   "metadata": {},
   "outputs": [],
   "source": [
    "# Spilts persons Dataframe into MSOA areas (whole households are stored in OA areas)\n",
    "grps_persons_msoa_split = df_persons_SPENSER_to_use.groupby('Area_MSOA')\n"
   ]
  },
  {
   "cell_type": "code",
   "execution_count": null,
   "id": "993bd0b1",
   "metadata": {},
   "outputs": [],
   "source": [
    "len(grps_persons_msoa_split)"
   ]
  },
  {
   "cell_type": "code",
   "execution_count": null,
   "id": "1bab6770",
   "metadata": {},
   "outputs": [],
   "source": [
    "msoa_num = 0\n",
    "msoa_tot = df_persons_SPENSER_to_use.Area_MSOA.nunique()"
   ]
  },
  {
   "cell_type": "code",
   "execution_count": null,
   "id": "2384dc06",
   "metadata": {
    "scrolled": true
   },
   "outputs": [],
   "source": [
    "population = Population() # Initialise an empty population\n",
    "\n",
    "#legs = []\n",
    "#activities = []\n",
    "t0 = time.time()\n",
    "agents_processsed = 0\n",
    "\n",
    "counter = 0\n",
    "total_people = len(df_persons_SPENSER)\n",
    "\n",
    "\n",
    "for msoa_name, persons_grp in grps_persons_msoa_split:\n",
    "\n",
    "    msoa_num += 1\n",
    "    \n",
    "    persons_grp = persons_grp.sort_values('HID_AreaOA')\n",
    "    \n",
    "        \n",
    "    # Get the agents ID that are located in the MSOA level selected in each iteration of the for loop\n",
    "    agents_id_in_mosa_list = persons_grp['PID_AreaMSOA'].unique().tolist()\n",
    "    \n",
    "    # Select only those acitivity plans related to those agents selected before\n",
    "    df_activity_plans_coord_msoa_level = df_agents_activities.loc[(df_agents_activities['PID_AreaMSOA'].isin(agents_id_in_mosa_list))] \n",
    "\n",
    "    # loop through the persons in the MSOA level in the loop\n",
    "    for idx_person, person_row in persons_grp.iterrows():\n",
    "        \n",
    "        \n",
    "        agents_processsed +=1\n",
    "\n",
    "        percentage_processed = round(agents_processsed/len(df_persons_SPENSER_to_use) * 100,2)\n",
    "        \n",
    "\n",
    "        counter += 1\n",
    "        t1 = time.time()\n",
    "        clear_output(wait=True)\n",
    "        print(f'MSOA num: {msoa_num} of {msoa_tot}, MSOA name: {msoa_name}')\n",
    "        print(f'Agent num: {agents_processsed} of {len(df_persons_SPENSER_to_use)}')\n",
    "        print(f'time running {(t1 - t0)/3600}')\n",
    "        print(f'Percentage done: {percentage_processed}')\n",
    "\n",
    "\n",
    "\n",
    "        # Create  personal attributes\n",
    "        spenser_id = person_row['PID_AreaMSOA']\n",
    "        gender = person_row['Sex']\n",
    "        age = person_row['Age']\n",
    "        marital_status = person_row['Marital_status']\n",
    "        children_dependency =person_row['Children_dependency']\n",
    "        economic_activity = person_row['Economic_activity']\n",
    "        occupation = person_row['Occupation']\n",
    "        income = person_row['Income_group']\n",
    "        driving_license = person_row['Driving_license']\n",
    "        car_access = person_row['Car_access']\n",
    "        \n",
    "        #car_access_str = str(car_access)\n",
    "        \n",
    "        if (car_access == False):\n",
    "            carAvail = 'never'\n",
    "        else:\n",
    "            carAvail = 'yes'\n",
    "            \n",
    "\n",
    " \n",
    "        bike_access = person_row['Bike_access']\n",
    "        hh_oa_level = person_row['Area_OA']\n",
    "\n",
    "        # Create different agents and household   \n",
    "        hh_id = str(person_row['HID_AreaOA'])\n",
    "        hh = Household(str(hh_id) + '_' + str(counter))\n",
    "\n",
    "\n",
    "        # Subpopulation category based on income value\n",
    "        if (income in low_income):\n",
    "            subpopulation = 'low_income'\n",
    "        if (income in medium_income):\n",
    "            subpopulation = 'medium_income'\n",
    "        if (income in high_income):\n",
    "            subpopulation = 'high_income'\n",
    "        if (income in child_no_income):\n",
    "            subpopulation = 'child_no_income'\n",
    "\n",
    "        agent = Person(spenser_id, \n",
    "                        freq = 1,\n",
    "                        attributes = {\"subpopulation\": subpopulation,\n",
    "                                      \"gender\" : gender,\n",
    "                                      \"age\": age,\n",
    "                                      \"marital_status\": marital_status,\n",
    "                                      \"children_dependency\": children_dependency,\n",
    "                                      \"economic_activity\": economic_activity,\n",
    "                                      \"occupation\": occupation,\n",
    "                                      \"income\": income,\n",
    "                                      \"driving_license\": driving_license,\n",
    "                                      \"car_access\": car_access,\n",
    "                                      \"carAvail\": carAvail,\n",
    "                                      \"bike_access\": bike_access,\n",
    "                                      \"household_ID\": hh_id,\n",
    "                                      \"household_OA_level\": hh_oa_level\n",
    "                                     })\n",
    "\n",
    "        hh.add(agent)\n",
    "        population.add(hh)\n",
    "\n",
    "        #Get the trip of the SPENSER agent\n",
    "        df_activity_plans_individual = df_activity_plans_coord_msoa_level.loc[(df_activity_plans_coord_msoa_level['PID_AreaMSOA'] == spenser_id)] \n",
    "\n",
    "        df_activity_plans_individual = df_activity_plans_individual.reset_index(drop=True)\n",
    "\n",
    "\n",
    "        # Get the number of trips \n",
    "        number_of_legs = len(df_activity_plans_individual)\n",
    "\n",
    "\n",
    "        ###############################################################\n",
    "        # Define the first activity\n",
    "\n",
    "        ## Home location:\n",
    "        ### Always the last row of the activities belongs to home, so the coordinates can be obtaned from there\n",
    "        home_location_x = int(df_activity_plans_individual.iloc[-1]['Easting'])\n",
    "        home_location_y = int(df_activity_plans_individual.iloc[-1]['Northing']) #'Y column name'\n",
    "        home_location_geom = Point(home_location_x, home_location_y)\n",
    "\n",
    "        # Get the ending time of the first actvitivy, which is the starting time of the first row of the 'df_activity_plans_individual'\n",
    "        leg_starting_time = int(df_activity_plans_individual.iloc[0]['Starting_time']) #'Start column name'\n",
    "        leg_ending_time = int(df_activity_plans_individual.iloc[0]['Ending_time']) #'end column name'\n",
    "        \n",
    "        \n",
    "        if (leg_starting_time == 0):\n",
    "            \n",
    "            \n",
    "            leg_starting_time == int(450) # first leg will end at 8am\n",
    "            \n",
    "            \n",
    "            \n",
    "            if (leg_ending_time != 0):\n",
    "                \n",
    "                if (leg_starting_time > leg_ending_time):\n",
    "                    \n",
    "                    leg_starting_time = leg_ending_time - 15\n",
    "\n",
    "            # Update the value in the dataframe\n",
    "            df_activity_plans_individual.at[0,'Starting_time'] = int(leg_starting_time)\n",
    "        \n",
    "        if (leg_ending_time == 0):\n",
    "\n",
    "            leg_ending_time == leg_starting_time + int(30) # first leg will last for 30 min\n",
    "\n",
    "            # Update the value in the dataframe\n",
    "            df_activity_plans_individual.at[0,'Ending_time'] = int(leg_ending_time)\n",
    "\n",
    "        \n",
    "        \n",
    "        \n",
    "        activity_duration_seconds = int(round(leg_starting_time*60,0))\n",
    "        \n",
    "        activity_duration_15min_block = int(activity_duration_seconds/900)\n",
    "        \n",
    "        activity_duration_15min_block_in_seconds = activity_duration_15min_block * 15 * 60\n",
    "        \n",
    "        # If the length of the activity is set to 0, update the value to 1800seconds (30min)\n",
    "        if (activity_duration_15min_block_in_seconds == 0):\n",
    "            \n",
    "            activity_duration_15min_block_in_seconds = 1800\n",
    "            \n",
    "        # If the length of the activity is below 0, update the value to 900seconds (15min)\n",
    "        if (activity_duration_15min_block_in_seconds < 0):\n",
    "            \n",
    "            activity_duration_15min_block_in_seconds = 900\n",
    "        \n",
    "        \n",
    "        # Save the informtaion in the agent object\n",
    "        agent.add(Activity(seq = 1,\n",
    "                          act = \"home\" + \"_\" +str(activity_duration_15min_block_in_seconds),\n",
    "                          loc = home_location_geom,\n",
    "                          start_time = mtdt(0),\n",
    "                          end_time = mtdt(leg_starting_time)\n",
    "                          ))\n",
    "\n",
    "        ###############################################################\n",
    "\n",
    "        # loop through the activity plan and define the activities (starting from second) and legs\n",
    "        for i in range(number_of_legs):\n",
    "\n",
    "            #print('trip:')\n",
    "            #print( i + 1)\n",
    "            # Select mode, purpose of trip (activity), starting and ending times and locations\n",
    "            transport = df_activity_plans_individual.iloc[i]['Transport_mode'] #'Transport mode column name'\n",
    "            \n",
    "            # Fix the possible issue of having children driving a car:\n",
    "            # In that case, the transport mode will be changed to car_passenger\n",
    "            if ((transport == 'car') & (age < 18)):\n",
    "                transport = 'car_passenger'\n",
    "       \n",
    "            \n",
    "            activity =  df_activity_plans_individual.iloc[i]['Trip_purpose'] #'Purpose of the trip column name'\n",
    "            \n",
    "            # Update the value of education in case it is only named as \"education\"\n",
    "            if (activity == \"education\"):\n",
    "                activity = \"education_0_15\"\n",
    "            \n",
    "            leg_starting_time = int(df_activity_plans_individual.iloc[i]['Starting_time']) #'Start column name'\n",
    "            leg_ending_time = int(df_activity_plans_individual.iloc[i]['Ending_time']) #'end column name'\n",
    "            \n",
    "\n",
    "            ###############################################################\n",
    "            # if first trip has not starting and ending times:\n",
    "            if ((leg_starting_time == 0) and (leg_ending_time == 0) and (i== 0)):  \n",
    "\n",
    "                if (df_activity_plans_individual.iloc[i]['Trip_purpose'] == 'work'):\n",
    "                    \n",
    "                    leg_starting_time = int(450)\n",
    "                    \n",
    "                    leg_ending_time = int(leg_starting_time + int(30))\n",
    "            \n",
    "            \n",
    "                # upate the value in the dataframe\n",
    "                df_activity_plans_individual.at[i,'Starting_time'] = int(leg_starting_time)\n",
    "\n",
    "                # upate the value in the dataframe\n",
    "                df_activity_plans_individual.at[i,'Ending_time'] = int(leg_ending_time)\n",
    "            \n",
    "            ###############################################################\n",
    "            # if first trip has not starting and ending times:\n",
    "            if ((leg_ending_time == 0) and (i==0)): \n",
    "                \n",
    "                \n",
    "                if (df_activity_plans_individual.iloc[i]['Trip_purpose'] == 'work'):\n",
    "                    \n",
    "                    # if work started before 9:30am:\n",
    "                    if (df_activity_plans_individual.iloc[i-1]['Ending_time'] < 540):\n",
    "                    \n",
    "                        leg_ending_time = int(leg_starting_time + int(420))\n",
    "                        \n",
    "                    else:\n",
    "                        \n",
    "                        leg_ending_time = int(leg_starting_time + int(210))\n",
    "            \n",
    "                else:\n",
    "\n",
    "                    leg_ending_time = int(leg_starting_time + int(30))\n",
    "\n",
    "                # upate the value in the dataframe\n",
    "                df_activity_plans_individual.at[i,'Ending_time'] = int(leg_ending_time)\n",
    "            \n",
    "            \n",
    "            ###############################################################\n",
    "            \n",
    "            # if any leg except last one has not starting and ending times, when there are only two trips\n",
    "            if ((leg_starting_time == 0) and (leg_ending_time == 0)):  \n",
    "            \n",
    "                if (df_activity_plans_individual.iloc[i-1]['Trip_purpose'] == 'work'):\n",
    "        \n",
    "                    # if work started before 9:30am:\n",
    "                    if (df_activity_plans_individual.iloc[i-1]['Ending_time'] < 540):\n",
    "                        # work activity will take 7hours\n",
    "                        leg_starting_time = int(df_activity_plans_individual.iloc[i-1]['Ending_time'] + int(420))\n",
    "\n",
    "                    else:\n",
    "                        # work activity will take 3.5hours\n",
    "                        leg_starting_time = int(df_activity_plans_individual.iloc[i-1]['Ending_time'] + int(210))\n",
    "                \n",
    "                \n",
    "                else:\n",
    "                    # activity will take 0.5hours\n",
    "                    leg_starting_time = int(df_activity_plans_individual.iloc[i-1]['Ending_time'] + int(30)) # stay at place for 30 min only\n",
    "                \n",
    "                ###### Get the ending time of the leg:\n",
    "                leg_ending_time = int(leg_starting_time + int(30))\n",
    "                \n",
    "                #print('leg ending time')\n",
    "                #print(leg_ending_time)\n",
    "                \n",
    "                if (leg_starting_time > 1400):\n",
    "            \n",
    "                    leg_starting_time = 1400\n",
    "\n",
    "                    leg_ending_time = 1430\n",
    "\n",
    "                if (leg_ending_time > 1400):\n",
    "\n",
    "                    leg_starting_time = 1400\n",
    "\n",
    "                    leg_ending_time = 1430\n",
    "\n",
    "                #upate the value in the dataframe#\n",
    "                df_activity_plans_individual.at[i,'Starting_time'] = int(leg_starting_time)  \n",
    "\n",
    "                # upate the value in the dataframe#\n",
    "                df_activity_plans_individual.at[i,'Ending_time'] = int(leg_ending_time)\n",
    "\n",
    "            ###############################################################\n",
    "            \n",
    "            # if any leg except last one has not starting and ending times, when there are only two trips\n",
    "            if ((leg_starting_time == 0) and (leg_ending_time != 0) and (i != 0)):  \n",
    "            \n",
    "                if (df_activity_plans_individual.iloc[i-1]['Trip_purpose'] == 'work'):\n",
    "        \n",
    "                    # if work started before 9:30am:\n",
    "                    if (df_activity_plans_individual.iloc[i-1]['Ending_time'] < 540):\n",
    "                        # work activity will take 7hours\n",
    "                        leg_starting_time = int(df_activity_plans_individual.iloc[i-1]['Ending_time'] + 420)\n",
    "\n",
    "                    else:\n",
    "                        # work activity will take 3.5hours\n",
    "                        leg_starting_time = int(df_activity_plans_individual.iloc[i-1]['Ending_time'] + 210)\n",
    "                \n",
    "                \n",
    "                else:\n",
    "                                      \n",
    "                    \n",
    "                    # activity will take 0.5hours\n",
    "                    leg_starting_time = int(df_activity_plans_individual.iloc[i-1]['Ending_time'] + 30) # stay at place for 30 min only\n",
    "                \n",
    "                \n",
    "                if (leg_starting_time > leg_ending_time):\n",
    "            \n",
    "                    leg_starting_time = int(leg_ending_time - int(30))\n",
    "\n",
    "                #upate the value in the dataframe#\n",
    "                df_activity_plans_individual.at[i,'Starting_time'] = int(leg_starting_time)  \n",
    "            \n",
    "            ###############################################################\n",
    "            \n",
    "            # if any leg except last one has not starting and ending times, when there are only two trips\n",
    "            if ((leg_starting_time != 0) and (leg_ending_time == 0)):  \n",
    "            \n",
    "                ###### Get the ending time of the leg:\n",
    "                leg_ending_time = int(leg_starting_time + int(30))\n",
    "                \n",
    "                if (leg_ending_time > 1400):\n",
    "\n",
    "                    leg_ending_time = 1430\n",
    "\n",
    "                # upate the value in the dataframe#\n",
    "                df_activity_plans_individual.at[i,'Ending_time'] = int(leg_ending_time)\n",
    "            \n",
    "        \n",
    "            ###############################################################\n",
    "\n",
    "            # Origin-Destination Location: depending if it is the first activity or the rest:\n",
    "            if (i == 0):\n",
    "                # Origin is home\n",
    "                origin_location_geom = home_location_geom\n",
    "\n",
    "                destination_location_x = int(df_activity_plans_individual.iloc[i]['Easting']) #'X column name'\n",
    "                destination_location_y = int(df_activity_plans_individual.iloc[i]['Northing']) #'Y column name'\n",
    "\n",
    "            else:\n",
    "                # Select the location where previous activity finished\n",
    "                origin_location_x = int(df_activity_plans_individual.iloc[i-1]['Easting']) #'X column name'\n",
    "                origin_location_y = int(df_activity_plans_individual.iloc[i-1]['Northing']) #'Y column name'\n",
    "                origin_location_geom = Point(origin_location_x, origin_location_y)\n",
    "\n",
    "                destination_location_x = int(df_activity_plans_individual.iloc[i]['Easting']) #'X column name'\n",
    "                destination_location_y = int(df_activity_plans_individual.iloc[i]['Northing']) #'Y column name'\n",
    "\n",
    "            destination_location_geom = Point(destination_location_x, destination_location_y)\n",
    "\n",
    "            ###############################################################\n",
    "\n",
    "            # Create the legs\n",
    "            agent.add(Leg(seq = i + 1,\n",
    "                          mode = transport,\n",
    "                          start_loc = origin_location_geom,\n",
    "                          end_loc = destination_location_geom,\n",
    "                          start_time = mtdt(leg_starting_time),\n",
    "                          end_time = mtdt(leg_ending_time),\n",
    "                         ))\n",
    "\n",
    "            ###############################################################\n",
    "\n",
    "            # Create the activities\n",
    "            if (i + 1 < number_of_legs):\n",
    "\n",
    "                activity_ending_time = int(df_activity_plans_individual.iloc[i + 1]['Starting_time']) #'starting time of the next leg'\n",
    "\n",
    "\n",
    "                if (activity_ending_time == 0):\n",
    "\n",
    "                    if (activity == 'work'):\n",
    "\n",
    "                        if (leg_starting_time < 510):\n",
    "\n",
    "                            activity_ending_time = int(leg_ending_time + 420) # stay at workplace for 7hours\n",
    "\n",
    "                        else:\n",
    "                            activity_ending_time = int(leg_ending_time + 210) # stay at workplace for 3.5hours\n",
    "\n",
    "                    else:\n",
    "                        activity_ending_time = int(leg_ending_time + 30) # stay at place for 30 min only\n",
    "\n",
    "                    df_activity_plans_individual.at[i+1,'Starting_time'] = int(activity_ending_time)\n",
    "                    \n",
    "                    \n",
    "                activity_duration_seconds = int(round((activity_ending_time - leg_ending_time)*60,0))\n",
    "                \n",
    "                activity_duration_15min_block = int(activity_duration_seconds/900)\n",
    "        \n",
    "                activity_duration_15min_block_in_seconds = activity_duration_15min_block * 15 * 60\n",
    "        \n",
    "                # If the length of the activity is set to 0, update the value to 1800seconds (30min)\n",
    "                if (activity_duration_15min_block_in_seconds == 0):\n",
    "            \n",
    "                    activity_duration_15min_block_in_seconds = 900\n",
    "                \n",
    "                # If the length of the activity is below 0, update the value to 900seconds (15min)\n",
    "                if (activity_duration_15min_block_in_seconds < 0):\n",
    "            \n",
    "                    activity_duration_15min_block_in_seconds = 900\n",
    "\n",
    "\n",
    "                ###################################\n",
    "\n",
    "                agent.add(Activity(seq = i + 2,\n",
    "                          act = activity + \"_\" +str(activity_duration_15min_block_in_seconds),\n",
    "                          loc = destination_location_geom,\n",
    "                          start_time = mtdt(leg_ending_time),\n",
    "                          end_time = mtdt(activity_ending_time)\n",
    "                         ))\n",
    "\n",
    "            if (i + 1 == number_of_legs):\n",
    "                \n",
    "                activity_duration_seconds = int(round((1440 - leg_ending_time)*60,0))\n",
    "                \n",
    "                activity_duration_15min_block = int(activity_duration_seconds/900)\n",
    "        \n",
    "                activity_duration_15min_block_in_seconds = activity_duration_15min_block * 15 * 60\n",
    "        \n",
    "                # If the length of the activity is set to 0, update the value to 1800seconds (30min)\n",
    "                if (activity_duration_15min_block_in_seconds == 0):\n",
    "            \n",
    "                    activity_duration_15min_block_in_seconds = 900\n",
    "        \n",
    "\n",
    "                # If the length of the activity is below 0, update the value to 900seconds (15min)\n",
    "                if (activity_duration_15min_block_in_seconds < 0):\n",
    "            \n",
    "                    activity_duration_15min_block_in_seconds = 900\n",
    "                \n",
    "                \n",
    "            \n",
    "                agent.add(Activity(seq = i + 2,\n",
    "                                   act = activity + \"_\" +str(activity_duration_15min_block_in_seconds),\n",
    "                                   loc = home_location_geom,\n",
    "                                   start_time = mtdt(leg_ending_time),\n",
    "                                   end_time = END_OF_DAY\n",
    "                                  ))\n",
    "\n",
    "\n",
    "            \n",
    "print('Code has finishes. Check results, amigo!')\n"
   ]
  },
  {
   "cell_type": "code",
   "execution_count": null,
   "id": "d794aa59",
   "metadata": {},
   "outputs": [],
   "source": [
    "#write_matsim(population=population, plans_path=os.path.join(\"outputs\", \"population_20230515_carAvail_fix.xml\"), version=12)"
   ]
  },
  {
   "cell_type": "code",
   "execution_count": null,
   "id": "21f5cb2c",
   "metadata": {},
   "outputs": [],
   "source": [
    "print(population.stats)"
   ]
  },
  {
   "cell_type": "code",
   "execution_count": null,
   "id": "115b73ef",
   "metadata": {},
   "outputs": [],
   "source": []
  },
  {
   "cell_type": "code",
   "execution_count": null,
   "id": "b5009bda",
   "metadata": {},
   "outputs": [],
   "source": [
    "#hh = population.random_household()\n",
    "#hh.print()\n",
    "#hh.plot()"
   ]
  },
  {
   "cell_type": "code",
   "execution_count": null,
   "id": "7d9d2829",
   "metadata": {
    "scrolled": false
   },
   "outputs": [],
   "source": [
    "for i in range (72):\n",
    "    \n",
    "    print(i)\n",
    "    population.random_person().print()"
   ]
  },
  {
   "cell_type": "code",
   "execution_count": null,
   "id": "912d26d0",
   "metadata": {},
   "outputs": [],
   "source": []
  },
  {
   "cell_type": "code",
   "execution_count": null,
   "id": "8f0c229e",
   "metadata": {},
   "outputs": [],
   "source": []
  },
  {
   "cell_type": "code",
   "execution_count": null,
   "id": "15dda847",
   "metadata": {
    "scrolled": false
   },
   "outputs": [],
   "source": [
    "population.print()"
   ]
  },
  {
   "cell_type": "code",
   "execution_count": null,
   "id": "11d99aba",
   "metadata": {},
   "outputs": [],
   "source": []
  },
  {
   "cell_type": "code",
   "execution_count": null,
   "id": "2f89f8d4",
   "metadata": {},
   "outputs": [],
   "source": [
    "population.activity_classes"
   ]
  },
  {
   "cell_type": "code",
   "execution_count": null,
   "id": "fc6aa1dd",
   "metadata": {},
   "outputs": [],
   "source": [
    "population.mode_classes"
   ]
  },
  {
   "cell_type": "code",
   "execution_count": null,
   "id": "758c04f1",
   "metadata": {},
   "outputs": [],
   "source": [
    "population.random_person().print()"
   ]
  },
  {
   "cell_type": "code",
   "execution_count": null,
   "id": "92c6e7ab",
   "metadata": {},
   "outputs": [],
   "source": [
    "# Validation if it works\n",
    "population.fix_plans()"
   ]
  },
  {
   "cell_type": "code",
   "execution_count": null,
   "id": "4696599b",
   "metadata": {},
   "outputs": [],
   "source": [
    "# Validation if it works\n",
    "population.validate()"
   ]
  },
  {
   "cell_type": "code",
   "execution_count": null,
   "id": "a99d70bf",
   "metadata": {},
   "outputs": [],
   "source": [
    "write_matsim(population=population, plans_path=os.path.join(\"outputs\", \"population_20230516_VALIDATED_PAM_carAllowedToThoseUsingIt.xml\"), version=12)"
   ]
  },
  {
   "cell_type": "code",
   "execution_count": null,
   "id": "d4bb99f9",
   "metadata": {},
   "outputs": [],
   "source": [
    "population.activity_classes"
   ]
  },
  {
   "cell_type": "code",
   "execution_count": null,
   "id": "0232b140",
   "metadata": {},
   "outputs": [],
   "source": [
    "print(population.stats)"
   ]
  },
  {
   "cell_type": "code",
   "execution_count": null,
   "id": "2a489966",
   "metadata": {},
   "outputs": [],
   "source": []
  },
  {
   "cell_type": "code",
   "execution_count": null,
   "id": "7f84418e",
   "metadata": {},
   "outputs": [],
   "source": [
    "#######################################################################\n",
    "\n",
    "#                             analysis                                #\n",
    "\n",
    "\n",
    "#######################################################################"
   ]
  },
  {
   "cell_type": "code",
   "execution_count": null,
   "id": "52e96aa6",
   "metadata": {},
   "outputs": [],
   "source": [
    "# Check the duration of trips\n",
    "durations = write_duration_benchmark(population)\n",
    "durations"
   ]
  },
  {
   "cell_type": "code",
   "execution_count": null,
   "id": "ddd2ff63",
   "metadata": {},
   "outputs": [],
   "source": [
    "plt.barh(durations[\"duration\"], durations[\"trips\"])\n",
    "plt.xlabel(\"Counts\")\n",
    "plt.ylabel(\"Duration for trips\")\n",
    "plt.title(\"Duration for different trips\")\n",
    "plt.ylim(ymax = \"90 to 120 min\")"
   ]
  },
  {
   "cell_type": "code",
   "execution_count": null,
   "id": "8aa4b053",
   "metadata": {},
   "outputs": [],
   "source": [
    "# Check the distance of trips\n",
    "distances  = write_distance_benchmark(population)\n",
    "distances"
   ]
  },
  {
   "cell_type": "code",
   "execution_count": null,
   "id": "ce9b0616",
   "metadata": {},
   "outputs": [],
   "source": [
    "plt.barh(distances[\"distance\"], distances[\"trips\"])\n",
    "plt.xlabel(\"Counts\")\n",
    "plt.ylabel(\"distance, km\")\n",
    "plt.title(\"distance for different trips\")\n",
    "plt.ylim(ymax = \"200+ km\")"
   ]
  },
  {
   "cell_type": "code",
   "execution_count": null,
   "id": "3a06e851",
   "metadata": {},
   "outputs": [],
   "source": [
    "to_csv(population, dir = \"outputs\", crs = \"epsg:27700\")"
   ]
  },
  {
   "cell_type": "code",
   "execution_count": null,
   "id": "b6a1c130",
   "metadata": {},
   "outputs": [],
   "source": []
  },
  {
   "cell_type": "code",
   "execution_count": null,
   "id": "4dfa81a5",
   "metadata": {},
   "outputs": [],
   "source": [
    "df_activity = pd.read_csv(os.path.join(\"outputs\", \"activities.csv\"))\n",
    "totals = df_activity.activity.value_counts()\n",
    "plt.barh(totals.index, totals)\n",
    "plt.title(\"activities count\")\n"
   ]
  },
  {
   "cell_type": "code",
   "execution_count": null,
   "id": "e1e702c0",
   "metadata": {},
   "outputs": [],
   "source": []
  },
  {
   "cell_type": "code",
   "execution_count": null,
   "id": "5043375b",
   "metadata": {},
   "outputs": [],
   "source": [
    "people = pd.read_csv(os.path.join(\"outputs\", \"people.csv\")).set_index('pid')\n",
    "hhs = pd.read_csv(os.path.join(\"outputs\", \"households.csv\")).set_index('hid')\n",
    "trips = pd.read_csv(os.path.join(\"outputs\", \"legs.csv\")).drop(['Unnamed: 0'],axis=1)"
   ]
  },
  {
   "cell_type": "code",
   "execution_count": null,
   "id": "f7d55235",
   "metadata": {},
   "outputs": [],
   "source": [
    "trips.head()"
   ]
  },
  {
   "cell_type": "code",
   "execution_count": null,
   "id": "5c5624d4",
   "metadata": {},
   "outputs": [],
   "source": [
    "##############################################################################################"
   ]
  },
  {
   "cell_type": "code",
   "execution_count": null,
   "id": "8ab0ed5f",
   "metadata": {},
   "outputs": [],
   "source": [
    "# Check the average trips per gender"
   ]
  },
  {
   "cell_type": "code",
   "execution_count": null,
   "id": "3842e7da",
   "metadata": {},
   "outputs": [],
   "source": [
    "df_persons_SPENSER_to_use_MALES = df_persons_SPENSER_to_use.loc[(df_persons_SPENSER_to_use['Sex'] == 1)]\n",
    "\n",
    "persons_SPENSER_to_use_MALES_list = df_persons_SPENSER_to_use_MALES['PID_AreaMSOA'].unique().tolist()\n",
    "\n",
    "number_trips_MALES = len(trips.loc[trips['pid'].isin(persons_SPENSER_to_use_MALES_list)])\n",
    "\n",
    "print(number_trips_MALES)"
   ]
  },
  {
   "cell_type": "code",
   "execution_count": null,
   "id": "7e9604d9",
   "metadata": {},
   "outputs": [],
   "source": [
    "df_persons_SPENSER_to_use_FEMALES = df_persons_SPENSER_to_use.loc[(df_persons_SPENSER_to_use['Sex'] == 2)]\n",
    "\n",
    "persons_SPENSER_to_use_FEMALES_list = df_persons_SPENSER_to_use_FEMALES['PID_AreaMSOA'].unique().tolist()\n",
    "\n",
    "number_trips_FEMALES = len(trips.loc[trips['pid'].isin(persons_SPENSER_to_use_FEMALES_list)])\n",
    "\n",
    "print(number_trips_FEMALES)"
   ]
  },
  {
   "cell_type": "code",
   "execution_count": null,
   "id": "9004e5e9",
   "metadata": {},
   "outputs": [],
   "source": [
    "# NTS 2019\n",
    "## Ratio trips per year males (915) and females (990)\n",
    "990/915"
   ]
  },
  {
   "cell_type": "code",
   "execution_count": null,
   "id": "f0a18316",
   "metadata": {},
   "outputs": [],
   "source": [
    "number_trips_FEMALES/number_trips_MALES"
   ]
  },
  {
   "cell_type": "code",
   "execution_count": null,
   "id": "a0fbe6ea",
   "metadata": {},
   "outputs": [],
   "source": [
    "##############################################################################################"
   ]
  },
  {
   "cell_type": "code",
   "execution_count": null,
   "id": "25bc3994",
   "metadata": {},
   "outputs": [],
   "source": [
    "# Check the average commuting trips per gender and range of age"
   ]
  },
  {
   "cell_type": "code",
   "execution_count": null,
   "id": "ba46d687",
   "metadata": {},
   "outputs": [],
   "source": [
    "df_persons_SPENSER_to_use_MALES_17_20 = df_persons_SPENSER_to_use.loc[(df_persons_SPENSER_to_use['Sex'] == 1) &\n",
    "                                                                      (df_persons_SPENSER_to_use['Age'] >= 17) &\n",
    "                                                                      (df_persons_SPENSER_to_use['Age'] <= 20)]\n",
    "\n",
    "persons_SPENSER_to_use_MALES_17_20_list = df_persons_SPENSER_to_use_MALES_17_20['PID_AreaMSOA'].unique().tolist()\n",
    "\n",
    "number_trips_MALES_17_20 = len(trips.loc[(trips['pid'].isin(persons_SPENSER_to_use_MALES_17_20_list)) &\n",
    "                                         (trips['destination activity'] == 'work')])\n",
    "\n",
    "\n",
    "#############################\n",
    "df_persons_SPENSER_to_use_MALES_21_29 = df_persons_SPENSER_to_use.loc[(df_persons_SPENSER_to_use['Sex'] == 1) &\n",
    "                                                                      (df_persons_SPENSER_to_use['Age'] >= 21) &\n",
    "                                                                      (df_persons_SPENSER_to_use['Age'] <= 29) ]\n",
    "\n",
    "persons_SPENSER_to_use_MALES_21_29_list = df_persons_SPENSER_to_use_MALES_21_29['PID_AreaMSOA'].unique().tolist()\n",
    "\n",
    "number_trips_MALES_21_29 = len(trips.loc[(trips['pid'].isin(persons_SPENSER_to_use_MALES_21_29_list)) &\n",
    "                                         (trips['destination activity'] == 'work')])\n",
    "\n",
    "\n",
    "#############################\n",
    "df_persons_SPENSER_to_use_MALES_30_39 = df_persons_SPENSER_to_use.loc[(df_persons_SPENSER_to_use['Sex'] == 1) &\n",
    "                                                                      (df_persons_SPENSER_to_use['Age'] >= 30) &\n",
    "                                                                      (df_persons_SPENSER_to_use['Age'] <= 39) ]\n",
    "\n",
    "persons_SPENSER_to_use_MALES_30_39_list = df_persons_SPENSER_to_use_MALES_30_39['PID_AreaMSOA'].unique().tolist()\n",
    "\n",
    "number_trips_MALES_30_39 = len(trips.loc[(trips['pid'].isin(persons_SPENSER_to_use_MALES_30_39_list)) &\n",
    "                                         (trips['destination activity'] == 'work')])\n",
    "\n",
    "#############################\n",
    "df_persons_SPENSER_to_use_MALES_40_49 = df_persons_SPENSER_to_use.loc[(df_persons_SPENSER_to_use['Sex'] == 1) &\n",
    "                                                                      (df_persons_SPENSER_to_use['Age'] >= 40) &\n",
    "                                                                      (df_persons_SPENSER_to_use['Age'] <= 49) ]\n",
    "\n",
    "persons_SPENSER_to_use_MALES_40_49_list = df_persons_SPENSER_to_use_MALES_40_49['PID_AreaMSOA'].unique().tolist()\n",
    "\n",
    "\n",
    "number_trips_MALES_40_49 = len(trips.loc[(trips['pid'].isin(persons_SPENSER_to_use_MALES_40_49_list)) &\n",
    "                                         (trips['destination activity'] == 'work')])\n",
    "\n",
    "#############################\n",
    "df_persons_SPENSER_to_use_MALES_50_59 = df_persons_SPENSER_to_use.loc[(df_persons_SPENSER_to_use['Sex'] == 1) &\n",
    "                                                                      (df_persons_SPENSER_to_use['Age'] >= 50) &\n",
    "                                                                      (df_persons_SPENSER_to_use['Age'] <= 59) ]\n",
    "\n",
    "persons_SPENSER_to_use_MALES_50_59_list = df_persons_SPENSER_to_use_MALES_50_59['PID_AreaMSOA'].unique().tolist()\n",
    "\n",
    "number_trips_MALES_50_59 = len(trips.loc[(trips['pid'].isin(persons_SPENSER_to_use_MALES_50_59_list)) &\n",
    "                                         (trips['destination activity'] == 'work')])\n",
    "\n",
    "#############################\n",
    "df_persons_SPENSER_to_use_MALES_60_69 = df_persons_SPENSER_to_use.loc[(df_persons_SPENSER_to_use['Sex'] == 1) &\n",
    "                                                                      (df_persons_SPENSER_to_use['Age'] >= 60) &\n",
    "                                                                      (df_persons_SPENSER_to_use['Age'] <= 69) ]\n",
    "\n",
    "persons_SPENSER_to_use_MALES_60_69_list = df_persons_SPENSER_to_use_MALES_60_69['PID_AreaMSOA'].unique().tolist()\n",
    "\n",
    "number_trips_MALES_60_69 = len(trips.loc[(trips['pid'].isin(persons_SPENSER_to_use_MALES_60_69_list)) &\n",
    "                                         (trips['destination activity'] == 'work')])\n",
    "\n",
    "\n",
    "#############################\n",
    "df_persons_SPENSER_to_use_MALES_70_120 = df_persons_SPENSER_to_use.loc[(df_persons_SPENSER_to_use['Sex'] == 1) &\n",
    "                                                                      (df_persons_SPENSER_to_use['Age'] >= 70) &\n",
    "                                                                      (df_persons_SPENSER_to_use['Age'] <= 120) ]\n",
    "\n",
    "persons_SPENSER_to_use_MALES_70_120_list = df_persons_SPENSER_to_use_MALES_70_120['PID_AreaMSOA'].unique().tolist()\n",
    "\n",
    "number_trips_MALES_70_120 = len(trips.loc[(trips['pid'].isin(persons_SPENSER_to_use_MALES_70_120_list)) &\n",
    "                                         (trips['destination activity'] == 'work')])\n",
    "\n",
    "#############################\n"
   ]
  },
  {
   "cell_type": "code",
   "execution_count": null,
   "id": "fe842319",
   "metadata": {},
   "outputs": [],
   "source": [
    "df_persons_SPENSER_to_use_FEMALES_17_20 = df_persons_SPENSER_to_use.loc[(df_persons_SPENSER_to_use['Sex'] == 2) &\n",
    "                                                                      (df_persons_SPENSER_to_use['Age'] >= 17) &\n",
    "                                                                      (df_persons_SPENSER_to_use['Age'] <= 20)]\n",
    "\n",
    "persons_SPENSER_to_use_FEMALES_17_20_list = df_persons_SPENSER_to_use_FEMALES_17_20['PID_AreaMSOA'].unique().tolist()\n",
    "\n",
    "number_trips_FEMALES_17_20 = len(trips.loc[(trips['pid'].isin(persons_SPENSER_to_use_FEMALES_17_20_list)) &\n",
    "                                         (trips['destination activity'] == 'work')])\n",
    "\n",
    "\n",
    "#############################\n",
    "df_persons_SPENSER_to_use_FEMALES_21_29 = df_persons_SPENSER_to_use.loc[(df_persons_SPENSER_to_use['Sex'] == 2) &\n",
    "                                                                      (df_persons_SPENSER_to_use['Age'] >= 21) &\n",
    "                                                                      (df_persons_SPENSER_to_use['Age'] <= 29) ]\n",
    "\n",
    "persons_SPENSER_to_use_FEMALES_21_29_list = df_persons_SPENSER_to_use_FEMALES_21_29['PID_AreaMSOA'].unique().tolist()\n",
    "\n",
    "number_trips_FEMALES_21_29 = len(trips.loc[(trips['pid'].isin(persons_SPENSER_to_use_FEMALES_21_29_list)) &\n",
    "                                         (trips['destination activity'] == 'work')])\n",
    "\n",
    "\n",
    "#############################\n",
    "df_persons_SPENSER_to_use_FEMALES_30_39 = df_persons_SPENSER_to_use.loc[(df_persons_SPENSER_to_use['Sex'] == 2) &\n",
    "                                                                      (df_persons_SPENSER_to_use['Age'] >= 30) &\n",
    "                                                                      (df_persons_SPENSER_to_use['Age'] <= 39) ]\n",
    "\n",
    "persons_SPENSER_to_use_FEMALES_30_39_list = df_persons_SPENSER_to_use_FEMALES_30_39['PID_AreaMSOA'].unique().tolist()\n",
    "\n",
    "number_trips_FEMALES_30_39 = len(trips.loc[(trips['pid'].isin(persons_SPENSER_to_use_FEMALES_30_39_list)) &\n",
    "                                         (trips['destination activity'] == 'work')])\n",
    "\n",
    "#############################\n",
    "df_persons_SPENSER_to_use_FEMALES_40_49 = df_persons_SPENSER_to_use.loc[(df_persons_SPENSER_to_use['Sex'] == 2) &\n",
    "                                                                      (df_persons_SPENSER_to_use['Age'] >= 40) &\n",
    "                                                                      (df_persons_SPENSER_to_use['Age'] <= 49) ]\n",
    "\n",
    "persons_SPENSER_to_use_FEMALES_40_49_list = df_persons_SPENSER_to_use_FEMALES_40_49['PID_AreaMSOA'].unique().tolist()\n",
    "\n",
    "\n",
    "number_trips_FEMALES_40_49 = len(trips.loc[(trips['pid'].isin(persons_SPENSER_to_use_FEMALES_40_49_list)) &\n",
    "                                         (trips['destination activity'] == 'work')])\n",
    "\n",
    "#############################\n",
    "df_persons_SPENSER_to_use_FEMALES_50_59 = df_persons_SPENSER_to_use.loc[(df_persons_SPENSER_to_use['Sex'] == 2) &\n",
    "                                                                      (df_persons_SPENSER_to_use['Age'] >= 50) &\n",
    "                                                                      (df_persons_SPENSER_to_use['Age'] <= 59) ]\n",
    "\n",
    "persons_SPENSER_to_use_FEMALES_50_59_list = df_persons_SPENSER_to_use_FEMALES_50_59['PID_AreaMSOA'].unique().tolist()\n",
    "\n",
    "number_trips_FEMALES_50_59 = len(trips.loc[(trips['pid'].isin(persons_SPENSER_to_use_FEMALES_50_59_list)) &\n",
    "                                         (trips['destination activity'] == 'work')])\n",
    "\n",
    "#############################\n",
    "df_persons_SPENSER_to_use_FEMALES_60_69 = df_persons_SPENSER_to_use.loc[(df_persons_SPENSER_to_use['Sex'] == 2) &\n",
    "                                                                      (df_persons_SPENSER_to_use['Age'] >= 60) &\n",
    "                                                                      (df_persons_SPENSER_to_use['Age'] <= 69) ]\n",
    "\n",
    "persons_SPENSER_to_use_FEMALES_60_69_list = df_persons_SPENSER_to_use_FEMALES_60_69['PID_AreaMSOA'].unique().tolist()\n",
    "\n",
    "number_trips_FEMALES_60_69 = len(trips.loc[(trips['pid'].isin(persons_SPENSER_to_use_FEMALES_60_69_list)) &\n",
    "                                         (trips['destination activity'] == 'work')])\n",
    "\n",
    "\n",
    "#############################\n",
    "df_persons_SPENSER_to_use_FEMALES_70_120 = df_persons_SPENSER_to_use.loc[(df_persons_SPENSER_to_use['Sex'] == 2) &\n",
    "                                                                      (df_persons_SPENSER_to_use['Age'] >= 70) &\n",
    "                                                                      (df_persons_SPENSER_to_use['Age'] <= 120) ]\n",
    "\n",
    "persons_SPENSER_to_use_FEMALES_70_120_list = df_persons_SPENSER_to_use_FEMALES_70_120['PID_AreaMSOA'].unique().tolist()\n",
    "\n",
    "number_trips_FEMALES_70_120 = len(trips.loc[(trips['pid'].isin(persons_SPENSER_to_use_FEMALES_70_120_list)) &\n",
    "                                         (trips['destination activity'] == 'work')])\n",
    "\n",
    "#############################\n"
   ]
  },
  {
   "cell_type": "code",
   "execution_count": null,
   "id": "67895e0d",
   "metadata": {},
   "outputs": [],
   "source": [
    "print('MALES')\n",
    "print(number_trips_MALES_17_20)\n",
    "print(number_trips_MALES_21_29)\n",
    "print(number_trips_MALES_30_39)\n",
    "print(number_trips_MALES_40_49)\n",
    "print(number_trips_MALES_50_59)\n",
    "print(number_trips_MALES_60_69)\n",
    "print(number_trips_MALES_70_120)\n",
    "\n",
    "\n",
    "print('\\nFEMALES')\n",
    "print(number_trips_FEMALES_17_20)\n",
    "print(number_trips_FEMALES_21_29)\n",
    "print(number_trips_FEMALES_30_39)\n",
    "print(number_trips_FEMALES_40_49)\n",
    "print(number_trips_FEMALES_50_59)\n",
    "print(number_trips_FEMALES_60_69)\n",
    "print(number_trips_FEMALES_70_120)\n"
   ]
  },
  {
   "cell_type": "code",
   "execution_count": null,
   "id": "e1c48675",
   "metadata": {},
   "outputs": [],
   "source": [
    "##############################################################################################"
   ]
  },
  {
   "cell_type": "code",
   "execution_count": null,
   "id": "6eaac74c",
   "metadata": {},
   "outputs": [],
   "source": [
    "# Trips by transport mode"
   ]
  },
  {
   "cell_type": "code",
   "execution_count": null,
   "id": "2f588bd6",
   "metadata": {},
   "outputs": [],
   "source": [
    "trips.groupby(['mode'], as_index=False).sum()"
   ]
  },
  {
   "cell_type": "code",
   "execution_count": null,
   "id": "1b10a2d2",
   "metadata": {},
   "outputs": [],
   "source": [
    "trips_by_bike = len(trips.loc[trips['mode'] == 'bike'])\n",
    "trips_by_bus = len(trips.loc[trips['mode'] == 'bus'])\n",
    "trips_by_car = len(trips.loc[trips['mode'] == 'car'])\n",
    "trips_by_car_passenger = len(trips.loc[trips['mode'] == 'car_passenger'])\n",
    "trips_by_metro = len(trips.loc[trips['mode'] == 'metro'])\n",
    "trips_by_motocycle = len(trips.loc[trips['mode'] == 'motocycle'])\n",
    "trips_by_train = len(trips.loc[trips['mode'] == 'train'])\n",
    "trips_by_walk = len(trips.loc[trips['mode'] == 'walk'])"
   ]
  },
  {
   "cell_type": "code",
   "execution_count": null,
   "id": "d49a0074",
   "metadata": {},
   "outputs": [],
   "source": [
    "total_trips = trips_by_bike + trips_by_bus + trips_by_car + trips_by_car_passenger + trips_by_metro + trips_by_motocycle + trips_by_train + trips_by_walk"
   ]
  },
  {
   "cell_type": "code",
   "execution_count": null,
   "id": "1e8fd756",
   "metadata": {},
   "outputs": [],
   "source": [
    "percentage_trips_by_bike = round(trips_by_bike/total_trips *100,2)\n",
    "percentage_trips_by_bus = round(trips_by_bus/total_trips *100,2)\n",
    "percentage_trips_by_car = round(trips_by_car/total_trips *100,2)\n",
    "percentage_trips_by_car_passenger = round(trips_by_car_passenger/total_trips *100,2)\n",
    "percentage_trips_by_metro = round(trips_by_metro/total_trips *100,2)\n",
    "percentage_trips_by_motocycle = round(trips_by_motocycle/total_trips *100,2)\n",
    "percentage_trips_by_train = round(trips_by_train/total_trips *100,2)\n",
    "percentage_trips_by_walk = round(trips_by_walk/total_trips *100,2)\n",
    "\n",
    "\n",
    "print(percentage_trips_by_bike)\n",
    "print(percentage_trips_by_bus)\n",
    "print(percentage_trips_by_car)\n",
    "print(percentage_trips_by_car_passenger)\n",
    "print(percentage_trips_by_metro)\n",
    "print(percentage_trips_by_motocycle)\n",
    "print(percentage_trips_by_train)\n",
    "print(percentage_trips_by_walk)"
   ]
  },
  {
   "cell_type": "code",
   "execution_count": null,
   "id": "d830603a",
   "metadata": {},
   "outputs": [],
   "source": [
    "##############################################################################################"
   ]
  },
  {
   "cell_type": "code",
   "execution_count": null,
   "id": "fb59c2a9",
   "metadata": {},
   "outputs": [],
   "source": [
    "#Trips by purpose"
   ]
  },
  {
   "cell_type": "code",
   "execution_count": null,
   "id": "0ce8de3e",
   "metadata": {},
   "outputs": [],
   "source": [
    "number_trips_work = len(trips.loc[(trips['destination activity'] == 'work')])\n",
    "number_trips_education = len(trips.loc[(trips['destination activity'] == 'education')])\n",
    "number_trips_education_0_15 = len(trips.loc[(trips['destination activity'] == 'education_0_15')])\n",
    "number_trips_education_16_18 = len(trips.loc[(trips['destination activity'] == 'education_16_18')])\n",
    "number_trips_education_18plus = len(trips.loc[(trips['destination activity'] == 'education_18plus')])\n",
    "number_trips_escort_education = len(trips.loc[(trips['destination activity'] == 'escort_education')])\n",
    "number_trips_escort_home = len(trips.loc[(trips['destination activity'] == 'escort_home')])\n",
    "number_trips_escort_other = len(trips.loc[(trips['destination activity'] == 'escort_other')])\n",
    "number_trips_escort_work = len(trips.loc[(trips['destination activity'] == 'escort_work')])\n",
    "number_trips_home = len(trips.loc[(trips['destination activity'] == 'home')])\n",
    "number_trips_leisure_act = len(trips.loc[(trips['destination activity'] == 'leisure_act')])\n",
    "number_trips_leisure_sport = len(trips.loc[(trips['destination activity'] == 'leisure_sport')])\n",
    "number_trips_medical = len(trips.loc[(trips['destination activity'] == 'medical')])\n",
    "number_trips_other = len(trips.loc[(trips['destination activity'] == 'other')])\n",
    "number_trips_shop = len(trips.loc[(trips['destination activity'] == 'shop')])\n",
    "number_trips_supermarket = len(trips.loc[(trips['destination activity'] == 'supermarket')])\n",
    "number_trips_eat = len(trips.loc[(trips['destination activity'] == 'eat')])\n"
   ]
  },
  {
   "cell_type": "code",
   "execution_count": null,
   "id": "b82f8515",
   "metadata": {},
   "outputs": [],
   "source": [
    "total_trips = number_trips_work + number_trips_education_0_15 + perc_number_trips_education + number_trips_education_16_18 + number_trips_education_18plus + number_trips_escort_education + number_trips_escort_home + number_trips_escort_other + number_trips_escort_work + number_trips_leisure_act + number_trips_leisure_sport + number_trips_medical + number_trips_other + number_trips_shop + number_trips_supermarket + number_trips_eat"
   ]
  },
  {
   "cell_type": "code",
   "execution_count": null,
   "id": "9eac36b1",
   "metadata": {},
   "outputs": [],
   "source": [
    "perc_number_trips_work = round(number_trips_work/total_trips*100,2)\n",
    "perc_number_trips_education = round(number_trips_education/total_trips*100,2)\n",
    "perc_number_trips_education_0_15 = round(number_trips_education_0_15/total_trips*100,2)\n",
    "perc_number_trips_education_16_18 = round(number_trips_education_16_18/total_trips*100,2)\n",
    "perc_number_trips_education_18plus = round(number_trips_education_18plus/total_trips*100,2)\n",
    "perc_number_trips_escort_education = round(number_trips_escort_education/total_trips*100,2)\n",
    "perc_number_trips_escort_home = round(number_trips_escort_home/total_trips*100,2)\n",
    "perc_number_trips_escort_other = round(number_trips_escort_other/total_trips*100,2)\n",
    "perc_number_trips_escort_work = round(number_trips_escort_work/total_trips*100,2)\n",
    "perc_number_trips_leisure_act = round(number_trips_leisure_act/total_trips*100,2)\n",
    "perc_number_trips_leisure_sport = round(number_trips_leisure_sport/total_trips*100,2)\n",
    "perc_number_trips_medical = round(number_trips_medical/total_trips*100,2)\n",
    "perc_number_trips_other = round(number_trips_other/total_trips*100,2)\n",
    "perc_number_trips_shop = round(number_trips_shop/total_trips*100,2)\n",
    "perc_number_trips_supermarket = round(number_trips_supermarket/total_trips*100,2)\n",
    "perc_number_trips_eat = round(number_trips_eat/total_trips*100,2)\n"
   ]
  },
  {
   "cell_type": "code",
   "execution_count": null,
   "id": "6f89eb1a",
   "metadata": {},
   "outputs": [],
   "source": [
    "print(perc_number_trips_work)\n",
    "print(perc_number_trips_education)\n",
    "print(perc_number_trips_education_0_15)\n",
    "print(perc_number_trips_education_16_18)\n",
    "print(perc_number_trips_education_18plus)\n",
    "print(perc_number_trips_escort_education)\n",
    "print(perc_number_trips_escort_home)\n",
    "print(perc_number_trips_escort_other)\n",
    "print(perc_number_trips_escort_work)\n",
    "print(perc_number_trips_leisure_act)\n",
    "print(perc_number_trips_leisure_sport)\n",
    "print(perc_number_trips_medical)\n",
    "print(perc_number_trips_other)\n",
    "print(perc_number_trips_shop)\n",
    "print(perc_number_trips_supermarket)\n",
    "print(perc_number_trips_eat)"
   ]
  },
  {
   "cell_type": "code",
   "execution_count": null,
   "id": "251f0bc4",
   "metadata": {},
   "outputs": [],
   "source": [
    "# SHOPPING\n",
    "print(perc_number_trips_shop + perc_number_trips_supermarket)"
   ]
  },
  {
   "cell_type": "code",
   "execution_count": null,
   "id": "612539b2",
   "metadata": {},
   "outputs": [],
   "source": [
    "# LEISURE\n",
    "print(perc_number_trips_eat + perc_number_trips_leisure_act + perc_number_trips_leisure_sport)\n"
   ]
  },
  {
   "cell_type": "code",
   "execution_count": null,
   "id": "cd1bcfe9",
   "metadata": {},
   "outputs": [],
   "source": [
    "# EDUCATION\n",
    "print(perc_number_trips_education + perc_number_trips_education_0_15 + perc_number_trips_education_16_18 + perc_number_trips_education_18plus)"
   ]
  },
  {
   "cell_type": "code",
   "execution_count": null,
   "id": "c2fc83fc",
   "metadata": {},
   "outputs": [],
   "source": [
    "# WORK\n",
    "print(perc_number_trips_work)"
   ]
  },
  {
   "cell_type": "code",
   "execution_count": null,
   "id": "10fea250",
   "metadata": {},
   "outputs": [],
   "source": [
    "# ESCORT\n",
    "print(perc_number_trips_escort_education + perc_number_trips_escort_home + perc_number_trips_escort_other + perc_number_trips_escort_work)"
   ]
  },
  {
   "cell_type": "code",
   "execution_count": null,
   "id": "b18b97a7",
   "metadata": {},
   "outputs": [],
   "source": [
    "# OTHER ESCORT\n",
    "print(perc_number_trips_escort_home + perc_number_trips_escort_other + perc_number_trips_escort_work)"
   ]
  },
  {
   "cell_type": "code",
   "execution_count": null,
   "id": "e230d2a8",
   "metadata": {},
   "outputs": [],
   "source": [
    "# OTHER\n",
    "print(perc_number_trips_other)\n",
    "\n",
    "## TOO MANY OTHER ACTIVITIES THAT probaly COULD BE CONSIDERED AS leisure"
   ]
  },
  {
   "cell_type": "code",
   "execution_count": null,
   "id": "40848369",
   "metadata": {},
   "outputs": [],
   "source": [
    "##############################################################################################"
   ]
  }
 ],
 "metadata": {
  "kernelspec": {
   "display_name": "Python 3",
   "language": "python",
   "name": "python3"
  },
  "language_info": {
   "codemirror_mode": {
    "name": "ipython",
    "version": 3
   },
   "file_extension": ".py",
   "mimetype": "text/x-python",
   "name": "python",
   "nbconvert_exporter": "python",
   "pygments_lexer": "ipython3",
   "version": "3.7.12"
  }
 },
 "nbformat": 4,
 "nbformat_minor": 5
}
