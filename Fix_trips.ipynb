{
 "cells": [
  {
   "cell_type": "code",
   "execution_count": null,
   "metadata": {},
   "outputs": [],
   "source": [
    "import glob\n",
    "import pandas as pd\n",
    "import numpy as np\n",
    "import os\n",
    "import csv\n",
    "import sys\n",
    "from pathlib import Path\n",
    "import random\n",
    "from IPython.display import clear_output\n",
    "from operator import itemgetter\n",
    "\n",
    "import time "
   ]
  },
  {
   "cell_type": "code",
   "execution_count": null,
   "metadata": {},
   "outputs": [],
   "source": [
    "#Read CSV file containing the matches between NTS and SPENSER:\n",
    "NTS_SPENSER_matched_dir = r'' # use your path\n",
    "NTS_SPENSER_matched_file = os.path.join(NTS_SPENSER_matched_dir, \"\")\n",
    "df_NTS_SPENSER_matched = pd.read_csv(NTS_SPENSER_matched_file, index_col=None, header=0)"
   ]
  },
  {
   "cell_type": "code",
   "execution_count": null,
   "metadata": {},
   "outputs": [],
   "source": [
    "len(df_NTS_SPENSER_matched)"
   ]
  },
  {
   "cell_type": "code",
   "execution_count": null,
   "metadata": {},
   "outputs": [],
   "source": [
    "df_NTS_SPENSER_matched.head()"
   ]
  },
  {
   "cell_type": "code",
   "execution_count": null,
   "metadata": {},
   "outputs": [],
   "source": [
    "#NTS_id_list = df_NTS_SPENSER_matched['IndividualID'].unique().tolist()"
   ]
  },
  {
   "cell_type": "code",
   "execution_count": null,
   "metadata": {},
   "outputs": [],
   "source": [
    "NTS_day_id_list = df_NTS_SPENSER_matched['DayID'].unique().tolist()"
   ]
  },
  {
   "cell_type": "code",
   "execution_count": null,
   "metadata": {},
   "outputs": [],
   "source": [
    "# Import the file with the days related to each individual\n",
    "trips_dir = r'' # use your path\n",
    "\n",
    "\n",
    "df_NTS_trips = pd.read_csv(\n",
    "    trips_dir,\n",
    "    sep='\\t',\n",
    "    usecols=['TripID',\n",
    "             'DayID',               # ID given to all trips made by an individual on a given travel day - Created in SQL\n",
    "             'IndividualID',        # Individual unique ID - Created in SQL\n",
    "             'HouseholdID',         # Household unique ID - Created in SQL\n",
    "             'PSUID',               # PSU unique ID - Created in SQL\n",
    "             'JourSeq',             # Journey number on a given travel day\n",
    "             'NumStages',           # Number of stages - actual number\n",
    "             'MainMode_B04ID',      # Main mode of travel - publication table breakdown - 13 categories\n",
    "             'TripPurpTo_B01ID',   # Trip purpose - full list - 23 categories\n",
    "             'TripStartHours',      # Trip start time - hours component\n",
    "             'TripStartMinutes',    # Trip start time - minutes component\n",
    "             'TripStart',           # Trip start time - minutes past midnight\n",
    "             'TripEndHours',        # Trip end time - hours component\n",
    "             'TripEndMinutes',      # Trip end time - minutes component\n",
    "             'TripEnd',             # Trip end time - minutes past midnight\n",
    "             'TripDisIncSW',        # Trip distance - including short walk - miles - actual distance\n",
    "             'TripTotalTime'        # Total trip time - minutes - actual time\n",
    "             ]          \n",
    ")\n",
    "#persons_in.head()"
   ]
  },
  {
   "cell_type": "code",
   "execution_count": null,
   "metadata": {},
   "outputs": [],
   "source": [
    "# Get the days that belong to the spenser agents\n",
    "df_NTS_trips = df_NTS_trips.loc[(df_NTS_trips['DayID'].isin(NTS_day_id_list))]"
   ]
  },
  {
   "cell_type": "code",
   "execution_count": null,
   "metadata": {},
   "outputs": [],
   "source": [
    "len(df_NTS_trips)"
   ]
  },
  {
   "cell_type": "code",
   "execution_count": null,
   "metadata": {},
   "outputs": [],
   "source": []
  },
  {
   "cell_type": "code",
   "execution_count": null,
   "metadata": {},
   "outputs": [],
   "source": [
    "## Update transport mode\n",
    "mode_mapping = {\n",
    "    1: 'walk',\n",
    "     2: 'bike',\n",
    "     3: 'car',  #'Car/van driver'\n",
    "     4: 'car_passenger',  #'Car/van passenger'\n",
    "     5: 'motorcycle',  \n",
    "     6: 'car',  #'Other private transport',\n",
    "     7: 'bus', #Bus in London',\n",
    "     8: 'bus', #'Other local bus',\n",
    "     9: 'bus', #'Non-local bus',\n",
    "     10: 'metro', #'London Underground',\n",
    "     11: 'train', #'Surface Rail',\n",
    "     12: 'car',  #'Taxi/minicab',\n",
    "     13: 'metro', #'Other public transport',\n",
    "     -10: 'DEAD',\n",
    "     -8: 'NA'\n",
    "}"
   ]
  },
  {
   "cell_type": "code",
   "execution_count": null,
   "metadata": {},
   "outputs": [],
   "source": [
    "df_NTS_trips['MainMode_B04ID'] = df_NTS_trips['MainMode_B04ID'].map(mode_mapping)"
   ]
  },
  {
   "cell_type": "code",
   "execution_count": null,
   "metadata": {},
   "outputs": [],
   "source": [
    "purp_mapping = {\n",
    "    1: 'work',\n",
    "     2: 'work',  #'In course of work',\n",
    "     3: 'education',\n",
    "     4: 'food_shop',  #'Food shopping',\n",
    "     5: 'shop',  #'Non food shopping',\n",
    "     6: 'medical', #'Personal business medical',\n",
    "     7: 'eat',  #'Personal business eat/drink',\n",
    "     8: 'other',  #'Personal business other',\n",
    "     9: 'eat',  #'Eat/drink with friends',\n",
    "     10: 'other',  #'Visit friends',\n",
    "     11: 'leisure_act',  #'Other social',\n",
    "     12: 'leisure_act',  #'Entertain/ public activity',\n",
    "     13: 'leisure_sport',  #'Sport: participate',\n",
    "     14: 'home',  #'Holiday: base',\n",
    "     15: 'leisure_sport',  #'Day trip/just walk',\n",
    "     16: 'leisure_act',  #'Other non-escort',\n",
    "     17: 'escort_home',  #'Escort home',\n",
    "     18: 'escort_work',  #'Escort work',\n",
    "     19: 'escort_work',  #'Escort in course of work',\n",
    "     20: 'escort_education',  #'Escort education',\n",
    "     21: 'escort_leisure',  #'Escort shopping/personal business',\n",
    "     22: 'escort_other',  #'Other escort',\n",
    "     23: 'home',  #'Home',\n",
    "     -10: 'DEAD',\n",
    "     -8: 'NA'\n",
    "}"
   ]
  },
  {
   "cell_type": "code",
   "execution_count": null,
   "metadata": {},
   "outputs": [],
   "source": [
    "df_NTS_trips['TripPurpTo_B01ID'] = df_NTS_trips['TripPurpTo_B01ID'].map(purp_mapping)"
   ]
  },
  {
   "cell_type": "code",
   "execution_count": null,
   "metadata": {},
   "outputs": [],
   "source": [
    "df_NTS_trips.sort_values('TripID').head(10)"
   ]
  },
  {
   "cell_type": "code",
   "execution_count": null,
   "metadata": {},
   "outputs": [],
   "source": [
    "df_NTS_trips = df_NTS_trips.where(df_NTS_trips.notnull(), None)"
   ]
  },
  {
   "cell_type": "code",
   "execution_count": null,
   "metadata": {},
   "outputs": [],
   "source": []
  },
  {
   "cell_type": "code",
   "execution_count": null,
   "metadata": {},
   "outputs": [],
   "source": [
    "# LIMITATION 1: ALL SPENSER agents start first trip from home\n",
    "## We need to remove those first trips which purpose = home\n",
    "\n",
    "### Select those trips which JourSeq =  1 and pusprose = home\n",
    "df_NTS_trips_JourSeq_1_home = df_NTS_trips.loc[(df_NTS_trips['JourSeq'] == 1) & (df_NTS_trips['TripPurpTo_B01ID'] == 'home')]"
   ]
  },
  {
   "cell_type": "code",
   "execution_count": null,
   "metadata": {},
   "outputs": [],
   "source": [
    "df_NTS_trips_JourSeq_1_home"
   ]
  },
  {
   "cell_type": "code",
   "execution_count": null,
   "metadata": {},
   "outputs": [],
   "source": []
  },
  {
   "cell_type": "code",
   "execution_count": null,
   "metadata": {},
   "outputs": [],
   "source": [
    "df_NTS_trips.loc[(df_NTS_trips['DayID'] ==2016069403)].sort_values('JourSeq')"
   ]
  },
  {
   "cell_type": "code",
   "execution_count": null,
   "metadata": {},
   "outputs": [],
   "source": []
  },
  {
   "cell_type": "code",
   "execution_count": null,
   "metadata": {},
   "outputs": [],
   "source": []
  },
  {
   "cell_type": "code",
   "execution_count": null,
   "metadata": {},
   "outputs": [],
   "source": []
  },
  {
   "cell_type": "code",
   "execution_count": null,
   "metadata": {},
   "outputs": [],
   "source": [
    "len(df_NTS_trips_JourSeq_1_home)"
   ]
  },
  {
   "cell_type": "code",
   "execution_count": null,
   "metadata": {},
   "outputs": [],
   "source": [
    "# Get the tripID that belong to those trips\n",
    "NTS_trips_JourSeq_1_home_tripID_list = df_NTS_trips_JourSeq_1_home['TripID'].unique().tolist()"
   ]
  },
  {
   "cell_type": "code",
   "execution_count": null,
   "metadata": {},
   "outputs": [],
   "source": []
  },
  {
   "cell_type": "code",
   "execution_count": null,
   "metadata": {},
   "outputs": [],
   "source": [
    "# Remove those trips from the main dataframe 'df_NTS_trips'\n",
    "df_NTS_trips = df_NTS_trips.loc[~(df_NTS_trips['TripID'].isin(NTS_trips_JourSeq_1_home_tripID_list))]"
   ]
  },
  {
   "cell_type": "code",
   "execution_count": null,
   "metadata": {},
   "outputs": [],
   "source": [
    "len(df_NTS_trips)"
   ]
  },
  {
   "cell_type": "code",
   "execution_count": null,
   "metadata": {},
   "outputs": [],
   "source": []
  },
  {
   "cell_type": "code",
   "execution_count": null,
   "metadata": {},
   "outputs": [],
   "source": []
  },
  {
   "cell_type": "code",
   "execution_count": null,
   "metadata": {},
   "outputs": [],
   "source": []
  },
  {
   "cell_type": "code",
   "execution_count": null,
   "metadata": {},
   "outputs": [],
   "source": [
    "##############################################################\n",
    "##############################################################\n",
    "#\n",
    "\n",
    "\n",
    "\n",
    "##############################################################\n",
    "##############################################################"
   ]
  },
  {
   "cell_type": "code",
   "execution_count": null,
   "metadata": {},
   "outputs": [],
   "source": [
    "# LIMITATION 2: ALL SPENSER agents last trip ends at home unless first trip purpose = last trip purpose\n",
    "## We need to add a last trip to those which last trip which purpose != home\n",
    "\n"
   ]
  },
  {
   "cell_type": "code",
   "execution_count": null,
   "metadata": {},
   "outputs": [],
   "source": [
    "# Spilts persons Dataframe into MSOA areas (whole households are stored in OA areas)\n",
    "grps_trips_per_day_split = df_NTS_trips.groupby('DayID')"
   ]
  },
  {
   "cell_type": "code",
   "execution_count": null,
   "metadata": {},
   "outputs": [],
   "source": [
    "df_NTS_trips"
   ]
  },
  {
   "cell_type": "code",
   "execution_count": null,
   "metadata": {},
   "outputs": [],
   "source": [
    "total_days = len(grps_trips_per_day_split)"
   ]
  },
  {
   "cell_type": "code",
   "execution_count": null,
   "metadata": {},
   "outputs": [],
   "source": [
    "#example\n",
    "#grps_trips_per_day_split.get_group(2016041752)"
   ]
  },
  {
   "cell_type": "code",
   "execution_count": null,
   "metadata": {},
   "outputs": [],
   "source": [
    "last_trip_to_home_added_path = r''"
   ]
  },
  {
   "cell_type": "code",
   "execution_count": null,
   "metadata": {},
   "outputs": [],
   "source": [
    "counter = 0\n",
    "\n",
    "counter_day = 0\n",
    "\n",
    "\n",
    "total_days = len(grps_trips_per_day_split)\n",
    "\n",
    "for day_name, trip_grp in grps_trips_per_day_split:\n",
    "    \n",
    "    counter_day += 1\n",
    "    \n",
    "    clear_output(wait=True)\n",
    "    print(f'Days processed: {counter_day} of {total_days}')\n",
    "\n",
    "    trip_grp = trip_grp.sort_values('JourSeq', ascending=True)\n",
    "    last_trip = trip_grp.iloc[-1:]\n",
    "    last_trip_purpose = trip_grp.iloc[-1, 8]\n",
    "    \n",
    "    \n",
    "    \n",
    "    if (last_trip_purpose != 'home'):\n",
    "        \n",
    "        \n",
    "        #print(trip_grp)\n",
    "        \n",
    "        counter += 1\n",
    "        temp_list = []\n",
    "        \n",
    "        # Same ID's\n",
    "        TripID = last_trip.iloc[-1, 0]\n",
    "        DayID = last_trip.iloc[-1, 1]\n",
    "        IndividualID = last_trip.iloc[-1, 2]\n",
    "        HouseholdID = last_trip.iloc[-1, 3]\n",
    "        PSUID = last_trip.iloc[-1, 4]\n",
    "        \n",
    "        # Get the distance from previous\n",
    "        TripDisIncSW = last_trip.iloc[-1, 15]\n",
    "        \n",
    "        # Purpose home\n",
    "        TripPurpTo_B01ID = 'home'\n",
    "        \n",
    "        # Same transport mode\n",
    "        MainMode_B04ID = last_trip.iloc[-1, 7]\n",
    "        \n",
    "        #Journey sequence = last trip + 1\n",
    "        JourSeq  = int(last_trip.iloc[-1, 5]) + 1\n",
    "        NumStages = 1\n",
    "\n",
    "    \n",
    "        # Append data into the temp_list\n",
    "        temp_list.append(TripID)\n",
    "        temp_list.append(DayID)\n",
    "        temp_list.append(IndividualID)\n",
    "        temp_list.append(HouseholdID)\n",
    "        temp_list.append(PSUID)\n",
    "        temp_list.append(TripPurpTo_B01ID)\n",
    "        temp_list.append(MainMode_B04ID)\n",
    "        temp_list.append(JourSeq)\n",
    "        temp_list.append(NumStages)\n",
    "        temp_list.append(TripDisIncSW)\n",
    "        #temp_list.append(TripStartHours)\n",
    "        #temp_list.append(TripStartMinutes)\n",
    "        #temp_list.append(TripStart)\n",
    "\n",
    "        \n",
    "        # Create an empty dataframe\n",
    "        df_last_trip_to_home_added = pd.DataFrame([temp_list], columns=['TripID',\n",
    "                                                                        'DayID',\n",
    "                                                                        'IndividualID',\n",
    "                                                                        'HouseholdID',\n",
    "                                                                        'PSUID',\n",
    "                                                                        'TripPurpTo_B01ID',\n",
    "                                                                        'MainMode_B04ID',\n",
    "                                                                        'JourSeq',\n",
    "                                                                        'NumStages',\n",
    "                                                                        'TripDisIncSW'\n",
    "                                                                       ])\n",
    "        \n",
    "        \n",
    "        #print(df_last_trip_to_home_added)\n",
    "        \n",
    "        #sys.exit()\n",
    "        \n",
    "        if (counter == 1):\n",
    "        \n",
    "            # save the data in a csv file\n",
    "            df_last_trip_to_home_added.to_csv(last_trip_to_home_added_path, encoding='utf-8', mode='a', index=False, header=True)\n",
    "\n",
    "        else:\n",
    "            \n",
    "            # save the data in a csv file\n",
    "            df_last_trip_to_home_added.to_csv(last_trip_to_home_added_path, encoding='utf-8', mode='a', index=False, header=False)\n",
    "\n",
    "            \n",
    "print('The code has finished. Check the results, amigo!')"
   ]
  },
  {
   "cell_type": "code",
   "execution_count": null,
   "metadata": {},
   "outputs": [],
   "source": []
  },
  {
   "cell_type": "code",
   "execution_count": null,
   "metadata": {},
   "outputs": [],
   "source": [
    "# Read the last_trip_to_home_added\n",
    "\n",
    "last_trip_to_home_added_dir = r'' # use your path\n",
    "last_trip_to_home_added_file = os.path.join(last_trip_to_home_added_dir, \"last_trip_home_added.csv\")\n",
    "df_last_trip_to_home_added = pd.read_csv(last_trip_to_home_added_file, index_col=None, header=0)"
   ]
  },
  {
   "cell_type": "code",
   "execution_count": null,
   "metadata": {},
   "outputs": [],
   "source": [
    "len(df_last_trip_to_home_added)"
   ]
  },
  {
   "cell_type": "code",
   "execution_count": null,
   "metadata": {},
   "outputs": [],
   "source": [
    "# Concatenate previous trips with the new ones"
   ]
  },
  {
   "cell_type": "code",
   "execution_count": null,
   "metadata": {},
   "outputs": [],
   "source": [
    "frames = [df_NTS_trips, df_last_trip_to_home_added]\n",
    "\n",
    "df_NTS_trips_all = pd.concat(frames)"
   ]
  },
  {
   "cell_type": "code",
   "execution_count": null,
   "metadata": {},
   "outputs": [],
   "source": [
    "len(df_NTS_trips_all)"
   ]
  },
  {
   "cell_type": "code",
   "execution_count": null,
   "metadata": {},
   "outputs": [],
   "source": [
    "len(df_NTS_trips) + len(df_last_trip_to_home_added)"
   ]
  },
  {
   "cell_type": "code",
   "execution_count": null,
   "metadata": {},
   "outputs": [],
   "source": [
    "df_NTS_trips_all"
   ]
  },
  {
   "cell_type": "code",
   "execution_count": null,
   "metadata": {},
   "outputs": [],
   "source": [
    "all_trip_to_concatenated_path = r''"
   ]
  },
  {
   "cell_type": "code",
   "execution_count": null,
   "metadata": {},
   "outputs": [],
   "source": [
    "df_NTS_trips_all.to_csv(all_trip_to_concatenated_path, encoding='utf-8', mode='a', index=False, header=True)\n"
   ]
  },
  {
   "cell_type": "code",
   "execution_count": null,
   "metadata": {},
   "outputs": [],
   "source": []
  }
 ],
 "metadata": {
  "kernelspec": {
   "display_name": "Python 3",
   "language": "python",
   "name": "python3"
  },
  "language_info": {
   "codemirror_mode": {
    "name": "ipython",
    "version": 3
   },
   "file_extension": ".py",
   "mimetype": "text/x-python",
   "name": "python",
   "nbconvert_exporter": "python",
   "pygments_lexer": "ipython3",
   "version": "3.7.12"
  }
 },
 "nbformat": 4,
 "nbformat_minor": 2
}
