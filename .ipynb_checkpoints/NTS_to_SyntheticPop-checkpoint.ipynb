{
 "cells": [
  {
   "cell_type": "code",
   "execution_count": null,
   "metadata": {},
   "outputs": [],
   "source": [
    "import glob\n",
    "import pandas as pd\n",
    "import numpy as np\n",
    "import os\n",
    "import csv\n",
    "import sys\n",
    "from pathlib import Path\n",
    "import random\n",
    "import datetime\n",
    "\n",
    "from functools import reduce\n",
    "\n",
    "import time \n",
    "from IPython.display import clear_output\n"
   ]
  },
  {
   "cell_type": "code",
   "execution_count": null,
   "metadata": {},
   "outputs": [],
   "source": [
    "#Read CSV file containing the agents from SPENSER\n",
    "df_persons_SPENSER__dir = r'' # use your path\n",
    "df_persons_SPENSER__file = os.path.join(df_persons_SPENSER__dir, \"\") # use your file name\n",
    "df_persons_SPENSER = pd.read_csv(df_persons_SPENSER__file, index_col=None, header=0)"
   ]
  },
  {
   "cell_type": "code",
   "execution_count": null,
   "metadata": {},
   "outputs": [],
   "source": [
    "#Read CSV file containing the agents from NTS\n",
    "df_persons_NTS_dir = r'' # use your path\n",
    "df_persons_NTS_file = os.path.join(df_persons_NTS_dir, \"\") # use your file name\n",
    "df_persons_NTS = pd.read_csv(df_persons_NTS_file, index_col=None, header=0)"
   ]
  },
  {
   "cell_type": "code",
   "execution_count": null,
   "metadata": {},
   "outputs": [],
   "source": [
    "#Read CSV file containing the agents from NTS\n",
    "df_days_NTS_dir = r'' # use your path\n",
    "df_days_NTS_file = os.path.join(df_days_NTS_dir, \"\") # use your file name\n",
    "df_days_NTS = pd.read_csv(df_days_NTS_file, index_col=None, header=0)"
   ]
  },
  {
   "cell_type": "code",
   "execution_count": null,
   "metadata": {},
   "outputs": [],
   "source": [
    "df_persons_SPENSER.head(1)"
   ]
  },
  {
   "cell_type": "code",
   "execution_count": null,
   "metadata": {},
   "outputs": [],
   "source": [
    "# Suffle the SPENSER adults in order to mix them and loop through them one by one:\n",
    "df_persons_SPENSER = df_persons_SPENSER.sample(frac = 1)"
   ]
  },
  {
   "cell_type": "code",
   "execution_count": null,
   "metadata": {},
   "outputs": [],
   "source": [
    "len(df_persons_SPENSER)"
   ]
  },
  {
   "cell_type": "code",
   "execution_count": null,
   "metadata": {},
   "outputs": [],
   "source": []
  },
  {
   "cell_type": "code",
   "execution_count": null,
   "metadata": {},
   "outputs": [],
   "source": [
    "#Read CSV file containing the agents from NTS\n",
    "df_trips_NTS_dir = r'' # use your path\n",
    "df_trips_NTS_file = os.path.join(df_trips_NTS_dir, \"\") # use your file name\n",
    "df_trips_NTS = pd.read_csv(df_trips_NTS_file, index_col=None, header=0)"
   ]
  },
  {
   "cell_type": "code",
   "execution_count": null,
   "metadata": {},
   "outputs": [],
   "source": [
    "len(df_trips_NTS)"
   ]
  },
  {
   "cell_type": "code",
   "execution_count": null,
   "metadata": {},
   "outputs": [],
   "source": []
  },
  {
   "cell_type": "code",
   "execution_count": null,
   "metadata": {},
   "outputs": [],
   "source": [
    "# Check the number of unique days"
   ]
  },
  {
   "cell_type": "code",
   "execution_count": null,
   "metadata": {},
   "outputs": [],
   "source": [
    "day_ID_list = df_days_NTS['DayID'].unique().tolist()"
   ]
  },
  {
   "cell_type": "code",
   "execution_count": null,
   "metadata": {},
   "outputs": [],
   "source": [
    "len(day_ID_list)"
   ]
  },
  {
   "cell_type": "code",
   "execution_count": null,
   "metadata": {},
   "outputs": [],
   "source": [
    "# Check the number of unique trips"
   ]
  },
  {
   "cell_type": "code",
   "execution_count": null,
   "metadata": {},
   "outputs": [],
   "source": [
    "df_trips_NTS_less = df_trips_NTS.loc[(df_trips_NTS['DayID'].isin(day_ID_list))]"
   ]
  },
  {
   "cell_type": "code",
   "execution_count": null,
   "metadata": {},
   "outputs": [],
   "source": [
    "len(df_trips_NTS_less)"
   ]
  },
  {
   "cell_type": "code",
   "execution_count": null,
   "metadata": {},
   "outputs": [],
   "source": [
    "# Check the unique days within the days list"
   ]
  },
  {
   "cell_type": "code",
   "execution_count": null,
   "metadata": {},
   "outputs": [],
   "source": [
    "trips_NTS_less_dayID_list = df_trips_NTS_less['DayID'].unique().tolist()"
   ]
  },
  {
   "cell_type": "code",
   "execution_count": null,
   "metadata": {},
   "outputs": [],
   "source": [
    "df_days_NTS_less = df_days_NTS.loc[(df_days_NTS['DayID'].isin(trips_NTS_less_dayID_list))]"
   ]
  },
  {
   "cell_type": "code",
   "execution_count": null,
   "metadata": {},
   "outputs": [],
   "source": [
    "len(df_days_NTS_less)"
   ]
  },
  {
   "cell_type": "code",
   "execution_count": null,
   "metadata": {},
   "outputs": [],
   "source": [
    "len(df_days_NTS)"
   ]
  },
  {
   "cell_type": "code",
   "execution_count": null,
   "metadata": {},
   "outputs": [],
   "source": [
    "450517- 336008"
   ]
  },
  {
   "cell_type": "code",
   "execution_count": null,
   "metadata": {},
   "outputs": [],
   "source": [
    "336008/ 450517 * 100"
   ]
  },
  {
   "cell_type": "code",
   "execution_count": null,
   "metadata": {},
   "outputs": [],
   "source": []
  },
  {
   "cell_type": "code",
   "execution_count": null,
   "metadata": {},
   "outputs": [],
   "source": [
    "## Rename the dataframe to have the same name as in the following parts of the code\n",
    "df_days_NTS = df_days_NTS_less"
   ]
  },
  {
   "cell_type": "code",
   "execution_count": null,
   "metadata": {},
   "outputs": [],
   "source": [
    "len(df_days_NTS)"
   ]
  },
  {
   "cell_type": "code",
   "execution_count": null,
   "metadata": {},
   "outputs": [],
   "source": [
    "days_NTS_individualID_list = df_days_NTS['IndividualID'].unique().tolist()"
   ]
  },
  {
   "cell_type": "code",
   "execution_count": null,
   "metadata": {},
   "outputs": [],
   "source": [
    "len(days_NTS_individualID_list)"
   ]
  },
  {
   "cell_type": "code",
   "execution_count": null,
   "metadata": {},
   "outputs": [],
   "source": []
  },
  {
   "cell_type": "code",
   "execution_count": null,
   "metadata": {},
   "outputs": [],
   "source": [
    "len(df_persons_NTS)"
   ]
  },
  {
   "cell_type": "code",
   "execution_count": null,
   "metadata": {},
   "outputs": [],
   "source": []
  },
  {
   "cell_type": "code",
   "execution_count": null,
   "metadata": {},
   "outputs": [],
   "source": []
  },
  {
   "cell_type": "code",
   "execution_count": null,
   "metadata": {},
   "outputs": [],
   "source": []
  },
  {
   "cell_type": "code",
   "execution_count": null,
   "metadata": {},
   "outputs": [],
   "source": [
    "df_persons_NTS_less = df_persons_NTS.loc[(df_persons_NTS['IndividualID'].isin(days_NTS_individualID_list))]"
   ]
  },
  {
   "cell_type": "code",
   "execution_count": null,
   "metadata": {},
   "outputs": [],
   "source": [
    "len(df_persons_NTS_less)"
   ]
  },
  {
   "cell_type": "code",
   "execution_count": null,
   "metadata": {},
   "outputs": [],
   "source": []
  },
  {
   "cell_type": "code",
   "execution_count": null,
   "metadata": {},
   "outputs": [],
   "source": []
  },
  {
   "cell_type": "code",
   "execution_count": null,
   "metadata": {},
   "outputs": [],
   "source": [
    "################################################################################################ \n",
    "## Remove now those nts individuals that are employed and do NOT have any trip purpose = 'Work' (=1)"
   ]
  },
  {
   "cell_type": "code",
   "execution_count": null,
   "metadata": {},
   "outputs": [],
   "source": [
    "\n",
    "df_NTS_employed = df_persons_NTS_less.loc[df_persons_NTS_less['Economic_activity'] == 'Employed']"
   ]
  },
  {
   "cell_type": "code",
   "execution_count": null,
   "metadata": {},
   "outputs": [],
   "source": [
    "len(df_NTS_employed)"
   ]
  },
  {
   "cell_type": "code",
   "execution_count": null,
   "metadata": {},
   "outputs": [],
   "source": [
    "NTS_employed_ID = df_NTS_employed['IndividualID'].unique().tolist()"
   ]
  },
  {
   "cell_type": "code",
   "execution_count": null,
   "metadata": {},
   "outputs": [],
   "source": [
    "df_NTS_employed_trips = df_trips_NTS_less.loc[df_trips_NTS_less['IndividualID'].isin(NTS_employed_ID)]"
   ]
  },
  {
   "cell_type": "code",
   "execution_count": null,
   "metadata": {},
   "outputs": [],
   "source": [
    "len(df_NTS_employed_trips)"
   ]
  },
  {
   "cell_type": "code",
   "execution_count": null,
   "metadata": {},
   "outputs": [],
   "source": [
    "df_NTS_employed_trips_work = df_NTS_employed_trips.loc[df_NTS_employed_trips['TripPurpose_B02ID'] == 1]"
   ]
  },
  {
   "cell_type": "code",
   "execution_count": null,
   "metadata": {},
   "outputs": [],
   "source": [
    "NTS_employed_trips_work_indivID = df_NTS_employed_trips_work['IndividualID'].unique().tolist()"
   ]
  },
  {
   "cell_type": "code",
   "execution_count": null,
   "metadata": {},
   "outputs": [],
   "source": [
    "df_NTS_employed_workpurpose = df_NTS_employed.loc[df_NTS_employed['IndividualID'].isin(NTS_employed_trips_work_indivID)]"
   ]
  },
  {
   "cell_type": "code",
   "execution_count": null,
   "metadata": {},
   "outputs": [],
   "source": [
    "len(df_NTS_employed_workpurpose)"
   ]
  },
  {
   "cell_type": "code",
   "execution_count": null,
   "metadata": {},
   "outputs": [],
   "source": [
    "len(df_NTS_employed_workpurpose)/len(df_NTS_employed) * 100"
   ]
  },
  {
   "cell_type": "code",
   "execution_count": null,
   "metadata": {},
   "outputs": [],
   "source": [
    "#\n",
    "## around a 28% of nts employed people are not going to be considered because they do NOT have a trip which purpose = work\n",
    "#"
   ]
  },
  {
   "cell_type": "code",
   "execution_count": null,
   "metadata": {},
   "outputs": [],
   "source": [
    "len(df_NTS_employed) - len(df_NTS_employed_workpurpose)"
   ]
  },
  {
   "cell_type": "code",
   "execution_count": null,
   "metadata": {},
   "outputs": [],
   "source": []
  },
  {
   "cell_type": "code",
   "execution_count": null,
   "metadata": {},
   "outputs": [],
   "source": [
    "################################################################################################ \n",
    "## Remove now those nts individuals that are children and do NOT have any trip purpose = 'Education' (=3)"
   ]
  },
  {
   "cell_type": "code",
   "execution_count": null,
   "metadata": {},
   "outputs": [],
   "source": [
    "df_NTS_children = df_persons_NTS_less.loc[df_persons_NTS_less['Economic_activity'] == 'Inactive Child student']"
   ]
  },
  {
   "cell_type": "code",
   "execution_count": null,
   "metadata": {},
   "outputs": [],
   "source": [
    "len(df_NTS_children)"
   ]
  },
  {
   "cell_type": "code",
   "execution_count": null,
   "metadata": {},
   "outputs": [],
   "source": [
    "df_NTS_children['Age'].max()"
   ]
  },
  {
   "cell_type": "code",
   "execution_count": null,
   "metadata": {},
   "outputs": [],
   "source": [
    "df_NTS_children['Age'].min()"
   ]
  },
  {
   "cell_type": "code",
   "execution_count": null,
   "metadata": {},
   "outputs": [],
   "source": [
    "NTS_children_ID = df_NTS_children['IndividualID'].unique().tolist()"
   ]
  },
  {
   "cell_type": "code",
   "execution_count": null,
   "metadata": {},
   "outputs": [],
   "source": [
    "df_NTS_children_trips = df_trips_NTS_less.loc[df_trips_NTS_less['IndividualID'].isin(NTS_children_ID)]"
   ]
  },
  {
   "cell_type": "code",
   "execution_count": null,
   "metadata": {},
   "outputs": [],
   "source": [
    "len(df_NTS_children_trips)"
   ]
  },
  {
   "cell_type": "code",
   "execution_count": null,
   "metadata": {},
   "outputs": [],
   "source": [
    "df_NTS_children_trips_edu = df_NTS_children_trips.loc[df_NTS_children_trips['TripPurpose_B02ID'] == 3]"
   ]
  },
  {
   "cell_type": "code",
   "execution_count": null,
   "metadata": {},
   "outputs": [],
   "source": [
    "len(df_NTS_children_trips_edu)"
   ]
  },
  {
   "cell_type": "code",
   "execution_count": null,
   "metadata": {},
   "outputs": [],
   "source": [
    "NTS_children_trips_edu_indivID = df_NTS_children_trips_edu['IndividualID'].unique().tolist()"
   ]
  },
  {
   "cell_type": "code",
   "execution_count": null,
   "metadata": {},
   "outputs": [],
   "source": [
    "len(NTS_children_trips_edu_indivID)"
   ]
  },
  {
   "cell_type": "code",
   "execution_count": null,
   "metadata": {},
   "outputs": [],
   "source": [
    "df_NTS_children_edupurpose = df_NTS_children.loc[df_NTS_children['IndividualID'].isin(NTS_children_trips_edu_indivID)]"
   ]
  },
  {
   "cell_type": "code",
   "execution_count": null,
   "metadata": {},
   "outputs": [],
   "source": [
    "len(df_NTS_children_edupurpose)"
   ]
  },
  {
   "cell_type": "code",
   "execution_count": null,
   "metadata": {},
   "outputs": [],
   "source": [
    "len(df_NTS_children_edupurpose)/len(df_NTS_children)*100"
   ]
  },
  {
   "cell_type": "code",
   "execution_count": null,
   "metadata": {},
   "outputs": [],
   "source": [
    "#\n",
    "## around a 33% of nts children are not going to be considered because they do NOT have a trip which purpose = education\n",
    "#"
   ]
  },
  {
   "cell_type": "code",
   "execution_count": null,
   "metadata": {},
   "outputs": [],
   "source": [
    "len(df_NTS_children) - len(df_NTS_children_edupurpose)"
   ]
  },
  {
   "cell_type": "code",
   "execution_count": null,
   "metadata": {},
   "outputs": [],
   "source": []
  },
  {
   "cell_type": "code",
   "execution_count": null,
   "metadata": {},
   "outputs": [],
   "source": [
    "################################################################################\n",
    "\n",
    "## Keep only those nts individuals that will be matched with SPENSER agents"
   ]
  },
  {
   "cell_type": "code",
   "execution_count": null,
   "metadata": {},
   "outputs": [],
   "source": [
    "df_persons_NTS_less_no_employed_no_children = df_persons_NTS_less.loc[~(df_persons_NTS_less['Economic_activity'] == 'Employed') & ~(df_persons_NTS_less['Economic_activity'] == 'Inactive Child student')]"
   ]
  },
  {
   "cell_type": "code",
   "execution_count": null,
   "metadata": {},
   "outputs": [],
   "source": [
    "len(df_persons_NTS_less_no_employed_no_children)"
   ]
  },
  {
   "cell_type": "code",
   "execution_count": null,
   "metadata": {},
   "outputs": [],
   "source": [
    "frames = [df_persons_NTS_less_no_employed_no_children, df_NTS_employed_workpurpose, df_NTS_children_edupurpose]\n",
    "\n",
    "\n",
    "df_persons_NTS_less_less = pd.concat(frames)"
   ]
  },
  {
   "cell_type": "code",
   "execution_count": null,
   "metadata": {},
   "outputs": [],
   "source": [
    "len(df_persons_NTS_less_less)"
   ]
  },
  {
   "cell_type": "code",
   "execution_count": null,
   "metadata": {},
   "outputs": [],
   "source": [
    "df_persons_NTS_less_less.head()"
   ]
  },
  {
   "cell_type": "code",
   "execution_count": null,
   "metadata": {},
   "outputs": [],
   "source": []
  },
  {
   "cell_type": "code",
   "execution_count": null,
   "metadata": {},
   "outputs": [],
   "source": [
    "persons_NTS_less_less_ID_list = df_persons_NTS_less_less['IndividualID'].unique().tolist()"
   ]
  },
  {
   "cell_type": "code",
   "execution_count": null,
   "metadata": {},
   "outputs": [],
   "source": [
    "len(persons_NTS_less_less_ID_list)"
   ]
  },
  {
   "cell_type": "code",
   "execution_count": null,
   "metadata": {},
   "outputs": [],
   "source": [
    "df_days_NTS_less_less = df_days_NTS.loc[(df_days_NTS['IndividualID'].isin(persons_NTS_less_less_ID_list))]"
   ]
  },
  {
   "cell_type": "code",
   "execution_count": null,
   "metadata": {},
   "outputs": [],
   "source": [
    "len(df_days_NTS_less_less)"
   ]
  },
  {
   "cell_type": "code",
   "execution_count": null,
   "metadata": {},
   "outputs": [],
   "source": [
    "len(df_days_NTS_less_less)/len(df_persons_SPENSER)*100"
   ]
  },
  {
   "cell_type": "code",
   "execution_count": null,
   "metadata": {},
   "outputs": [],
   "source": [
    "days_NTS_less_less_ID_list = df_days_NTS_less_less['DayID'].unique().tolist()"
   ]
  },
  {
   "cell_type": "code",
   "execution_count": null,
   "metadata": {},
   "outputs": [],
   "source": []
  },
  {
   "cell_type": "code",
   "execution_count": null,
   "metadata": {},
   "outputs": [],
   "source": [
    "df_trips_NTS_less_less = df_trips_NTS_less.loc[(df_trips_NTS_less['DayID'].isin(days_NTS_less_less_ID_list))]"
   ]
  },
  {
   "cell_type": "code",
   "execution_count": null,
   "metadata": {},
   "outputs": [],
   "source": [
    "len(df_trips_NTS_less_less)"
   ]
  },
  {
   "cell_type": "code",
   "execution_count": null,
   "metadata": {},
   "outputs": [],
   "source": []
  },
  {
   "cell_type": "code",
   "execution_count": null,
   "metadata": {},
   "outputs": [],
   "source": []
  },
  {
   "cell_type": "code",
   "execution_count": null,
   "metadata": {},
   "outputs": [],
   "source": []
  },
  {
   "cell_type": "code",
   "execution_count": null,
   "metadata": {},
   "outputs": [],
   "source": []
  },
  {
   "cell_type": "code",
   "execution_count": null,
   "metadata": {},
   "outputs": [],
   "source": [
    "## Rename dataframes as they are called in the following cells\n",
    "\n",
    "df_persons_NTS = df_persons_NTS_less_less\n",
    "\n",
    "df_days_NTS = df_days_NTS_less_less\n",
    "\n",
    "df_trips_NTS = df_trips_NTS_less_less"
   ]
  },
  {
   "cell_type": "code",
   "execution_count": null,
   "metadata": {},
   "outputs": [],
   "source": []
  },
  {
   "cell_type": "code",
   "execution_count": null,
   "metadata": {},
   "outputs": [],
   "source": [
    "len(df_persons_NTS)"
   ]
  },
  {
   "cell_type": "code",
   "execution_count": null,
   "metadata": {},
   "outputs": [],
   "source": [
    "len(df_days_NTS)"
   ]
  },
  {
   "cell_type": "code",
   "execution_count": null,
   "metadata": {},
   "outputs": [],
   "source": [
    "len(df_trips_NTS)"
   ]
  },
  {
   "cell_type": "code",
   "execution_count": null,
   "metadata": {},
   "outputs": [],
   "source": []
  },
  {
   "cell_type": "code",
   "execution_count": null,
   "metadata": {},
   "outputs": [],
   "source": []
  },
  {
   "cell_type": "code",
   "execution_count": null,
   "metadata": {},
   "outputs": [],
   "source": [
    "###############################################"
   ]
  },
  {
   "cell_type": "code",
   "execution_count": null,
   "metadata": {},
   "outputs": [],
   "source": [
    "# Outputs - add path to persons household composition updated CSV table here.\n",
    "file_nts_to_spenser_updated_temp = '' # use your file path\n",
    "#file_persons_household_composition_updated = 'Data/persons_household_composition_YH_updated.csv'"
   ]
  },
  {
   "cell_type": "code",
   "execution_count": null,
   "metadata": {},
   "outputs": [],
   "source": [
    "# Spilts persons Dataframe into MSOA areas (whole households are stored in OA areas)\n",
    "#t0 = time.time()\n",
    "grps_persons_msoa_split = df_persons_SPENSER.groupby('Area_MSOA')"
   ]
  },
  {
   "cell_type": "code",
   "execution_count": null,
   "metadata": {},
   "outputs": [],
   "source": [
    "\n",
    "msoa_num = 0\n",
    "msoa_tot = df_persons_SPENSER.Area_MSOA.nunique()\n",
    "# Loop through list of persons Dataframe sections (split by MSOA areas)\n",
    "# Apply functions to sections\n",
    "# Send sections to temp CSV file (in case)\n",
    "# Add sections to list"
   ]
  },
  {
   "cell_type": "code",
   "execution_count": null,
   "metadata": {},
   "outputs": [],
   "source": [
    "##############################################################################\n",
    "##############################################################################\n",
    "##############################################################################\n",
    "##############################################################################\n",
    "\n",
    "\n",
    "\n",
    "\n",
    "##############################################################################\n",
    "##############################################################################\n",
    "##############################################################################\n",
    "##############################################################################"
   ]
  },
  {
   "cell_type": "code",
   "execution_count": null,
   "metadata": {},
   "outputs": [],
   "source": []
  },
  {
   "cell_type": "code",
   "execution_count": null,
   "metadata": {},
   "outputs": [],
   "source": []
  },
  {
   "cell_type": "code",
   "execution_count": null,
   "metadata": {},
   "outputs": [],
   "source": []
  },
  {
   "cell_type": "code",
   "execution_count": null,
   "metadata": {},
   "outputs": [],
   "source": []
  },
  {
   "cell_type": "code",
   "execution_count": null,
   "metadata": {},
   "outputs": [],
   "source": []
  },
  {
   "cell_type": "code",
   "execution_count": null,
   "metadata": {},
   "outputs": [],
   "source": []
  },
  {
   "cell_type": "code",
   "execution_count": null,
   "metadata": {
    "scrolled": false
   },
   "outputs": [],
   "source": [
    "# Empty list where SPENSER-NTS matched individuals are going to be temporarly stored\n",
    "#NTS_SPENSER_individual_matched_temp_list = []\n",
    "\n",
    "t0 = time.time()\n",
    "\n",
    "NTS_SPENSER_all_matched_list= []\n",
    "\n",
    "SPENSER_ID_matched_list = []\n",
    "\n",
    "\n",
    "counter_no_match_spenser_nts = 0\n",
    "counter_parnter_matched_7_filters = 0\n",
    "counter_parnter_matched_5_filters = 0\n",
    "counter_parnter_not_matched_after_trying = 0\n",
    "\n",
    "counter = 0\n",
    "\n",
    "print('vamos...')\n",
    "\n",
    "\n",
    "for msoa_name, persons_grp in grps_persons_msoa_split:\n",
    "    \n",
    "    msoa_num += 1\n",
    "    t1 = time.time()\n",
    "    clear_output(wait=True)\n",
    "    print(f'MSOA num: {msoa_num} of {msoa_tot}, MSOA name: {msoa_name}')\n",
    "    print(f'time running {(t1 - t0)/3600}')\n",
    "    \n",
    "    # Loop through each of the SPENSER people\n",
    "    for idx_person_1_SPENSER, person_1_SPENSER in persons_grp.iterrows():\n",
    "\n",
    "        counter += 1\n",
    "        #print(counter, len(df_persons_SPENSER))\n",
    "    \n",
    "\n",
    "        # Identify the SPENSER individual ID of the selected SPENSER person in the loop\n",
    "        spenser_person_ID = person_1_SPENSER['PID_AreaMSOA']\n",
    "        spenser_person_age = person_1_SPENSER['Age']\n",
    "\n",
    "        #print(spenser_person_ID)\n",
    "        \n",
    "        ## Initialise the flags to False:\n",
    "        spenser_person_chosen = False\n",
    "        spenser_partner_chosen = False\n",
    "        spenser_children_chosen = False\n",
    "\n",
    "        # Check if SPENSER person belongs to an already matched household:\n",
    "        ## If it is in the list, then the person will not be matched and will be considered without interactions with other members of the household\n",
    "        ## If it is not in the list, then the person will be matched with a NTS agent as well as his/her children\n",
    "        if ((spenser_person_ID not in SPENSER_ID_matched_list) and (spenser_person_age > 15)):\n",
    "\n",
    "\n",
    "            spenser_household_ID = person_1_SPENSER['HID_AreaOA']\n",
    "            spenser_person_age = person_1_SPENSER['Age']\n",
    "            spenser_person_children_dependencies = person_1_SPENSER['Children_dependency']\n",
    "            spenser_person_marital = person_1_SPENSER['Marital_status']\n",
    "\n",
    "\n",
    "            # Initialise the 'spenser_partner_selected' and 'spenser_children_selected' triggers to false                         \n",
    "            spenser_partner_selected = False\n",
    "            spenser_children_selected =  False\n",
    "\n",
    "\n",
    "\n",
    "            if (spenser_person_marital == 'Married or couple'):\n",
    "                #Select his/her partner:\n",
    "                df_persons_SPENSER_partner = persons_grp.loc[(persons_grp['HID_AreaOA'] == spenser_household_ID) & \n",
    "                                                                    (persons_grp['PID_AreaMSOA'] != spenser_person_ID) &\n",
    "                                                                    (persons_grp['Age'] > 16) &\n",
    "                                                                    (persons_grp['Marital_status'] == spenser_person_marital) &\n",
    "                                                                    (persons_grp['Children_dependency'] == spenser_person_children_dependencies)]\n",
    "\n",
    "                if (len(df_persons_SPENSER_partner) > 1):\n",
    "\n",
    "                    ## choose one.\n",
    "                    ## Maybe there are more than one marrieage/couple living in the same household\n",
    "                    ## choose the closest in age:\n",
    "\n",
    "                    partner_index = df_persons_SPENSER_partner['Age'].sub(spenser_person_age).abs().idxmin()\n",
    "\n",
    "                    df_person_SPENSER_partner_chosen = df_persons_SPENSER_partner.loc[partner_index]\n",
    "\n",
    "                    df_person_SPENSER_partner_chosen = df_person_SPENSER_partner_chosen.to_frame()\n",
    "\n",
    "                    spenser_partner_selected = True\n",
    "\n",
    "\n",
    "\n",
    "                if (len(df_persons_SPENSER_partner) == 1):\n",
    "\n",
    "                    df_person_SPENSER_partner_chosen = df_persons_SPENSER_partner\n",
    "\n",
    "                    spenser_partner_selected = True\n",
    "\n",
    "            \n",
    "            else:\n",
    "                \n",
    "                df_person_SPENSER_partner_chosen = pd.DataFrame()\n",
    "            \n",
    "            # Select their children:\n",
    "            if (spenser_person_children_dependencies == True):\n",
    "\n",
    "                df_person_SPENSER_children_chosen = persons_grp.loc[(persons_grp['HID_AreaOA'] == spenser_household_ID) &\n",
    "                                                                            (persons_grp['Age'] < 16)]\n",
    "\n",
    "\n",
    "                spenser_children_selected =  True\n",
    "\n",
    "            else:\n",
    "                df_person_SPENSER_children_chosen = pd.DataFrame()\n",
    "\n",
    "\n",
    "\n",
    "            ################################################################################################################\n",
    "            # NTS\n",
    "\n",
    "\n",
    "            # Initialise the 'nts_partner_selected' trigger to false\n",
    "            nts_partner_selected =  False\n",
    "            nts_children_selected = False\n",
    "\n",
    "\n",
    "\n",
    "\n",
    "\n",
    "            # Identify the socio-demographic attributes of the selected SPENSER adult:\n",
    "            spenser_sex = person_1_SPENSER['Sex']\n",
    "            spenser_age = person_1_SPENSER['Age']\n",
    "            spenser_car_access = person_1_SPENSER['Car_access']\n",
    "            spenser_driving_license = person_1_SPENSER['Driving_license']\n",
    "            spenser_bike_access = person_1_SPENSER['Bike_access']\n",
    "            spenser_economic_activity = person_1_SPENSER['Economic_activity']\n",
    "            spenser_income = person_1_SPENSER['Income_group']\n",
    "            spenser_marital = person_1_SPENSER['Marital_status']\n",
    "            spenser_children = person_1_SPENSER['Children_dependency']\n",
    "\n",
    "            # Get the range of age of the person:\n",
    "            if ((spenser_age >= 16) and (spenser_age <= 19)):\n",
    "                age = [16,19]\n",
    "            elif ((spenser_age >= 20) and (spenser_age <= 29)):\n",
    "                age = [20,29]\n",
    "            elif ((spenser_age >= 30) and (spenser_age <= 39)):\n",
    "                age = [30,39]\n",
    "            elif ((spenser_age >= 40) and (spenser_age <= 49)):\n",
    "                age = [40,49]\n",
    "            elif ((spenser_age >= 50) and (spenser_age <= 59)):\n",
    "                age = [50,59]\n",
    "            elif ((spenser_age >= 60) and (spenser_age <= 64)):\n",
    "                age = [60,64]\n",
    "            elif ((spenser_age >= 65) and (spenser_age <= 75)):\n",
    "                age = [65,75]\n",
    "            elif ((spenser_age >= 76) and (spenser_age <= 120)):\n",
    "                age = [76,120]\n",
    "\n",
    "\n",
    "\n",
    "            # Select those agents from NTS with the same attributes as the SPENSER person\n",
    "            df_persons_NTS_selected = df_persons_NTS.loc[(df_persons_NTS['Sex'] == spenser_sex) &\n",
    "                                                        (df_persons_NTS['Age'] >= age[0]) &\n",
    "                                                        (df_persons_NTS['Age'] <= age[1]) &\n",
    "                                                        (df_persons_NTS['Marital_status'] == spenser_marital) &\n",
    "                                                        (df_persons_NTS['Children_dependency'] == spenser_children) &\n",
    "                                                        (df_persons_NTS['Driving_license'] == spenser_driving_license) &\n",
    "                                                        (df_persons_NTS['Car_access'] == spenser_car_access) &\n",
    "                                                        (df_persons_NTS['Bike_access'] == spenser_bike_access) &\n",
    "                                                        (df_persons_NTS['Economic_activity'] == spenser_economic_activity) &\n",
    "                                                        (df_persons_NTS['Income_group'] == spenser_income)]\n",
    "\n",
    "\n",
    "            if (len(df_persons_NTS_selected) ==  0):\n",
    "                counter_no_match_spenser_nts += 1\n",
    "\n",
    "\n",
    "            # If df_persons_NTS_selected contains people with the same characteristics,\n",
    "            # then we can try to match them:\n",
    "            if (len(df_persons_NTS_selected) > 0):\n",
    "\n",
    "\n",
    "\n",
    "                # If the SPENSER person has a partner, then it is time to identify a couple with similar characteristics in NTS:\n",
    "                if (spenser_partner_selected == True):\n",
    "\n",
    "                    # The match will be considering their partner's socio-demographic characteristics as well:\n",
    "\n",
    "                    # Identify the socio-demographic characteristics of the SPENSER's partner:\n",
    "                    spenser_partner_driving_license = df_person_SPENSER_partner_chosen['Driving_license'].values[0]\n",
    "                    spenser_partner_car_access = df_person_SPENSER_partner_chosen['Car_access'].values[0]\n",
    "                    spenser_partner_bike_access = df_person_SPENSER_partner_chosen['Bike_access'].values[0]\n",
    "                    spenser_partner_economic_activity = df_person_SPENSER_partner_chosen['Economic_activity'].values[0]\n",
    "                    spenser_partner_income = df_person_SPENSER_partner_chosen['Income_group'].values[0]\n",
    "                    spenser_partner_marital = df_person_SPENSER_partner_chosen['Marital_status'].values[0]\n",
    "                    spenser_partner_children = df_person_SPENSER_partner_chosen['Children_dependency'].values[0]\n",
    "\n",
    "\n",
    "                    # Loop through each of the persons selected to find his/her partner with similar characteristics to SPENSER's partner                                \n",
    "                    for idx_person_1_NTS, person_1_NTS in df_persons_NTS_selected.iterrows():\n",
    "                        \n",
    "\n",
    "                        \n",
    "                        if isinstance(person_1_NTS['IndividualID'], int):\n",
    "\n",
    "                            NTS_person_id = person_1_NTS['IndividualID']\n",
    "\n",
    "                        else:\n",
    "                            NTS_person_id = person_1_NTS['IndividualID'].values[0]\n",
    "                            \n",
    "                            \n",
    "                        \n",
    "                        if isinstance(person_1_NTS['HouseholdID'], int):\n",
    "\n",
    "                            NTS_person_household = person_1_NTS['HouseholdID']\n",
    "\n",
    "                        else:\n",
    "                            NTS_person_household = person_1_NTS['HouseholdID'].values[0]\n",
    "\n",
    "\n",
    "                        ## Select those people from the same household as the person selected\n",
    "                        df_persons_NTS_selected_household = df_persons_NTS.loc[(df_persons_NTS['HouseholdID'] == NTS_person_household)]\n",
    "\n",
    "                        #Select his/her partner with the same attributes (7) as the SPENSER's partner \n",
    "                        # (sex and age no matched):\n",
    "                        df_persons_NTS_partner = df_persons_NTS_selected_household.loc[(df_persons_NTS_selected_household['HouseholdID'] == NTS_person_household) & \n",
    "                                                                            (df_persons_NTS_selected_household['IndividualID'] != NTS_person_id) &\n",
    "                                                                            (df_persons_NTS_selected_household['Driving_license'] == spenser_partner_driving_license) &\n",
    "                                                                            (df_persons_NTS_selected_household['Marital_status'] == spenser_partner_marital) &\n",
    "                                                                            (df_persons_NTS_selected_household['Children_dependency'] == spenser_partner_children) &\n",
    "                                                                            (df_persons_NTS_selected_household['Car_access'] == spenser_partner_car_access) &\n",
    "                                                                            (df_persons_NTS_selected_household['Bike_access'] == spenser_partner_bike_access) &\n",
    "                                                                            (df_persons_NTS_selected_household['Economic_activity'] == spenser_partner_economic_activity) &     \n",
    "                                                                            (df_persons_NTS_selected_household['Income_group'] == spenser_partner_income)]\n",
    "\n",
    "\n",
    "                        if (len(df_persons_NTS_partner) > 0):\n",
    "\n",
    "                            ## choose one.\n",
    "                            ## Maybe there are more than one marrieage/couple living in the same household\n",
    "                            ## choose the closest in age:\n",
    "\n",
    "                            partner_index = df_persons_NTS_partner['Age'].sub(spenser_person_age).abs().idxmin()\n",
    "\n",
    "                            df_person_NTS_partner_chosen = df_persons_NTS_partner.loc[partner_index]\n",
    "\n",
    "                            # And the person has been selected\n",
    "                            df_person_NTS_chosen = person_1_NTS\n",
    "\n",
    "\n",
    "                            nts_partner_selected = True\n",
    "\n",
    "                            counter_parnter_matched_7_filters += 1\n",
    "                            #print('Couple matched with 7 filters!')\n",
    "\n",
    "\n",
    "                            ### NTS CHILDREN \n",
    "\n",
    "                            if (spenser_children_selected == True):\n",
    "\n",
    "\n",
    "                                ## Then, select their children:\n",
    "                                df_person_NTS_children_chosen = df_persons_NTS_selected_household.loc[(df_persons_NTS_selected_household['HouseholdID'] == NTS_person_household) &\n",
    "                                                                                    (df_persons_NTS_selected_household['Age'] < 16)]\n",
    "\n",
    "                                if (len(df_person_NTS_children_chosen) > 0):\n",
    "                                \n",
    "                                    nts_children_selected = True\n",
    "\n",
    "                            else:\n",
    "\n",
    "                                df_person_NTS_children_chosen = pd.DataFrame()\n",
    "\n",
    "\n",
    "                            # If the partner has been selected, exit the for loop with a break\n",
    "                            break\n",
    "\n",
    "\n",
    "\n",
    "\n",
    "                    # If the partner has not been found based on the 7 socio-demographic characteristics defined\n",
    "                    # (marital status, children dependency, driving license, car access, bike access, economic activity and income group)\n",
    "                    # then try to find the person with less characteristics (5):\n",
    "                    # (marital status, children dependency, driving license, car access, bike access)\n",
    "\n",
    "                    if (nts_partner_selected == False):\n",
    "\n",
    "                        # Loop through each of the persons selected to find his/her partner with similar characteristics to SPENSER's partner                                \n",
    "                        for idx_person_1_NTS, person_1_NTS in df_persons_NTS_selected.iterrows():\n",
    "\n",
    "                            NTS_person_id = person_1_NTS['IndividualID']\n",
    "                            NTS_person_household = person_1_NTS['HouseholdID']\n",
    "\n",
    "                            ## Select those people from the same household as the person selected\n",
    "                            df_persons_NTS_selected_household = df_persons_NTS.loc[(df_persons_NTS['HouseholdID'] == NTS_person_household)]\n",
    "\n",
    "\n",
    "                            #Select his/her partner with the same attributes (6) as the SPENSER's partner (sex and age no matched):\n",
    "                            df_persons_NTS_partner = df_persons_NTS_selected_household.loc[(df_persons_NTS_selected_household['HouseholdID'] == NTS_person_household) & \n",
    "                                                                            (df_persons_NTS_selected_household['IndividualID'] != NTS_person_id) &\n",
    "                                                                            (df_persons_NTS_selected_household['Marital_status'] == spenser_partner_marital) &\n",
    "                                                                            (df_persons_NTS_selected_household['Children_dependency'] == spenser_partner_children) &\n",
    "                                                                            (df_persons_NTS_selected_household['Driving_license'] == spenser_partner_driving_license) &\n",
    "                                                                            (df_persons_NTS_selected_household['Car_access'] == spenser_partner_car_access) &\n",
    "                                                                            (df_persons_NTS_selected_household['Economic_activity'] == spenser_partner_economic_activity) &\n",
    "                                                                            (df_persons_NTS_selected_household['Bike_access'] == spenser_partner_bike_access)]\n",
    "\n",
    "\n",
    "                            if (len(df_persons_NTS_partner) > 0):\n",
    "\n",
    "                                ## choose one.\n",
    "                                ## Maybe there are more than one marrieage/couple living in the same household\n",
    "                                ## choose the closest in age:\n",
    "\n",
    "                                partner_index = df_persons_NTS_partner['Age'].sub(spenser_person_age).abs().idxmin()\n",
    "\n",
    "                                df_person_NTS_partner_chosen = df_persons_NTS_partner.loc[partner_index]\n",
    "\n",
    "                                # And the person has been selected\n",
    "                                df_person_NTS_chosen = person_1_NTS\n",
    "\n",
    "\n",
    "                                nts_partner_selected = True\n",
    "\n",
    "                                counter_parnter_matched_5_filters += 1\n",
    "                                #print('Couple matched with 5 filters!')\n",
    "\n",
    "\n",
    "                                ### NTS CHILDREN \n",
    "\n",
    "                                if (spenser_children_selected == True):\n",
    "\n",
    "\n",
    "                                    ## Then, select their children:\n",
    "                                    df_person_NTS_children_chosen = df_persons_NTS_selected_household.loc[(df_persons_NTS_selected_household['HouseholdID'] == NTS_person_household) &\n",
    "                                                                                        (df_persons_NTS_selected_household['Age'] < 16)]\n",
    "                                    if (len(df_person_NTS_children_chosen) > 0):\n",
    "                                    \n",
    "                                        nts_children_selected = True\n",
    "\n",
    "                                else:\n",
    "\n",
    "                                    df_person_NTS_children_chosen = pd.DataFrame()\n",
    "\n",
    "\n",
    "                                # If the partner has been selected, exit the for loop with a break\n",
    "                                break\n",
    "                                \n",
    "                                \n",
    "                                \n",
    "                                \n",
    "                        # If the partner has not been found based on the 6 socio-demographic characteristics defined\n",
    "                        # (marital status, children dependency, driving license, car access, bike access, economic activity and income group)\n",
    "                        # then try to find the person with less characteristics (5):\n",
    "                        # (marital status, children dependency, driving license, car access, bike access)\n",
    "\n",
    "                        if (nts_partner_selected == False):\n",
    "\n",
    "                            # Loop through each of the persons selected to find his/her partner with similar characteristics to SPENSER's partner                                \n",
    "                            for idx_person_1_NTS, person_1_NTS in df_persons_NTS_selected.iterrows():\n",
    "\n",
    "                                NTS_person_id = person_1_NTS['IndividualID']\n",
    "                                NTS_person_household = person_1_NTS['HouseholdID']\n",
    "\n",
    "                                ## Select those people from the same household as the person selected\n",
    "                                df_persons_NTS_selected_household = df_persons_NTS.loc[(df_persons_NTS['HouseholdID'] == NTS_person_household)]\n",
    "\n",
    "\n",
    "                                #Select his/her partner with the same attributes (5) as the SPENSER's partner (sex and age no matched):\n",
    "                                df_persons_NTS_partner = df_persons_NTS_selected_household.loc[(df_persons_NTS_selected_household['HouseholdID'] == NTS_person_household) & \n",
    "                                                                                (df_persons_NTS_selected_household['IndividualID'] != NTS_person_id) &\n",
    "                                                                                (df_persons_NTS_selected_household['Marital_status'] == spenser_partner_marital) &\n",
    "                                                                                (df_persons_NTS_selected_household['Children_dependency'] == spenser_partner_children) &\n",
    "                                                                                (df_persons_NTS_selected_household['Driving_license'] == spenser_partner_driving_license) &\n",
    "                                                                                (df_persons_NTS_selected_household['Car_access'] == spenser_partner_car_access) &\n",
    "                                                                                (df_persons_NTS_selected_household['Bike_access'] == spenser_partner_bike_access)]\n",
    "\n",
    "\n",
    "                                if (len(df_persons_NTS_partner) > 0):\n",
    "\n",
    "                                    ## choose one.\n",
    "                                    ## Maybe there are more than one marrieage/couple living in the same household\n",
    "                                    ## choose the closest in age:\n",
    "\n",
    "                                    partner_index = df_persons_NTS_partner['Age'].sub(spenser_person_age).abs().idxmin()\n",
    "\n",
    "                                    df_person_NTS_partner_chosen = df_persons_NTS_partner.loc[partner_index]\n",
    "\n",
    "                                    # And the person has been selected\n",
    "                                    df_person_NTS_chosen = person_1_NTS\n",
    "\n",
    "\n",
    "                                    nts_partner_selected = True\n",
    "\n",
    "                                    counter_parnter_matched_5_filters += 1\n",
    "                                    #print('Couple matched with 5 filters!')\n",
    "\n",
    "\n",
    "                                    ### NTS CHILDREN \n",
    "\n",
    "                                    if (spenser_children_selected == True):\n",
    "\n",
    "\n",
    "                                        ## Then, select their children:\n",
    "                                        df_person_NTS_children_chosen = df_persons_NTS_selected_household.loc[(df_persons_NTS_selected_household['HouseholdID'] == NTS_person_household) &\n",
    "                                                                                           (df_persons_NTS_selected_household['Age'] < 16)]\n",
    "                                        \n",
    "                                        \n",
    "                                        if (len(df_person_NTS_children_chosen) > 0):\n",
    "                                        \n",
    "                                            nts_children_selected = True\n",
    "\n",
    "                                    else:\n",
    "\n",
    "                                        df_person_NTS_children_chosen = pd.DataFrame()\n",
    "\n",
    "\n",
    "                                    # If the partner has been selected, exit the for loop with a break\n",
    "                                    break  \n",
    "                                \n",
    "                                \n",
    "                                \n",
    "                                \n",
    "                                \n",
    "                                \n",
    "\n",
    "\n",
    "                    # If after the two loops, there was not found any match between SPENSER and NTS for the selected person and his/her partner,\n",
    "                    # then, both are going to be considered as individuals without interactions between them.\n",
    "                    if (nts_partner_selected == False):\n",
    "\n",
    "                        counter_parnter_not_matched_after_trying += 1\n",
    "                        #print('Couple NOT matched')\n",
    "\n",
    "                # if the SPENSER person has NOT a partner  --> single person\n",
    "                else:\n",
    "\n",
    "                    ## Select randomly one of them\n",
    "                    df_person_NTS_chosen = df_persons_NTS_selected.sample(n=1)\n",
    "\n",
    "                    NTS_person_household = df_person_NTS_chosen['HouseholdID'].values[0]\n",
    "\n",
    "\n",
    "\n",
    "\n",
    "\n",
    "                    ## empty dataframe for the partner\n",
    "                    df_person_NTS_partner_chosen = pd.DataFrame()\n",
    "\n",
    "\n",
    "                    ## Select those people from the same household as the person selected\n",
    "                    df_persons_NTS_selected_household = df_persons_NTS.loc[(df_persons_NTS['HouseholdID'] == NTS_person_household)]\n",
    "\n",
    "\n",
    "\n",
    "                    ### NTS CHILDREN \n",
    "\n",
    "                    if (spenser_person_children_dependencies == True):\n",
    "\n",
    "                        ## Then, select their children:\n",
    "                        df_person_NTS_children_chosen = df_persons_NTS_selected_household.loc[(df_persons_NTS_selected_household['HouseholdID'] == NTS_person_household) &\n",
    "                                                                                    (df_persons_NTS_selected_household['Age'] < 16)]\n",
    "\n",
    "\n",
    "                        if (len(df_person_NTS_children_chosen) > 0):\n",
    "                            \n",
    "                            nts_children_selected = True\n",
    "\n",
    "                    else:\n",
    "\n",
    "                        df_person_NTS_children_chosen = pd.DataFrame()\n",
    "\n",
    "\n",
    "            # At this stage, if the SPENSER and NTS persons have a partner with similar socio-demographic characteristics,\n",
    "            # then we can do the match.\n",
    "            ## If the SPENSER person does not have a partner, then he/she will be assinged a day in the TYPE 1 code\n",
    "            ### (TYPE 1 code: the person is considered as a person without interactions with other members of the household)\n",
    "\n",
    "\n",
    "            #################################################################################################################\n",
    "            ## - SPENSER adult: person_1_SPENSER\n",
    "            ## - SPENSER partner: df_person_SPENSER_partner_chosen\n",
    "            ## - SPENSER children: df_person_SPENSER_children_chosen\n",
    "            ## - NTS adult: df_person_NTS_chosen\n",
    "            ## - NTS partner: df_person_NTS_partner_chosen\n",
    "            ## - NTS children: df_person_NTS_children_chosen\n",
    "\n",
    "            #################################################################################################################\n",
    "\n",
    "            if (nts_partner_selected == True) & (nts_children_selected ==  True):\n",
    "\n",
    "                # Identify possible day trip from the NTS adults and children selected:\n",
    "                day_list_NTS_adult_chosen = []\n",
    "                day_list_partner_chosen = []\n",
    "                day_list_children_chosen = []\n",
    "                day_list = []\n",
    "\n",
    "                ## df_person_NTS_chosen:\n",
    "                ### Save the NTS IndividualID in a variable\n",
    "                NTS_adult_individualID = df_person_NTS_chosen['IndividualID']\n",
    "\n",
    "                ### Select those trips related to the NTS person selected:\n",
    "                df_days_NTS_adult_chosen = df_days_NTS.loc[(df_days_NTS['IndividualID'] == NTS_adult_individualID)]\n",
    "\n",
    "                ### Check the values from column 'TravelWeekDay_B01ID' (travel day of the week)\n",
    "                NTS_adult_chosen_available_days_list = df_days_NTS_adult_chosen['TravelWeekDay_B01ID'].explode().unique()\n",
    "\n",
    "                ### Save the posible days of the adult chosen in a list:\n",
    "                day_list_NTS_adult_chosen.append(NTS_adult_chosen_available_days_list)\n",
    "\n",
    "                ### Append the days into a list\n",
    "                day_list.append(NTS_adult_chosen_available_days_list)\n",
    "\n",
    "\n",
    "                ## Partner (df_person_NTS_partner_chosen)\n",
    "                ### Save the df_person_NTS_partner_chosen IndividualID in a variable\n",
    "                NTS_partner_individualID = df_person_NTS_partner_chosen['IndividualID']\n",
    "\n",
    "                ### Select those trips related to the NTS person selected:\n",
    "                df_days_NTS_partner_chosen = df_days_NTS.loc[(df_days_NTS['IndividualID'] == NTS_partner_individualID)]\n",
    "\n",
    "                ### Check the values from column 'TravelWeekDay_B01ID' (travel day of the week)\n",
    "                NTS_partner_chosen_available_days_list = df_days_NTS_partner_chosen['TravelWeekDay_B01ID'].explode().unique()\n",
    "\n",
    "                ### Save the posible days of the partner chosen in a list:\n",
    "                day_list_partner_chosen.append(NTS_partner_chosen_available_days_list)\n",
    "\n",
    "                ### Append the days into a list\n",
    "                day_list.append(NTS_partner_chosen_available_days_list)\n",
    "\n",
    "\n",
    "                ## Children:\n",
    "                ### loop through each of the children, find the days for everyone and save them in a list (day_list):\n",
    "                for idx_children_1_NTS, children_1_NTS in df_person_NTS_children_chosen.iterrows():\n",
    "\n",
    "                    ### Save the NTS child IndividualID in a variable\n",
    "                    nts_child_individualID = children_1_NTS['IndividualID']\n",
    "\n",
    "                    ### Select those trips related to the NTS child selected:\n",
    "                    df_days_NTS_chil_chosen = df_days_NTS.loc[(df_days_NTS['IndividualID'] == nts_child_individualID)]\n",
    "\n",
    "                    ### Check the values from column 'TravelWeekDay_B01ID' (travel day of the week)\n",
    "                    NTS_children_chosen_available_days_list = df_days_NTS_adult_chosen['TravelWeekDay_B01ID'].explode().unique()\n",
    "\n",
    "                    ### Save the posible days of the child in a list:\n",
    "                    day_list_children_chosen.append(NTS_children_chosen_available_days_list)\n",
    "\n",
    "                    ### Append the days into a list\n",
    "                    day_list.append(NTS_children_chosen_available_days_list)\n",
    "\n",
    "\n",
    "\n",
    "\n",
    "                #################################################################################################################\n",
    "\n",
    "\n",
    "                ## Select common days between the adults (both, first selected adult and his/her partner) and children, from the list (day_list):\n",
    "                common_day_list = list(reduce(lambda i, j: i & j, (set(x) for x in day_list)))\n",
    "\n",
    "\n",
    "                # If there is no common day between all members of the family:\n",
    "                if (len(common_day_list) == 0):\n",
    "\n",
    "\n",
    "                    # One of the adults will take care of the children.\n",
    "                    ## The election will be based sex attribute value.\n",
    "                    ## A probabilistic value related to the proportion of males/females looking after home/family\n",
    "                    ### The proportion values are from the Regional labour market statistics: HI01 Headline indicators for the Nort East. Tables 10a, 10b and 10c\n",
    "                    #### For the North-East, it was observed that 79.8% of females take care of family/home, while males 20.2%\n",
    "                    ##### In case both have the same sex, then the probability is 50% for both.\n",
    "\n",
    "\n",
    "                    # if spenser individual is male and spenser partner is female:\n",
    "                    if (spenser_sex == 1 and df_person_SPENSER_partner_chosen['Sex'].values[0] == 2):\n",
    "\n",
    "                        parent_chosen = np.random.choice(['spenser', 'partner'], 1, p=[0.202, 0.798])[0]\n",
    "\n",
    "\n",
    "                    # if spenser individual is female and spenser partner is male:   \n",
    "                    elif (spenser_sex == 2 and df_person_SPENSER_partner_chosen['Sex'].values[0] == 1):\n",
    "\n",
    "                        parent_chosen = np.random.choice(['spenser', 'partner'], 1, p=[0.798, 0.202,])[0]\n",
    "\n",
    "\n",
    "                    # if both are males:   \n",
    "                    elif (spenser_sex == 1 and df_person_SPENSER_partner_chosen['Sex'].values[0] == 1):\n",
    "\n",
    "                        parent_chosen = np.random.choice(['spenser', 'partner'], 1, p=[0.5, 0.5,])[0]\n",
    "\n",
    "\n",
    "                    # if both are females: \n",
    "                    elif (spenser_sex == 2 and df_person_SPENSER_partner_chosen['Sex'].values[0] == 2):\n",
    "\n",
    "                        parent_chosen = np.random.choice(['spenser', 'partner'], 1, p=[0.5, 0.5,])[0] \n",
    "\n",
    "\n",
    "\n",
    "                    ## Find common days between the selected parent and the children\n",
    "\n",
    "                    common_days_selection_2 = []\n",
    "\n",
    "                    # Identify the days in common between spenser person and children\n",
    "                    if (parent_chosen == 'spenser'):\n",
    "\n",
    "                        common_days_selection_2.append(day_list_NTS_adult_chosen)\n",
    "                        common_days_selection_2.append(day_list_children_chosen)\n",
    "                        \n",
    "                        \n",
    "                        # if the list is not empty:\n",
    "                        if not common_days_selection_2:\n",
    "                        \n",
    "                            ## Select common days between the adults (both, first selected adult and his/her partner) and children, from the list (day_list):\n",
    "                            common_day_list = list(reduce(lambda i, j: i & j, (set(x) for x in common_days_selection_2)))\n",
    "\n",
    "\n",
    "\n",
    "\n",
    "                            # If there is not any common day, do the match with the other adult (in this case, with the partner)\n",
    "                            if (len(common_day_list) == 0):\n",
    "                                common_days_selection_3 = []\n",
    "\n",
    "                                common_days_selection_3.append(day_list_partner_chosen)\n",
    "                                common_days_selection_3.append(day_list_children_chosen)\n",
    "\n",
    "                                ## Select common days between the adults (both, first selected adult and his/her partner) and children, from the list (day_list):\n",
    "                                common_day_list = list(reduce(lambda i, j: i & j, (set(x) for x in common_days_selection_3)))\n",
    "\n",
    "\n",
    "                                if (len(common_day_list) > 0):\n",
    "                                    ## Select a random value of the list (in case there are more than one)\n",
    "                                    common_day = random.choice(common_day_list)\n",
    "\n",
    "                                    spenser_partner_chosen = True\n",
    "                                    spenser_children_chosen = True\n",
    "\n",
    "                            else:\n",
    "\n",
    "                                ## Select a random value of the list (in case there are more than one)\n",
    "                                common_day = random.choice(common_day_list)\n",
    "\n",
    "                                spenser_person_chosen = True\n",
    "                                spenser_children_chosen = True\n",
    "                        \n",
    "                        \n",
    "                        # Identify the days in common between partner and children   \n",
    "                        else:\n",
    "\n",
    "                            common_days_selection_2.append(day_list_partner_chosen)\n",
    "                            common_days_selection_2.append(day_list_children_chosen)\n",
    "\n",
    "                            # if the list is not empty:\n",
    "                            if not common_days_selection_2:\n",
    "\n",
    "                                ## Select common days between the adults (both, first selected adult and his/her partner) and children, from the list (day_list):\n",
    "                                common_day_list = list(reduce(lambda i, j: i & j, (set(x) for x in common_days_selection_2)))\n",
    "\n",
    "\n",
    "                                # If there is not any common day, do the match with the other adult (in this case, with the partner)\n",
    "                                if (len(common_day_list) == 0):\n",
    "                                    common_days_selection_3 = []\n",
    "\n",
    "                                    common_days_selection_3.append(day_list_NTS_adult_chosen)\n",
    "                                    common_days_selection_3.append(day_list_children_chosen)\n",
    "\n",
    "                                    ## Select common days between the adults (both, first selected adult and his/her partner) and children, from the list (day_list):\n",
    "                                    common_day_list = list(reduce(lambda i, j: i & j, (set(x) for x in common_days_selection_3)))\n",
    "\n",
    "                                    if (len(common_day_list) > 0):\n",
    "\n",
    "                                        ## Select a random value of the list (in case there are more than one)\n",
    "                                        common_day = random.choice(common_day_list)\n",
    "\n",
    "                                        spenser_person_chosen = True\n",
    "                                        spenser_children_chosen = True\n",
    "\n",
    "\n",
    "                                else:\n",
    "\n",
    "                                    ## Select a random value of the list (in case there are more than one)\n",
    "                                    common_day = random.choice(common_day_list)\n",
    "\n",
    "                                    spenser_partner_chosen = True\n",
    "                                    spenser_children_chosen = True\n",
    "                                \n",
    "\n",
    "                    # Identify the days in common between partner and children   \n",
    "                    else:\n",
    "\n",
    "                        common_days_selection_2.append(day_list_partner_chosen)\n",
    "                        common_days_selection_2.append(day_list_children_chosen)\n",
    "                        \n",
    "                        # if the list is not empty:\n",
    "                        if not common_days_selection_2:\n",
    "\n",
    "                            ## Select common days between the adults (both, first selected adult and his/her partner) and children, from the list (day_list):\n",
    "                            common_day_list = list(reduce(lambda i, j: i & j, (set(x) for x in common_days_selection_2)))\n",
    "\n",
    "\n",
    "                            # If there is not any common day, do the match with the other adult (in this case, with the partner)\n",
    "                            if (len(common_day_list) == 0):\n",
    "                                common_days_selection_3 = []\n",
    "\n",
    "                                common_days_selection_3.append(day_list_NTS_adult_chosen)\n",
    "                                common_days_selection_3.append(day_list_children_chosen)\n",
    "\n",
    "                                ## Select common days between the adults (both, first selected adult and his/her partner) and children, from the list (day_list):\n",
    "                                common_day_list = list(reduce(lambda i, j: i & j, (set(x) for x in common_days_selection_3)))\n",
    "\n",
    "                                if (len(common_day_list) > 0):\n",
    "\n",
    "                                    ## Select a random value of the list (in case there are more than one)\n",
    "                                    common_day = random.choice(common_day_list)\n",
    "\n",
    "                                    spenser_person_chosen = True\n",
    "                                    spenser_children_chosen = True\n",
    "\n",
    "\n",
    "                            else:\n",
    "\n",
    "                                ## Select a random value of the list (in case there are more than one)\n",
    "                                common_day = random.choice(common_day_list)\n",
    "\n",
    "                                spenser_partner_chosen = True\n",
    "                                spenser_children_chosen = True\n",
    "\n",
    "\n",
    "\n",
    "                else:\n",
    "\n",
    "                    ## Select a random value of the list (in case there are more than one)\n",
    "                    common_day = random.choice(common_day_list)\n",
    "\n",
    "                    spenser_partner_chosen = True\n",
    "                    spenser_person_chosen = True\n",
    "                    spenser_children_chosen = True\n",
    "\n",
    "\n",
    "                #################################################################################################################\n",
    "\n",
    "\n",
    "            elif (nts_partner_selected == True) & (nts_children_selected ==  False):\n",
    "\n",
    "\n",
    "                # Identify possible day trip from the NTS adults and children selected:\n",
    "                day_list_NTS_adult_chosen = []\n",
    "                day_list_partner_chosen = []\n",
    "                day_list = []\n",
    "\n",
    "                ## df_person_NTS_chosen:\n",
    "                ### Save the NTS IndividualID in a variable\n",
    "                NTS_adult_individualID = df_person_NTS_chosen['IndividualID']\n",
    "\n",
    "                ### Select those trips related to the NTS person selected:\n",
    "                df_days_NTS_adult_chosen = df_days_NTS.loc[(df_days_NTS['IndividualID'] == NTS_adult_individualID)]\n",
    "\n",
    "                ### Check the values from column 'TravelWeekDay_B01ID' (travel day of the week)\n",
    "                NTS_adult_chosen_available_days_list = df_days_NTS_adult_chosen['TravelWeekDay_B01ID'].explode().unique()\n",
    "\n",
    "                ### Save the posible days of the adult chosen in a list:\n",
    "                day_list_NTS_adult_chosen.append(NTS_adult_chosen_available_days_list)\n",
    "\n",
    "                ### Append the days into a list\n",
    "                day_list.append(NTS_adult_chosen_available_days_list)\n",
    "\n",
    "\n",
    "                ## Partner (df_person_NTS_partner_chosen)\n",
    "                ### Save the df_person_NTS_partner_chosen IndividualID in a variable\n",
    "                NTS_partner_individualID = df_person_NTS_partner_chosen['IndividualID']\n",
    "\n",
    "                ### Select those trips related to the NTS person selected:\n",
    "                df_days_NTS_partner_chosen = df_days_NTS.loc[(df_days_NTS['IndividualID'] == NTS_partner_individualID)]\n",
    "\n",
    "                ### Check the values from column 'TravelWeekDay_B01ID' (travel day of the week)\n",
    "                NTS_partner_chosen_available_days_list = df_days_NTS_partner_chosen['TravelWeekDay_B01ID'].explode().unique()\n",
    "\n",
    "                ### Save the posible days of the partner chosen in a list:\n",
    "                day_list_partner_chosen.append(NTS_partner_chosen_available_days_list)\n",
    "\n",
    "                ### Append the days into a list\n",
    "                day_list.append(NTS_partner_chosen_available_days_list)\n",
    "\n",
    "                #################################################################################################################\n",
    "\n",
    "\n",
    "                ## Select common days between the adults (both, first selected adult and his/her partner) and children, from the list (day_list):\n",
    "                common_day_list = list(reduce(lambda i, j: i & j, (set(x) for x in day_list)))\n",
    "                \n",
    "                if (len(common_day_list) > 0):\n",
    "\n",
    "                    ## Select a random value of the list (in case there are more than one)\n",
    "                    common_day = random.choice(common_day_list)\n",
    "\n",
    "                    spenser_person_chosen = True\n",
    "                    spenser_partner_chosen = True\n",
    "                    spenser_children_chosen = False\n",
    "\n",
    "\n",
    "\n",
    "                #################################################################################################################\n",
    "\n",
    "\n",
    "\n",
    "            elif (nts_partner_selected == False) & (nts_children_selected ==  True):\n",
    "\n",
    "                # Identify possible day trip from the NTS adults and children selected:\n",
    "                day_list_NTS_adult_chosen = []\n",
    "                day_list_children_chosen = []\n",
    "                day_list = []\n",
    "\n",
    "                ## df_person_NTS_chosen:\n",
    "                ### Save the NTS IndividualID in a variable\n",
    "                NTS_adult_individualID = df_person_NTS_chosen['IndividualID'].values[0]\n",
    "\n",
    "\n",
    "\n",
    "                ### Select those trips related to the NTS person selected:\n",
    "                df_days_NTS_adult_chosen = df_days_NTS.loc[(df_days_NTS['IndividualID'] == NTS_adult_individualID)]\n",
    "\n",
    "                ### Check the values from column 'TravelWeekDay_B01ID' (travel day of the week)\n",
    "                NTS_adult_chosen_available_days_list = df_days_NTS_adult_chosen['TravelWeekDay_B01ID'].explode().unique()\n",
    "\n",
    "                ### Save the posible days of the adult chosen in a list:\n",
    "                day_list_NTS_adult_chosen.append(NTS_adult_chosen_available_days_list)\n",
    "\n",
    "                ### Append the days into a list\n",
    "                day_list.append(NTS_adult_chosen_available_days_list)\n",
    "\n",
    "\n",
    "                ## Children:\n",
    "                ### loop through each of the children, find the days for everyone and save them in a list (day_list):\n",
    "                for idx_children_1_NTS, children_1_NTS in df_person_NTS_children_chosen.iterrows():\n",
    "\n",
    "                    ### Save the NTS child IndividualID in a variable\n",
    "                    nts_child_individualID = children_1_NTS['IndividualID']\n",
    "\n",
    "                    ### Select those trips related to the NTS child selected:\n",
    "                    df_days_NTS_chil_chosen = df_days_NTS.loc[(df_days_NTS['IndividualID'] == nts_child_individualID)]\n",
    "\n",
    "                    ### Check the values from column 'TravelWeekDay_B01ID' (travel day of the week)\n",
    "                    NTS_children_chosen_available_days_list = df_days_NTS_adult_chosen['TravelWeekDay_B01ID'].explode().unique()\n",
    "\n",
    "                    ### Save the posible days of the child in a list:\n",
    "                    day_list_children_chosen.append(NTS_children_chosen_available_days_list)\n",
    "\n",
    "                    ### Append the days into a list\n",
    "                    day_list.append(NTS_children_chosen_available_days_list)\n",
    "\n",
    "\n",
    "                #################################################################################################################\n",
    "\n",
    "\n",
    "                ## Select common days between the adults (both, first selected adult and his/her partner) and children, from the list (day_list):\n",
    "                common_day_list = list(reduce(lambda i, j: i & j, (set(x) for x in day_list)))\n",
    "\n",
    "                if (len(common_day_list) > 0):\n",
    "                \n",
    "                    common_day = random.choice(common_day_list)\n",
    "\n",
    "                    spenser_person_chosen = True\n",
    "                    spenser_children_chosen = True\n",
    "                    spenser_partner_chosen = False\n",
    "\n",
    "\n",
    "                #################################################################################################################\n",
    "\n",
    "            elif (nts_partner_selected == False) & (nts_children_selected ==  False) & (spenser_person_marital == 'Single'):\n",
    "\n",
    "                # Identify possible day trip from the NTS adults and children selected:\n",
    "                day_list_NTS_adult_chosen = []\n",
    "\n",
    "\n",
    "                ## df_person_NTS_chosen:\n",
    "                ### Save the NTS IndividualID in a variable\n",
    "\n",
    "                if isinstance(df_person_NTS_chosen['IndividualID'], int):\n",
    "\n",
    "                    NTS_adult_individualID = df_person_NTS_chosen['IndividualID']\n",
    "\n",
    "                else:\n",
    "                    NTS_adult_individualID = df_person_NTS_chosen['IndividualID'].values[0]\n",
    "\n",
    "                ### Select those trips related to the NTS person selected:\n",
    "                df_days_NTS_adult_chosen = df_days_NTS.loc[(df_days_NTS['IndividualID'] == NTS_adult_individualID)]\n",
    "\n",
    "                ### Check the values from column 'TravelWeekDay_B01ID' (travel day of the week)\n",
    "                NTS_adult_chosen_available_days_list = df_days_NTS_adult_chosen['TravelWeekDay_B01ID'].explode().unique()\n",
    "\n",
    "                \n",
    "                if (len(NTS_adult_chosen_available_days_list) > 0):\n",
    "                \n",
    "                    ## Select a random value of the list (in case there are more than one)\n",
    "                    common_day = random.choice(NTS_adult_chosen_available_days_list)\n",
    "\n",
    "\n",
    "\n",
    "                    spenser_person_chosen = True\n",
    "                    spenser_partner_chosen = False\n",
    "                    spenser_children_chosen = False\n",
    "\n",
    "\n",
    "\n",
    "            #################################################################################################################\n",
    "\n",
    "            ## Match them accordingly:\n",
    "\n",
    "            if (spenser_person_chosen == True):\n",
    "\n",
    "                # Select those trips related to the NTS person selected:\n",
    "                ## df_person_NTS_chosen:\n",
    "                df_days_NTS_adult_chosen = df_days_NTS.loc[(df_days_NTS['IndividualID'] == NTS_adult_individualID) &\n",
    "                                                        (df_days_NTS['TravelWeekDay_B01ID'] == common_day)]\n",
    "\n",
    "                ### df_person_NTS_chosen:\n",
    "                NTS_SPENSER_adult_matched_list = []\n",
    "\n",
    "                a = person_1_SPENSER['PID_AreaMSOA']\n",
    "                b = person_1_SPENSER['HID_AreaOA']\n",
    "                c = df_days_NTS_adult_chosen['IndividualID'].values[0]\n",
    "                d = df_days_NTS_adult_chosen['HouseholdID'].values[0]\n",
    "                e = df_days_NTS_adult_chosen['PSUID'].values[0]\n",
    "                f = df_days_NTS_adult_chosen['DayID'].values[0]\n",
    "\n",
    "                # Append data into a list:\n",
    "                NTS_SPENSER_adult_matched_list = [a,b,c,d,e,f]\n",
    "\n",
    "                # Append the information of the child with the other adults and children already matched\n",
    "                NTS_SPENSER_all_matched_list.append(NTS_SPENSER_adult_matched_list)\n",
    "                \n",
    "    \n",
    "                df_person = pd.DataFrame(NTS_SPENSER_adult_matched_list).T\n",
    "\n",
    "                \n",
    "                \n",
    "                \n",
    "                \n",
    "                df_person.to_csv(file_nts_to_spenser_updated_temp, encoding='utf-8', mode='a', index=False, header=False)\n",
    "                \n",
    "                ############################\n",
    "\n",
    "\n",
    "            if (spenser_partner_chosen == True):\n",
    "\n",
    "                ## Partner (df_person_NTS_partner_chosen):\n",
    "                nts_partner_ID = df_person_NTS_partner_chosen['IndividualID']\n",
    "\n",
    "                ## df_person_NTS_partner_chosen:\n",
    "                df_days_NTS_partner_chosen = df_days_NTS.loc[(df_days_NTS['IndividualID'] == nts_partner_ID) &\n",
    "                                                        (df_days_NTS['TravelWeekDay_B01ID'] == common_day)]\n",
    "\n",
    "                ### df_person_NTS_partner_chosen:\n",
    "                NTS_SPENSER_partner_matched_list = []\n",
    "\n",
    "                l = df_person_SPENSER_partner_chosen['PID_AreaMSOA'].values[0]\n",
    "                m = df_person_SPENSER_partner_chosen['HID_AreaOA'].values[0]\n",
    "                n = df_days_NTS_partner_chosen['IndividualID'].values[0]\n",
    "                p = df_days_NTS_partner_chosen['HouseholdID'].values[0]\n",
    "                q = df_days_NTS_partner_chosen['PSUID'].values[0]\n",
    "                s = df_days_NTS_partner_chosen['DayID'].values[0]\n",
    "\n",
    "                # Append data into a list:\n",
    "                NTS_SPENSER_partner_matched_list = [l,m,n,p,q,s]\n",
    "\n",
    "                # Append the information of the partner with the other adults and children already matched\n",
    "                NTS_SPENSER_all_matched_list.append(NTS_SPENSER_partner_matched_list)\n",
    "\n",
    "\n",
    "                # Append the SPENSER partner's ID in a list in order to avoid matching them more than once\n",
    "                SPENSER_ID_matched_list.append(NTS_SPENSER_partner_matched_list[0])\n",
    "                \n",
    "                \n",
    "                df_partner = pd.DataFrame(NTS_SPENSER_partner_matched_list).T\n",
    "                \n",
    "                df_partner.to_csv(file_nts_to_spenser_updated_temp, encoding='utf-8', mode='a', index=False, header=False)\n",
    "\n",
    "\n",
    "\n",
    "            if ((spenser_children_chosen == True) and  (nts_children_selected == True)):\n",
    "\n",
    "\n",
    "                ## Children:\n",
    "                ### loop through each of the children, find the days for everyone and save them in a list (day_list):\n",
    "                for idx_children_1_SPENSER, children_1_SPENSER in df_person_SPENSER_children_chosen.iterrows():\n",
    "\n",
    "                    # Create a temporal list to append each iteration:\n",
    "                    NTS_SPENSER_child_matched_list = []\n",
    "\n",
    "                    child_age = children_1_SPENSER['Age']\n",
    "\n",
    "\n",
    "\n",
    "\n",
    "                    #Choose the NTS children that is the closest in age to children_1_NTS \n",
    "\n",
    "                    NTS_child_index = df_person_NTS_children_chosen['Age'].sub(child_age).abs().idxmin()\n",
    "\n",
    "                    df_NTS_child_chosen = df_person_NTS_children_chosen.loc[NTS_child_index]\n",
    "\n",
    "                    ### Save the NTS child IndividualID in a variable\n",
    "                    NTS_childID_chosen = df_NTS_child_chosen['IndividualID']\n",
    "\n",
    "                    #Select those trips related to the NTS child selected:\n",
    "                    df_days_NTS_child_chosen = df_days_NTS.loc[(df_days_NTS['IndividualID'] == NTS_childID_chosen) &\n",
    "                                                    (df_days_NTS['TravelWeekDay_B01ID'] == common_day)]\n",
    "                    \n",
    "                    \n",
    "                    #print(df_days_NTS_child_chosen)\n",
    "                    \n",
    "                    #NTS_childID_chosen = df_days_NTS_child_chosen['IndividualID'].values[0]\n",
    "                    #NTS_child_hh_ID_chosen = df_days_NTS_child_chosen['HouseholdID'].values[0]\n",
    "                    #NTS_child_PSUID_chosen = df_days_NTS_child_chosen['PSUID'].values[0]\n",
    "                    #NTS_child_DayID_chosen = df_days_NTS_child_chosen['DayID'].values[0]\n",
    "                    \n",
    "                    \n",
    "                    if (len(df_days_NTS_child_chosen) > 0):\n",
    "\n",
    "                        u = children_1_SPENSER['PID_AreaMSOA']\n",
    "                        v = children_1_SPENSER['HID_AreaOA']\n",
    "                        #w = NTS_childID_chosen\n",
    "                        #x = NTS_child_hh_ID_chosen\n",
    "                        #y = NTS_child_PSUID_chosen\n",
    "                        #z = NTS_child_DayID_chosen\n",
    "                        w = df_days_NTS_child_chosen.iat[0,2]\n",
    "                        x = df_days_NTS_child_chosen.iat[0,3]\n",
    "                        y = df_days_NTS_child_chosen.iat[0,4]\n",
    "                        z = df_days_NTS_child_chosen.iat[0,1]\n",
    "\n",
    "\n",
    "\n",
    "\n",
    "\n",
    "                        # Save the information of the child\n",
    "                        NTS_SPENSER_child_matched_list = [u,v,w,x,y,z]\n",
    "\n",
    "                        # Append the SPENSER partner's ID in a list in order to avoid matching them more than once\n",
    "                        SPENSER_ID_matched_list.append(NTS_SPENSER_child_matched_list[0])\n",
    "\n",
    "\n",
    "                        # Append the information of the child with the other adults and children already matched\n",
    "                        NTS_SPENSER_all_matched_list.append(NTS_SPENSER_child_matched_list)\n",
    "\n",
    "\n",
    "                        df_children = pd.DataFrame(NTS_SPENSER_child_matched_list).T\n",
    "\n",
    "                        df_children.to_csv(file_nts_to_spenser_updated_temp, encoding='utf-8', mode='a', index=False, header=False)\n",
    "\n",
    "                   ######################################################################################################## \n",
    "\n",
    "\n",
    "# concatenate all persons (lists of the 'df_persons_NE_OA_HID_temp' list) in one dataframe\n",
    "df_NTS_SPENSER_matched = pd.DataFrame(NTS_SPENSER_all_matched_list, columns =['PID_AreaMSOA',\n",
    "                                                                                    'HID_AreaOA', \n",
    "                                                                                    'IndividualID',\n",
    "                                                                                    'HouseholdID',\n",
    "                                                                                    'PSUID',\n",
    "                                                                                    'DayID'])        \n",
    "\n",
    "     \n",
    "    \n",
    "print('Process has finished, check the results!')"
   ]
  },
  {
   "cell_type": "code",
   "execution_count": null,
   "metadata": {},
   "outputs": [],
   "source": [
    "t2 = time.time()\n",
    "print('Time taken (h): ', (t2 - t0) / 3600)"
   ]
  },
  {
   "cell_type": "code",
   "execution_count": null,
   "metadata": {},
   "outputs": [],
   "source": [
    "len(df_NTS_SPENSER_matched)"
   ]
  },
  {
   "cell_type": "code",
   "execution_count": null,
   "metadata": {},
   "outputs": [],
   "source": []
  },
  {
   "cell_type": "code",
   "execution_count": null,
   "metadata": {},
   "outputs": [],
   "source": [
    "#####################################################"
   ]
  },
  {
   "cell_type": "code",
   "execution_count": null,
   "metadata": {},
   "outputs": [],
   "source": [
    "duplicate = df_NTS_SPENSER_matched[df_NTS_SPENSER_matched.duplicated('PID_AreaMSOA')]"
   ]
  },
  {
   "cell_type": "code",
   "execution_count": null,
   "metadata": {},
   "outputs": [],
   "source": [
    "len(duplicate)"
   ]
  },
  {
   "cell_type": "code",
   "execution_count": null,
   "metadata": {},
   "outputs": [],
   "source": [
    "duplicate"
   ]
  },
  {
   "cell_type": "code",
   "execution_count": null,
   "metadata": {},
   "outputs": [],
   "source": [
    "PID_MSOA_values = duplicate['PID_AreaMSOA'].tolist()"
   ]
  },
  {
   "cell_type": "code",
   "execution_count": null,
   "metadata": {},
   "outputs": [],
   "source": [
    "a = df_persons_SPENSER.loc[(df_persons_SPENSER['PID_AreaMSOA'].isin(PID_MSOA_values))]"
   ]
  },
  {
   "cell_type": "code",
   "execution_count": null,
   "metadata": {},
   "outputs": [],
   "source": [
    "a['Age'].min()"
   ]
  },
  {
   "cell_type": "code",
   "execution_count": null,
   "metadata": {},
   "outputs": [],
   "source": [
    "a['Age'].max()"
   ]
  },
  {
   "cell_type": "markdown",
   "metadata": {},
   "source": [
    "##### duplicate rows belong to individuals aged < 16 --> they were matched more than once with their 'parents' or people in the household with children dependencies"
   ]
  },
  {
   "cell_type": "code",
   "execution_count": null,
   "metadata": {},
   "outputs": [],
   "source": [
    "#Remove duplicates\n",
    "df_NTS_SPENSER_matched_unique = df_NTS_SPENSER_matched.drop_duplicates(subset='PID_AreaMSOA', keep = 'first')\n",
    "        "
   ]
  },
  {
   "cell_type": "code",
   "execution_count": null,
   "metadata": {},
   "outputs": [],
   "source": [
    "len(df_NTS_SPENSER_matched_unique)"
   ]
  },
  {
   "cell_type": "code",
   "execution_count": null,
   "metadata": {},
   "outputs": [],
   "source": [
    "len(df_NTS_SPENSER_matched) - len(duplicate)"
   ]
  },
  {
   "cell_type": "code",
   "execution_count": null,
   "metadata": {},
   "outputs": [],
   "source": [
    "## % of unique individuals matched: "
   ]
  },
  {
   "cell_type": "code",
   "execution_count": null,
   "metadata": {},
   "outputs": [],
   "source": [
    "100 - ((len(df_persons_SPENSER) -  len(df_NTS_SPENSER_matched_unique))/len(df_persons_SPENSER) * 100)"
   ]
  },
  {
   "cell_type": "code",
   "execution_count": null,
   "metadata": {},
   "outputs": [],
   "source": [
    "df_NTS_SPENSER_matched_unique['DayID'].nunique()"
   ]
  },
  {
   "cell_type": "code",
   "execution_count": null,
   "metadata": {},
   "outputs": [],
   "source": [
    "len(df_days_NTS) - df_NTS_SPENSER_matched_unique['DayID'].nunique()"
   ]
  },
  {
   "cell_type": "code",
   "execution_count": null,
   "metadata": {},
   "outputs": [],
   "source": [
    "df_NTS_SPENSER_matched_unique['DayID'].nunique()/len(df_days_NTS) * 100"
   ]
  },
  {
   "cell_type": "code",
   "execution_count": null,
   "metadata": {},
   "outputs": [],
   "source": []
  },
  {
   "cell_type": "code",
   "execution_count": null,
   "metadata": {},
   "outputs": [],
   "source": [
    "# Save the data as csv file:\n",
    "df_NTS_SPENSER_matched_unique_export_20220509 = df_NTS_SPENSER_matched_unique\n",
    "\n",
    "df_NTS_SPENSER_matched_unique_export_20220509.to_csv(r'') # Use your file path\n"
   ]
  },
  {
   "cell_type": "code",
   "execution_count": null,
   "metadata": {},
   "outputs": [],
   "source": [
    "###################################################################################\n",
    "###################################################################################\n",
    "\n",
    "\n",
    "\n",
    "\n",
    "###################################################################################\n",
    "###################################################################################"
   ]
  },
  {
   "cell_type": "code",
   "execution_count": null,
   "metadata": {},
   "outputs": [],
   "source": [
    "## Dataframe containing those individuals not matched yet (df_persons_SPENSER_remaining):"
   ]
  },
  {
   "cell_type": "code",
   "execution_count": null,
   "metadata": {},
   "outputs": [],
   "source": [
    "PID_MSOA_matched_list = df_NTS_SPENSER_matched_unique['PID_AreaMSOA'].tolist()"
   ]
  },
  {
   "cell_type": "code",
   "execution_count": null,
   "metadata": {},
   "outputs": [],
   "source": [
    "len(PID_MSOA_matched_list)"
   ]
  },
  {
   "cell_type": "code",
   "execution_count": null,
   "metadata": {},
   "outputs": [],
   "source": [
    "df_persons_SPENSER_remaining = df_persons_SPENSER.loc[~(df_persons_SPENSER['PID_AreaMSOA'].isin(PID_MSOA_matched_list))]"
   ]
  },
  {
   "cell_type": "code",
   "execution_count": null,
   "metadata": {},
   "outputs": [],
   "source": [
    "len(df_persons_SPENSER_remaining)"
   ]
  },
  {
   "cell_type": "code",
   "execution_count": null,
   "metadata": {},
   "outputs": [],
   "source": [
    "len(df_persons_SPENSER) - len(df_NTS_SPENSER_matched_unique)"
   ]
  },
  {
   "cell_type": "code",
   "execution_count": null,
   "metadata": {},
   "outputs": [],
   "source": []
  },
  {
   "cell_type": "code",
   "execution_count": null,
   "metadata": {},
   "outputs": [],
   "source": [
    "# Create lists containing the variables for each of the attributes:\n",
    "\n",
    "sex_list = [1,2]\n",
    "marital_status_list = ['Married or couple', 'Single']\n",
    "age_list = [(0,5), (6,10), (11,15), (16,19), (20,29), (30,39), (40,49), (50,59), (60,64), (65,75), (76,120)]\n",
    "children_dependency_list = [False, True]\n",
    "driving_license_list = [False, True]\n",
    "car_access_list = [False, True]\n",
    "bike_access_list = [False, True]\n",
    "economic_activity_list = ['Employed', 'Inactive Looking after home family', 'Inactive Child student',\n",
    "                          'Inactive Other', 'Inactive Retired', 'Inactive Sick', 'Inactive Student', 'Unemployed']\n",
    "\n",
    "income_list = ['group_0', 'group_1', 'group_2', 'group_3', 'group_4', 'group_5']\n"
   ]
  },
  {
   "cell_type": "code",
   "execution_count": null,
   "metadata": {},
   "outputs": [],
   "source": [
    "total_possible_combinations = len(sex_list) * len(marital_status_list) * len(age_list) * len(children_dependency_list) * len(driving_license_list) * len(car_access_list) * len(bike_access_list) * len(economic_activity_list) * len(income_list)"
   ]
  },
  {
   "cell_type": "code",
   "execution_count": null,
   "metadata": {},
   "outputs": [],
   "source": [
    "### WARNING: \n",
    "### Function considering ALL persons as individuals without any interaction with other member of the household.\n",
    "\n",
    "\n",
    "counter = 0\n",
    "\n",
    "# Empty list where SPENSER-NTS matched individuals are going to be temporarly stored\n",
    "NTS_SPENSER_individual_matched_temp_list = []\n",
    "\n",
    "\n",
    "print('vamos...')\n",
    "\n",
    "for sex in sex_list:\n",
    "    for marital_status in marital_status_list:\n",
    "        for age in age_list:\n",
    "            for children_dependency in children_dependency_list:\n",
    "                for driving_license in driving_license_list:\n",
    "                    for car_access in car_access_list:\n",
    "                        for bike_access in bike_access_list:\n",
    "                            for economic_activity in economic_activity_list:\n",
    "                                for income in income_list:\n",
    "                                    \n",
    "                                    clear_output(wait=True)\n",
    "                                    counter += 1\n",
    "                                    print(f'loop: {counter} of {total_possible_combinations}')\n",
    "                                    \n",
    "                                    \n",
    "                                    \n",
    "                                    # Select those agents from NTS that meet previous conditions\n",
    "                                    df_NTS_selected = df_persons_NTS.loc[(df_persons_NTS['Sex'] == sex) &\n",
    "                                                                     (df_persons_NTS['Age'] >= age[0]) &\n",
    "                                                                     (df_persons_NTS['Age'] <= age[1]) &\n",
    "                                                                     (df_persons_NTS['Marital_status'] == marital_status) &\n",
    "                                                                     (df_persons_NTS['Children_dependency'] == children_dependency) &\n",
    "                                                                     (df_persons_NTS['Driving_license'] == driving_license) &\n",
    "                                                                     (df_persons_NTS['Car_access'] == car_access) &\n",
    "                                                                     (df_persons_NTS['Bike_access'] == bike_access) &\n",
    "                                                                     (df_persons_NTS['Economic_activity'] == economic_activity) &\n",
    "                                                                     (df_persons_NTS['Income_group'] == income)] \n",
    "\n",
    "                                    #print(len(df_NTS_selected))\n",
    "                                    \n",
    "                                    # Select those agents from SPENSER that meet previous conditions\n",
    "                                    df_SPENSER_selected = df_persons_SPENSER_remaining.loc[(df_persons_SPENSER_remaining['Sex'] == sex) &\n",
    "                                                                     (df_persons_SPENSER_remaining['Age'] >= age[0]) &\n",
    "                                                                     (df_persons_SPENSER_remaining['Age'] <= age[1]) &\n",
    "                                                                     (df_persons_SPENSER_remaining['Marital_status'] == marital_status) &\n",
    "                                                                     (df_persons_SPENSER_remaining['Children_dependency'] == children_dependency) &\n",
    "                                                                     (df_persons_SPENSER_remaining['Driving_license'] == driving_license) &\n",
    "                                                                     (df_persons_SPENSER_remaining['Car_access'] == car_access) &\n",
    "                                                                     (df_persons_SPENSER_remaining['Bike_access'] == bike_access) &\n",
    "                                                                     (df_persons_SPENSER_remaining['Economic_activity'] == economic_activity) &\n",
    "                                                                     (df_persons_SPENSER_remaining['Income_group'] == income)] \n",
    "\n",
    "                \n",
    "\n",
    "                                    \n",
    "                                    \n",
    "                                    \n",
    "                                    \n",
    "                                    \n",
    "                                    ## START THE ANALYSIS:\n",
    "\n",
    "                                    \n",
    "                                    #If both dataframes contains persons:\n",
    "                                    ## MATCH POSSIBLE CONNECTIONS BETWEEN NTS AND SPENSER, based on if they are a family or not\n",
    "                                    ### e.g., married or coule and children dependency\n",
    "                                    if (len(df_NTS_selected) != 0 and len(df_SPENSER_selected) != 0):\n",
    "                                        \n",
    "      \n",
    "                                        \n",
    "                                        # Loop through each of the SPENSER people\n",
    "                                        for idx_person_1_SPENSER, person_1_SPENSER in df_SPENSER_selected.iterrows():\n",
    "                                            \n",
    "                                            # Randomly sample 1 elements from df_NTS_selected\n",
    "                                            df_NTS_selected_chosen = df_NTS_selected.sample(n=1)\n",
    "                                            \n",
    "                                            # Save the NTS IndividualID in a variable\n",
    "                                            NTS_individualID = df_NTS_selected_chosen['IndividualID'].values[0]\n",
    "                                            \n",
    "                                            #Select those trips related to the NTS person selected:\n",
    "                                            df_days_NTS_individual_chosen = df_days_NTS.loc[(df_days_NTS['IndividualID'] == NTS_individualID)]\n",
    "                                            \n",
    "                                            \n",
    "                                            # Randomly sample 1 elements from df_days_NTS_individual_chosen\n",
    "                                            ## This is the trip that is going to be assigned to the SPENSER individual\n",
    "                                            df_NTS_day_chosen = df_days_NTS_individual_chosen.sample(n=1)\n",
    "                                            \n",
    "                                            \n",
    "                                            # Create an empty list where infomration of SPENSER and NTS individual matched \n",
    "                                            ## will be stored\n",
    "                                            \n",
    "                                            NTS_SPENSER_individual_matched_list = []\n",
    "                                            \n",
    "                                            \n",
    "                                            a = person_1_SPENSER['PID_AreaMSOA']\n",
    "                                            b = person_1_SPENSER['HID_AreaOA']\n",
    "                                            c = df_NTS_day_chosen['IndividualID'].values[0]\n",
    "                                            d = df_NTS_day_chosen['HouseholdID'].values[0]\n",
    "                                            e = df_NTS_day_chosen['PSUID'].values[0]\n",
    "                                            f = df_NTS_day_chosen['DayID'].values[0]\n",
    "                                            \n",
    "\n",
    "                                            NTS_SPENSER_individual_matched_list = [a,b,c,d,e,f]\n",
    "\n",
    "                                            \n",
    "                                            #Append the NTS_SPENSER_individual_matched_list into the temporal list\n",
    "                                            NTS_SPENSER_individual_matched_temp_list.append(NTS_SPENSER_individual_matched_list) \n",
    "\n",
    "       \n",
    "    \n",
    "#concatenate all persons (lists of the 'df_persons_NE_OA_HID_temp' list) in one dataframe\n",
    "df_NTS_SPENSER_matched_no_interactions = pd.DataFrame(NTS_SPENSER_individual_matched_temp_list, columns =['PID_AreaMSOA',\n",
    "                                                                                                          'HID_AreaOA', \n",
    "                                                                                                          'IndividualID',\n",
    "                                                                                                          'HouseholdID',\n",
    "                                                                                                          'PSUID',\n",
    "                                                                                                          'DayID'], dtype = int)        \n",
    "\n",
    "        \n",
    "                \n",
    "                \n",
    "                \n",
    "\n",
    "\n",
    "\n",
    "print('Process has finished, check the results!')\n"
   ]
  },
  {
   "cell_type": "code",
   "execution_count": null,
   "metadata": {},
   "outputs": [],
   "source": [
    "len(df_NTS_SPENSER_matched_no_interactions)"
   ]
  },
  {
   "cell_type": "code",
   "execution_count": null,
   "metadata": {},
   "outputs": [],
   "source": [
    "len(df_persons_SPENSER_remaining) - len(df_NTS_SPENSER_matched_no_interactions)"
   ]
  },
  {
   "cell_type": "code",
   "execution_count": null,
   "metadata": {},
   "outputs": [],
   "source": [
    "(len(df_persons_SPENSER_remaining) - len(df_NTS_SPENSER_matched_no_interactions))/ (len(df_persons_SPENSER_remaining)) * 100"
   ]
  },
  {
   "cell_type": "code",
   "execution_count": null,
   "metadata": {},
   "outputs": [],
   "source": [
    "len(df_NTS_SPENSER_matched_no_interactions)/ len(df_persons_SPENSER_remaining) * 100"
   ]
  },
  {
   "cell_type": "code",
   "execution_count": null,
   "metadata": {},
   "outputs": [],
   "source": [
    "# Save the data as csv file:\n",
    "df_NTS_SPENSER_matched_no_interactions_1_export_20220509 = df_NTS_SPENSER_matched_no_interactions\n",
    "\n",
    "df_NTS_SPENSER_matched_no_interactions_1_export_20220509.to_csv(r'') # use your file path"
   ]
  },
  {
   "cell_type": "code",
   "execution_count": null,
   "metadata": {},
   "outputs": [],
   "source": [
    "# Create a list with all persons unique ID values\n",
    "spenser_individuals_matched_no_interactions_stage1 = df_NTS_SPENSER_matched_no_interactions['PID_AreaMSOA'].unique().tolist()\n"
   ]
  },
  {
   "cell_type": "code",
   "execution_count": null,
   "metadata": {},
   "outputs": [],
   "source": [
    "## new dataframe with only those SPENSER individuals that were not matched with a day trip.\n",
    "# Keep only those days that DO NOT belong to the people selected before\n",
    "df_persons_SPENSER_remaining_2 = df_persons_SPENSER_remaining.loc[~(df_persons_SPENSER_remaining['PID_AreaMSOA'].isin(spenser_individuals_matched_no_interactions_stage1))]\n"
   ]
  },
  {
   "cell_type": "code",
   "execution_count": null,
   "metadata": {},
   "outputs": [],
   "source": [
    "total_possible_combinations_2 = len(sex_list) * len(marital_status_list) * len(age_list) * len(children_dependency_list) * len(car_access_list) * len(bike_access_list) * len(economic_activity_list)"
   ]
  },
  {
   "cell_type": "code",
   "execution_count": null,
   "metadata": {},
   "outputs": [],
   "source": [
    "### WARNING: \n",
    "### Function considering ALL persons as individuals without any interaction with other member of the household.\n",
    "\n",
    "\n",
    "counter = 0\n",
    "\n",
    "# Empty list where SPENSER-NTS matched individuals are going to be temporarly stored\n",
    "NTS_SPENSER_individual_matched_temp_list_2 = []\n",
    "\n",
    "\n",
    "print('vamos...')\n",
    "\n",
    "for sex in sex_list:\n",
    "    for marital_status in marital_status_list:\n",
    "        for age in age_list:\n",
    "            for children_dependency in children_dependency_list:\n",
    "                for car_access in car_access_list:\n",
    "                    for bike_access in bike_access_list:\n",
    "                        for economic_activity in economic_activity_list:\n",
    "\n",
    "                            clear_output(wait=True)\n",
    "                            counter += 1\n",
    "                            print(f'loop: {counter} of {total_possible_combinations_2}')\n",
    "\n",
    "\n",
    "                            # Select those agents from NTS that meet previous conditions\n",
    "                            df_NTS_selected = df_persons_NTS.loc[(df_persons_NTS['Sex'] == sex) &\n",
    "                                                             (df_persons_NTS['Age'] >= age[0]) &\n",
    "                                                             (df_persons_NTS['Age'] <= age[1]) &\n",
    "                                                             (df_persons_NTS['Marital_status'] == marital_status) &\n",
    "                                                             (df_persons_NTS['Children_dependency'] == children_dependency) &\n",
    "                                                             (df_persons_NTS['Car_access'] == car_access) &\n",
    "                                                             (df_persons_NTS['Bike_access'] == bike_access) &\n",
    "                                                             (df_persons_NTS['Economic_activity'] == economic_activity)] \n",
    "\n",
    "\n",
    "                            # Select those agents from SPENSER that meet previous conditions\n",
    "                            df_SPENSER_selected = df_persons_SPENSER_remaining_2.loc[(df_persons_SPENSER_remaining_2['Sex'] == sex) &\n",
    "                                                             (df_persons_SPENSER_remaining_2['Age'] >= age[0]) &\n",
    "                                                             (df_persons_SPENSER_remaining_2['Age'] <= age[1]) &\n",
    "                                                             (df_persons_SPENSER_remaining_2['Marital_status'] == marital_status) &\n",
    "                                                             (df_persons_SPENSER_remaining_2['Children_dependency'] == children_dependency) &\n",
    "                                                             (df_persons_SPENSER_remaining_2['Car_access'] == car_access) &\n",
    "                                                             (df_persons_SPENSER_remaining_2['Bike_access'] == bike_access) &\n",
    "                                                             (df_persons_SPENSER_remaining_2['Economic_activity'] == economic_activity)] \n",
    "\n",
    "\n",
    "                            ## START THE ANALYSIS:\n",
    "\n",
    "\n",
    "                            #If both dataframes contains persons:\n",
    "                            ## MATCH POSSIBLE CONNECTIONS BETWEEN NTS AND SPENSER, based on if they are a family or not\n",
    "                            ### e.g., married or coule and children dependency\n",
    "                            if (len(df_NTS_selected) != 0 and len(df_SPENSER_selected) != 0):\n",
    "\n",
    "\n",
    "\n",
    "                                # Loop through each of the SPENSER people\n",
    "                                for idx_person_1_SPENSER, person_1_SPENSER in df_SPENSER_selected.iterrows():\n",
    "\n",
    "                                    # Randomly sample 1 elements from df_NTS_selected\n",
    "                                    df_NTS_selected_chosen = df_NTS_selected.sample(n=1)\n",
    "\n",
    "                                    # Save the NTS IndividualID in a variable\n",
    "                                    NTS_individualID = df_NTS_selected_chosen['IndividualID'].values[0]\n",
    "\n",
    "                                    #Select those trips related to the NTS person selected:\n",
    "                                    df_days_NTS_individual_chosen = df_days_NTS.loc[(df_days_NTS['IndividualID'] == NTS_individualID)]\n",
    "\n",
    "\n",
    "                                    # Randomly sample 1 elements from df_days_NTS_individual_chosen\n",
    "                                    ## This is the trip that is going to be assigned to the SPENSER individual\n",
    "                                    df_NTS_day_chosen = df_days_NTS_individual_chosen.sample(n=1)\n",
    "\n",
    "\n",
    "                                    # Create an empty list where infomration of SPENSER and NTS individual matched \n",
    "                                    ## will be stored\n",
    "\n",
    "                                    NTS_SPENSER_individual_matched_list = []\n",
    "\n",
    "\n",
    "                                    a = person_1_SPENSER['PID_AreaMSOA']\n",
    "                                    b = person_1_SPENSER['HID_AreaOA']\n",
    "                                    c = df_NTS_day_chosen['IndividualID'].values[0]\n",
    "                                    d = df_NTS_day_chosen['HouseholdID'].values[0]\n",
    "                                    e = df_NTS_day_chosen['PSUID'].values[0]\n",
    "                                    f = df_NTS_day_chosen['DayID'].values[0]\n",
    "\n",
    "\n",
    "                                    NTS_SPENSER_individual_matched_list = [a,b,c,d,e,f]\n",
    "\n",
    "\n",
    "                                    #Append the NTS_SPENSER_individual_matched_list into the temporal list\n",
    "                                    NTS_SPENSER_individual_matched_temp_list_2.append(NTS_SPENSER_individual_matched_list) \n",
    "\n",
    "\n",
    "    \n",
    "#concatenate all persons (lists of the 'df_persons_NE_OA_HID_temp' list) in one dataframe\n",
    "df_NTS_SPENSER_matched_no_interactions_2 = pd.DataFrame(NTS_SPENSER_individual_matched_temp_list_2, columns =['PID_AreaMSOA',\n",
    "                                                                                                          'HID_AreaOA', \n",
    "                                                                                                          'IndividualID',\n",
    "                                                                                                          'HouseholdID',\n",
    "                                                                                                          'PSUID',\n",
    "                                                                                                          'DayID'])        \n",
    "\n",
    "\n",
    "\n",
    "print('Process has finished, check the results!')"
   ]
  },
  {
   "cell_type": "code",
   "execution_count": null,
   "metadata": {},
   "outputs": [],
   "source": [
    "len(df_NTS_SPENSER_matched_no_interactions_2)"
   ]
  },
  {
   "cell_type": "code",
   "execution_count": null,
   "metadata": {},
   "outputs": [],
   "source": [
    "len(df_persons_SPENSER_remaining_2) - len(df_NTS_SPENSER_matched_no_interactions_2)"
   ]
  },
  {
   "cell_type": "code",
   "execution_count": null,
   "metadata": {},
   "outputs": [],
   "source": [
    "(len(df_persons_SPENSER_remaining_2) - len(df_NTS_SPENSER_matched_no_interactions_2))/ (len(df_persons_SPENSER_remaining_2)) * 100"
   ]
  },
  {
   "cell_type": "code",
   "execution_count": null,
   "metadata": {},
   "outputs": [],
   "source": [
    "len(df_NTS_SPENSER_matched_no_interactions_2)/ len(df_persons_SPENSER_remaining_2) * 100"
   ]
  },
  {
   "cell_type": "code",
   "execution_count": null,
   "metadata": {},
   "outputs": [],
   "source": [
    "# Save the data as csv file:\n",
    "df_NTS_SPENSER_matched_no_interactions_2_export_20220509 = df_NTS_SPENSER_matched_no_interactions_2\n",
    "\n",
    "df_NTS_SPENSER_matched_no_interactions_2_export_20220509.to_csv(r'') # use your file path"
   ]
  },
  {
   "cell_type": "code",
   "execution_count": null,
   "metadata": {},
   "outputs": [],
   "source": [
    "# Create a list with all persons unique ID values\n",
    "spenser_individuals_matched_no_interactions_stage2 = df_NTS_SPENSER_matched_no_interactions_2['PID_AreaMSOA'].unique().tolist()\n"
   ]
  },
  {
   "cell_type": "code",
   "execution_count": null,
   "metadata": {},
   "outputs": [],
   "source": [
    "## new dataframe with only those SPENSER individuals that were not matched with a day trip.\n",
    "# Keep only those days that DO NOT belong to the people selected before\n",
    "df_persons_SPENSER_remaining_3 = df_persons_SPENSER_remaining_2.loc[~(df_persons_SPENSER_remaining_2['PID_AreaMSOA'].isin(spenser_individuals_matched_no_interactions_stage2))]\n"
   ]
  },
  {
   "cell_type": "code",
   "execution_count": null,
   "metadata": {},
   "outputs": [],
   "source": [
    "\n",
    "age_list_2 = [(0,10), (11,15), (16,19), (20,39), (40,64), (65,120)]\n"
   ]
  },
  {
   "cell_type": "code",
   "execution_count": null,
   "metadata": {},
   "outputs": [],
   "source": [
    "total_possible_combinations_3 = len(sex_list) * len(marital_status_list) * len(age_list_2) * len(children_dependency_list) * len(car_access_list)  * len(economic_activity_list)"
   ]
  },
  {
   "cell_type": "code",
   "execution_count": null,
   "metadata": {},
   "outputs": [],
   "source": [
    "### WARNING: \n",
    "### Function considering ALL persons as individuals without any interaction with other member of the household.\n",
    "\n",
    "\n",
    "counter = 0\n",
    "\n",
    "# Empty list where SPENSER-NTS matched individuals are going to be temporarly stored\n",
    "NTS_SPENSER_individual_matched_temp_list_3 = []\n",
    "\n",
    "\n",
    "print('vamos...')\n",
    "\n",
    "for sex in sex_list:\n",
    "    for marital_status in marital_status_list:\n",
    "        for age in age_list_2:\n",
    "            for children_dependency in children_dependency_list:\n",
    "                for car_access in car_access_list:\n",
    "                        for economic_activity in economic_activity_list:\n",
    "\n",
    "                            clear_output(wait=True)\n",
    "                            counter += 1\n",
    "                            print(f'loop: {counter} of {total_possible_combinations_3}')\n",
    "\n",
    "\n",
    "                            # Select those agents from NTS that meet previous conditions\n",
    "                            df_NTS_selected = df_persons_NTS.loc[(df_persons_NTS['Sex'] == sex) &\n",
    "                                                             (df_persons_NTS['Age'] >= age[0]) &\n",
    "                                                             (df_persons_NTS['Age'] <= age[1]) &\n",
    "                                                             (df_persons_NTS['Marital_status'] == marital_status) &\n",
    "                                                             (df_persons_NTS['Children_dependency'] == children_dependency) &\n",
    "                                                             (df_persons_NTS['Car_access'] == car_access) &\n",
    "                                                             (df_persons_NTS['Economic_activity'] == economic_activity)] \n",
    "\n",
    "\n",
    "                            # Select those agents from SPENSER that meet previous conditions\n",
    "                            df_SPENSER_selected = df_persons_SPENSER_remaining_3.loc[(df_persons_SPENSER_remaining_3['Sex'] == sex) &\n",
    "                                                             (df_persons_SPENSER_remaining_3['Age'] >= age[0]) &\n",
    "                                                             (df_persons_SPENSER_remaining_3['Age'] <= age[1]) &\n",
    "                                                             (df_persons_SPENSER_remaining_3['Marital_status'] == marital_status) &\n",
    "                                                             (df_persons_SPENSER_remaining_3['Children_dependency'] == children_dependency) &\n",
    "                                                             (df_persons_SPENSER_remaining_3['Car_access'] == car_access) &\n",
    "                                                             (df_persons_SPENSER_remaining_3['Economic_activity'] == economic_activity)] \n",
    "\n",
    "\n",
    "                            ## START THE ANALYSIS:\n",
    "\n",
    "\n",
    "                            #If both dataframes contains persons:\n",
    "                            ## MATCH POSSIBLE CONNECTIONS BETWEEN NTS AND SPENSER, based on if they are a family or not\n",
    "                            ### e.g., married or coule and children dependency\n",
    "                            if (len(df_NTS_selected) != 0 and len(df_SPENSER_selected) != 0):\n",
    "\n",
    "\n",
    "\n",
    "                                # Loop through each of the SPENSER people\n",
    "                                for idx_person_1_SPENSER, person_1_SPENSER in df_SPENSER_selected.iterrows():\n",
    "\n",
    "                                    # Randomly sample 1 elements from df_NTS_selected\n",
    "                                    df_NTS_selected_chosen = df_NTS_selected.sample(n=1)\n",
    "\n",
    "                                    # Save the NTS IndividualID in a variable\n",
    "                                    NTS_individualID = df_NTS_selected_chosen['IndividualID'].values[0]\n",
    "\n",
    "                                    #Select those trips related to the NTS person selected:\n",
    "                                    df_days_NTS_individual_chosen = df_days_NTS.loc[(df_days_NTS['IndividualID'] == NTS_individualID)]\n",
    "\n",
    "\n",
    "                                    # Randomly sample 1 elements from df_days_NTS_individual_chosen\n",
    "                                    ## This is the trip that is going to be assigned to the SPENSER individual\n",
    "                                    df_NTS_day_chosen = df_days_NTS_individual_chosen.sample(n=1)\n",
    "\n",
    "\n",
    "                                    # Create an empty list where infomration of SPENSER and NTS individual matched \n",
    "                                    ## will be stored\n",
    "\n",
    "                                    NTS_SPENSER_individual_matched_list = []\n",
    "\n",
    "\n",
    "                                    a = person_1_SPENSER['PID_AreaMSOA']\n",
    "                                    b = person_1_SPENSER['HID_AreaOA']\n",
    "                                    c = df_NTS_day_chosen['IndividualID'].values[0]\n",
    "                                    d = df_NTS_day_chosen['HouseholdID'].values[0]\n",
    "                                    e = df_NTS_day_chosen['PSUID'].values[0]\n",
    "                                    f = df_NTS_day_chosen['DayID'].values[0]\n",
    "\n",
    "\n",
    "                                    NTS_SPENSER_individual_matched_list = [a,b,c,d,e,f]\n",
    "\n",
    "\n",
    "                                    #Append the NTS_SPENSER_individual_matched_list into the temporal list\n",
    "                                    NTS_SPENSER_individual_matched_temp_list_3.append(NTS_SPENSER_individual_matched_list) \n",
    "\n",
    "\n",
    "    \n",
    "#concatenate all persons (lists of the 'df_persons_NE_OA_HID_temp' list) in one dataframe\n",
    "df_NTS_SPENSER_matched_no_interactions_3 = pd.DataFrame(NTS_SPENSER_individual_matched_temp_list_3, columns =['PID_AreaMSOA',\n",
    "                                                                                                          'HID_AreaOA', \n",
    "                                                                                                          'IndividualID',\n",
    "                                                                                                          'HouseholdID',\n",
    "                                                                                                          'PSUID',\n",
    "                                                                                                          'DayID'])        \n",
    "\n",
    "\n",
    "\n",
    "print('Process has finished, check the results!')"
   ]
  },
  {
   "cell_type": "code",
   "execution_count": null,
   "metadata": {},
   "outputs": [],
   "source": [
    "len(df_NTS_SPENSER_matched_no_interactions_3)"
   ]
  },
  {
   "cell_type": "code",
   "execution_count": null,
   "metadata": {},
   "outputs": [],
   "source": [
    "len(df_persons_SPENSER_remaining_3) - len(df_NTS_SPENSER_matched_no_interactions_3)"
   ]
  },
  {
   "cell_type": "code",
   "execution_count": null,
   "metadata": {},
   "outputs": [],
   "source": [
    "(len(df_persons_SPENSER_remaining_3) - len(df_NTS_SPENSER_matched_no_interactions_3))/ (len(df_persons_SPENSER_remaining_3)) * 100"
   ]
  },
  {
   "cell_type": "code",
   "execution_count": null,
   "metadata": {},
   "outputs": [],
   "source": [
    "len(df_NTS_SPENSER_matched_no_interactions_3)/ len(df_persons_SPENSER_remaining_3) * 100"
   ]
  },
  {
   "cell_type": "code",
   "execution_count": null,
   "metadata": {},
   "outputs": [],
   "source": [
    "# Save the data as csv file:\n",
    "df_NTS_SPENSER_matched_no_interactions_3_export_20220509 = df_NTS_SPENSER_matched_no_interactions_3\n",
    "\n",
    "df_NTS_SPENSER_matched_no_interactions_3_export_20220509.to_csv(r'') # use your file path"
   ]
  },
  {
   "cell_type": "code",
   "execution_count": null,
   "metadata": {},
   "outputs": [],
   "source": [
    "# Create a list with all persons unique ID values\n",
    "spenser_individuals_matched_no_interactions_stage3 = df_NTS_SPENSER_matched_no_interactions_3['PID_AreaMSOA'].unique().tolist()\n"
   ]
  },
  {
   "cell_type": "code",
   "execution_count": null,
   "metadata": {},
   "outputs": [],
   "source": [
    "## new dataframe with only those SPENSER individuals that were not matched with a day trip.\n",
    "# Keep only those days that DO NOT belong to the people selected before\n",
    "df_persons_SPENSER_remaining_4 = df_persons_SPENSER_remaining_3.loc[~(df_persons_SPENSER_remaining_3['PID_AreaMSOA'].isin(spenser_individuals_matched_no_interactions_stage3))]\n"
   ]
  },
  {
   "cell_type": "code",
   "execution_count": null,
   "metadata": {},
   "outputs": [],
   "source": [
    "total_possible_combinations_4 = len(sex_list) * len(age_list_2) * len(children_dependency_list) * len(marital_status_list)"
   ]
  },
  {
   "cell_type": "code",
   "execution_count": null,
   "metadata": {},
   "outputs": [],
   "source": [
    "### WARNING: \n",
    "### Function considering ALL persons as individuals without any interaction with other member of the household.\n",
    "\n",
    "\n",
    "counter = 0\n",
    "\n",
    "# Empty list where SPENSER-NTS matched individuals are going to be temporarly stored\n",
    "NTS_SPENSER_individual_matched_temp_list_4 = []\n",
    "\n",
    "\n",
    "print('vamos...')\n",
    "\n",
    "for sex in sex_list:\n",
    "    for age in age_list_2:\n",
    "        for children_dependency in children_dependency_list:\n",
    "            for marital_status in marital_status_list:\n",
    "\n",
    "\n",
    "\n",
    "                clear_output(wait=True)\n",
    "                counter += 1\n",
    "                print(f'loop: {counter} of {total_possible_combinations_4}')\n",
    "\n",
    "\n",
    "                # Select those agents from NTS that meet previous conditions\n",
    "                df_NTS_selected = df_persons_NTS.loc[(df_persons_NTS['Sex'] == sex) &\n",
    "                                                 (df_persons_NTS['Age'] >= age[0]) &\n",
    "                                                 (df_persons_NTS['Age'] <= age[1]) &\n",
    "                                                 (df_persons_NTS['Marital_status'] == marital_status) &\n",
    "                                                 (df_persons_NTS['Children_dependency'] == children_dependency) ] \n",
    "\n",
    "\n",
    "                # Select those agents from SPENSER that meet previous conditions\n",
    "                df_SPENSER_selected = df_persons_SPENSER_remaining_4.loc[(df_persons_SPENSER_remaining_4['Sex'] == sex) &\n",
    "                                                 (df_persons_SPENSER_remaining_4['Age'] >= age[0]) &\n",
    "                                                 (df_persons_SPENSER_remaining_4['Age'] <= age[1]) &\n",
    "                                                 (df_persons_SPENSER_remaining_4['Marital_status'] == marital_status) &\n",
    "                                                 (df_persons_SPENSER_remaining_4['Children_dependency'] == children_dependency) ] \n",
    "\n",
    "\n",
    "                ## START THE ANALYSIS:\n",
    "\n",
    "\n",
    "                #If both dataframes contains persons:\n",
    "                ## MATCH POSSIBLE CONNECTIONS BETWEEN NTS AND SPENSER, based on if they are a family or not\n",
    "                ### e.g., married or coule and children dependency\n",
    "                if (len(df_NTS_selected) != 0 and len(df_SPENSER_selected) != 0):\n",
    "\n",
    "\n",
    "\n",
    "                    # Loop through each of the SPENSER people\n",
    "                    for idx_person_1_SPENSER, person_1_SPENSER in df_SPENSER_selected.iterrows():\n",
    "\n",
    "                        # Randomly sample 1 elements from df_NTS_selected\n",
    "                        df_NTS_selected_chosen = df_NTS_selected.sample(n=1)\n",
    "\n",
    "                        # Save the NTS IndividualID in a variable\n",
    "                        NTS_individualID = df_NTS_selected_chosen['IndividualID'].values[0]\n",
    "\n",
    "                        #Select those trips related to the NTS person selected:\n",
    "                        df_days_NTS_individual_chosen = df_days_NTS.loc[(df_days_NTS['IndividualID'] == NTS_individualID)]\n",
    "\n",
    "\n",
    "                        # Randomly sample 1 elements from df_days_NTS_individual_chosen\n",
    "                        ## This is the trip that is going to be assigned to the SPENSER individual\n",
    "                        df_NTS_day_chosen = df_days_NTS_individual_chosen.sample(n=1)\n",
    "\n",
    "\n",
    "                        # Create an empty list where infomration of SPENSER and NTS individual matched \n",
    "                        ## will be stored\n",
    "\n",
    "                        NTS_SPENSER_individual_matched_list = []\n",
    "\n",
    "\n",
    "                        a = person_1_SPENSER['PID_AreaMSOA']\n",
    "                        b = person_1_SPENSER['HID_AreaOA']\n",
    "                        c = df_NTS_day_chosen['IndividualID'].values[0]\n",
    "                        d = df_NTS_day_chosen['HouseholdID'].values[0]\n",
    "                        e = df_NTS_day_chosen['PSUID'].values[0]\n",
    "                        f = df_NTS_day_chosen['DayID'].values[0]\n",
    "\n",
    "\n",
    "                        NTS_SPENSER_individual_matched_list = [a,b,c,d,e,f]\n",
    "\n",
    "\n",
    "                        #Append the NTS_SPENSER_individual_matched_list into the temporal list\n",
    "                        NTS_SPENSER_individual_matched_temp_list_4.append(NTS_SPENSER_individual_matched_list) \n",
    "\n",
    "\n",
    "    \n",
    "#concatenate all persons (lists of the 'df_persons_NE_OA_HID_temp' list) in one dataframe\n",
    "df_NTS_SPENSER_matched_no_interactions_4 = pd.DataFrame(NTS_SPENSER_individual_matched_temp_list_4, columns =['PID_AreaMSOA',\n",
    "                                                                                                          'HID_AreaOA', \n",
    "                                                                                                          'IndividualID',\n",
    "                                                                                                          'HouseholdID',\n",
    "                                                                                                          'PSUID',\n",
    "                                                                                                          'DayID'])        \n",
    "\n",
    "\n",
    "\n",
    "print('Process has finished, check the results!')"
   ]
  },
  {
   "cell_type": "code",
   "execution_count": null,
   "metadata": {},
   "outputs": [],
   "source": [
    "len(df_NTS_SPENSER_matched_no_interactions_4)"
   ]
  },
  {
   "cell_type": "code",
   "execution_count": null,
   "metadata": {},
   "outputs": [],
   "source": [
    "len(df_persons_SPENSER_remaining_4) - len(df_NTS_SPENSER_matched_no_interactions_4)"
   ]
  },
  {
   "cell_type": "code",
   "execution_count": null,
   "metadata": {},
   "outputs": [],
   "source": [
    "(len(df_persons_SPENSER_remaining_4) - len(df_NTS_SPENSER_matched_no_interactions_4))/ (len(df_persons_SPENSER_remaining_4)) * 100"
   ]
  },
  {
   "cell_type": "code",
   "execution_count": null,
   "metadata": {},
   "outputs": [],
   "source": [
    "len(df_NTS_SPENSER_matched_no_interactions_4)/ len(df_persons_SPENSER_remaining_4) * 100"
   ]
  },
  {
   "cell_type": "code",
   "execution_count": null,
   "metadata": {},
   "outputs": [],
   "source": [
    "# Save the data as csv file:\n",
    "df_NTS_SPENSER_matched_no_interactions_4_export_20220509 = df_NTS_SPENSER_matched_no_interactions_4\n",
    "\n",
    "df_NTS_SPENSER_matched_no_interactions_4_export_20220509.to_csv(r'') # use your file path"
   ]
  },
  {
   "cell_type": "code",
   "execution_count": null,
   "metadata": {},
   "outputs": [],
   "source": [
    "# Create a list with all persons unique ID values\n",
    "spenser_individuals_matched_no_interactions_stage4 = df_NTS_SPENSER_matched_no_interactions_4['PID_AreaMSOA'].unique().tolist()\n"
   ]
  },
  {
   "cell_type": "code",
   "execution_count": null,
   "metadata": {},
   "outputs": [],
   "source": [
    "## new dataframe with only those SPENSER individuals that were not matched with a day trip.\n",
    "# Keep only those days that DO NOT belong to the people selected before\n",
    "df_persons_SPENSER_remaining_5 = df_persons_SPENSER_remaining_4.loc[~(df_persons_SPENSER_remaining_4['PID_AreaMSOA'].isin(spenser_individuals_matched_no_interactions_stage4))]\n"
   ]
  },
  {
   "cell_type": "code",
   "execution_count": null,
   "metadata": {},
   "outputs": [],
   "source": [
    "len(df_persons_SPENSER_remaining_5)"
   ]
  },
  {
   "cell_type": "code",
   "execution_count": null,
   "metadata": {},
   "outputs": [],
   "source": [
    "total_possible_combinations_5 = len(sex_list) * len(age_list_2) * len(children_dependency_list)"
   ]
  },
  {
   "cell_type": "code",
   "execution_count": null,
   "metadata": {},
   "outputs": [],
   "source": [
    "### WARNING: \n",
    "### Function considering ALL persons as individuals without any interaction with other member of the household.\n",
    "\n",
    "\n",
    "counter = 0\n",
    "\n",
    "# Empty list where SPENSER-NTS matched individuals are going to be temporarly stored\n",
    "NTS_SPENSER_individual_matched_temp_list_5 = []\n",
    "\n",
    "\n",
    "print('vamos...')\n",
    "\n",
    "for sex in sex_list:\n",
    "    for age in age_list_2:\n",
    "        for children_dependency in children_dependency_list:\n",
    "\n",
    "\n",
    "\n",
    "            clear_output(wait=True)\n",
    "            counter += 1\n",
    "            print(f'loop: {counter} of {total_possible_combinations_5}')\n",
    "\n",
    "\n",
    "            # Select those agents from NTS that meet previous conditions\n",
    "            df_NTS_selected = df_persons_NTS.loc[(df_persons_NTS['Sex'] == sex) &\n",
    "                                             (df_persons_NTS['Age'] >= age[0]) &\n",
    "                                             (df_persons_NTS['Age'] <= age[1]) &\n",
    "                                             (df_persons_NTS['Children_dependency'] == children_dependency) ] \n",
    "\n",
    "\n",
    "            # Select those agents from SPENSER that meet previous conditions\n",
    "            df_SPENSER_selected = df_persons_SPENSER_remaining_5.loc[(df_persons_SPENSER_remaining_5['Sex'] == sex) &\n",
    "                                             (df_persons_SPENSER_remaining_5['Age'] >= age[0]) &\n",
    "                                             (df_persons_SPENSER_remaining_5['Age'] <= age[1]) &\n",
    "                                             (df_persons_SPENSER_remaining_5['Children_dependency'] == children_dependency) ] \n",
    "\n",
    "\n",
    "            ## START THE ANALYSIS:\n",
    "\n",
    "\n",
    "            #If both dataframes contains persons:\n",
    "            ## MATCH POSSIBLE CONNECTIONS BETWEEN NTS AND SPENSER, based on if they are a family or not\n",
    "            ### e.g., married or coule and children dependency\n",
    "            if (len(df_NTS_selected) != 0 and len(df_SPENSER_selected) != 0):\n",
    "\n",
    "\n",
    "\n",
    "                # Loop through each of the SPENSER people\n",
    "                for idx_person_1_SPENSER, person_1_SPENSER in df_SPENSER_selected.iterrows():\n",
    "\n",
    "                    # Randomly sample 1 elements from df_NTS_selected\n",
    "                    df_NTS_selected_chosen = df_NTS_selected.sample(n=1)\n",
    "\n",
    "                    # Save the NTS IndividualID in a variable\n",
    "                    NTS_individualID = df_NTS_selected_chosen['IndividualID'].values[0]\n",
    "\n",
    "                    #Select those trips related to the NTS person selected:\n",
    "                    df_days_NTS_individual_chosen = df_days_NTS.loc[(df_days_NTS['IndividualID'] == NTS_individualID)]\n",
    "\n",
    "\n",
    "                    # Randomly sample 1 elements from df_days_NTS_individual_chosen\n",
    "                    ## This is the trip that is going to be assigned to the SPENSER individual\n",
    "                    df_NTS_day_chosen = df_days_NTS_individual_chosen.sample(n=1)\n",
    "\n",
    "\n",
    "                    # Create an empty list where infomration of SPENSER and NTS individual matched \n",
    "                    ## will be stored\n",
    "\n",
    "                    NTS_SPENSER_individual_matched_list = []\n",
    "\n",
    "\n",
    "                    a = person_1_SPENSER['PID_AreaMSOA']\n",
    "                    b = person_1_SPENSER['HID_AreaOA']\n",
    "                    c = df_NTS_day_chosen['IndividualID'].values[0]\n",
    "                    d = df_NTS_day_chosen['HouseholdID'].values[0]\n",
    "                    e = df_NTS_day_chosen['PSUID'].values[0]\n",
    "                    f = df_NTS_day_chosen['DayID'].values[0]\n",
    "\n",
    "\n",
    "                    NTS_SPENSER_individual_matched_list = [a,b,c,d,e,f]\n",
    "\n",
    "\n",
    "                    #Append the NTS_SPENSER_individual_matched_list into the temporal list\n",
    "                    NTS_SPENSER_individual_matched_temp_list_5.append(NTS_SPENSER_individual_matched_list) \n",
    "\n",
    "\n",
    "    \n",
    "#concatenate all persons (lists of the 'df_persons_NE_OA_HID_temp' list) in one dataframe\n",
    "df_NTS_SPENSER_matched_no_interactions_5 = pd.DataFrame(NTS_SPENSER_individual_matched_temp_list_5, columns =['PID_AreaMSOA',\n",
    "                                                                                                          'HID_AreaOA', \n",
    "                                                                                                          'IndividualID',\n",
    "                                                                                                          'HouseholdID',\n",
    "                                                                                                          'PSUID',\n",
    "                                                                                                          'DayID'])        \n",
    "\n",
    "\n",
    "\n",
    "print('Process has finished, check the results!')"
   ]
  },
  {
   "cell_type": "code",
   "execution_count": null,
   "metadata": {},
   "outputs": [],
   "source": [
    "len(df_NTS_SPENSER_matched_no_interactions_5)"
   ]
  },
  {
   "cell_type": "code",
   "execution_count": null,
   "metadata": {},
   "outputs": [],
   "source": [
    "# Save the data as csv file:\n",
    "df_NTS_SPENSER_matched_no_interactions_5_export_20220509 = df_NTS_SPENSER_matched_no_interactions_5\n",
    "\n",
    "df_NTS_SPENSER_matched_no_interactions_5_export_20220509.to_csv(r'') # use your file path"
   ]
  },
  {
   "cell_type": "code",
   "execution_count": null,
   "metadata": {},
   "outputs": [],
   "source": []
  },
  {
   "cell_type": "code",
   "execution_count": null,
   "metadata": {},
   "outputs": [],
   "source": [
    "frames = [df_NTS_SPENSER_matched_unique, df_NTS_SPENSER_matched_no_interactions, df_NTS_SPENSER_matched_no_interactions_2 , df_NTS_SPENSER_matched_no_interactions_3, df_NTS_SPENSER_matched_no_interactions_4, df_NTS_SPENSER_matched_no_interactions_5]"
   ]
  },
  {
   "cell_type": "code",
   "execution_count": null,
   "metadata": {},
   "outputs": [],
   "source": [
    "df_NTS_SPENSER_matched_unique_all = pd.concat(frames)"
   ]
  },
  {
   "cell_type": "code",
   "execution_count": null,
   "metadata": {},
   "outputs": [],
   "source": [
    "len(df_NTS_SPENSER_matched_unique_all)"
   ]
  },
  {
   "cell_type": "code",
   "execution_count": null,
   "metadata": {},
   "outputs": [],
   "source": [
    "len(df_persons_SPENSER) - len(df_NTS_SPENSER_matched_unique_all)"
   ]
  },
  {
   "cell_type": "code",
   "execution_count": null,
   "metadata": {},
   "outputs": [],
   "source": [
    "#Remove duplicates\n",
    "df_NTS_SPENSER_matched_unique_all = df_NTS_SPENSER_matched_unique_all.drop_duplicates(subset='PID_AreaMSOA', keep = 'first')\n",
    "  "
   ]
  },
  {
   "cell_type": "code",
   "execution_count": null,
   "metadata": {},
   "outputs": [],
   "source": [
    "len(df_NTS_SPENSER_matched_unique_all)"
   ]
  },
  {
   "cell_type": "code",
   "execution_count": null,
   "metadata": {},
   "outputs": [],
   "source": [
    "df_NTS_SPENSER_matched_unique_all.dtypes"
   ]
  },
  {
   "cell_type": "code",
   "execution_count": null,
   "metadata": {},
   "outputs": [],
   "source": [
    "# Save the data as csv file:\n",
    "df_NTS_SPENSER_matched_unique_all_export_20220621 = df_NTS_SPENSER_matched_unique_all\n",
    "\n",
    "df_NTS_SPENSER_matched_unique_all_export_20220621.to_csv(r'') # use your file path"
   ]
  },
  {
   "cell_type": "code",
   "execution_count": null,
   "metadata": {},
   "outputs": [],
   "source": [
    "#############################################################################################################"
   ]
  },
  {
   "cell_type": "code",
   "execution_count": null,
   "metadata": {},
   "outputs": [],
   "source": []
  },
  {
   "cell_type": "code",
   "execution_count": null,
   "metadata": {},
   "outputs": [],
   "source": [
    "# Create a list with all Days unique ID values\n",
    "days_selected_list = df_NTS_SPENSER_matched_unique_all['DayID'].unique().tolist()\n"
   ]
  },
  {
   "cell_type": "code",
   "execution_count": null,
   "metadata": {},
   "outputs": [],
   "source": [
    "len(days_selected_list)"
   ]
  },
  {
   "cell_type": "code",
   "execution_count": null,
   "metadata": {},
   "outputs": [],
   "source": [
    "223345/ len(df_days_NTS) * 100"
   ]
  },
  {
   "cell_type": "code",
   "execution_count": null,
   "metadata": {},
   "outputs": [],
   "source": [
    "len(days_selected_list)/ len(df_days_NTS) * 100"
   ]
  },
  {
   "cell_type": "code",
   "execution_count": null,
   "metadata": {},
   "outputs": [],
   "source": [
    "len(df_days_NTS)"
   ]
  },
  {
   "cell_type": "code",
   "execution_count": null,
   "metadata": {},
   "outputs": [],
   "source": [
    "## new dataframe with only those SPENSER individuals that were not matched with a day trip.\n",
    "# Keep only those days that DO NOT belong to the people selected before\n",
    "df_days_NTS_selected = df_days_NTS.loc[(df_days_NTS['DayID'].isin(days_selected_list))]\n"
   ]
  },
  {
   "cell_type": "code",
   "execution_count": null,
   "metadata": {},
   "outputs": [],
   "source": [
    "len(df_days_NTS_selected)"
   ]
  },
  {
   "cell_type": "code",
   "execution_count": null,
   "metadata": {},
   "outputs": [],
   "source": [
    "# Save the data as csv file:\n",
    "df_days_NTS_selected_export_20220509 = df_days_NTS_selected\n",
    "\n",
    "df_days_NTS_selected_export_20220509.to_csv(r'') # use your file path"
   ]
  },
  {
   "cell_type": "code",
   "execution_count": null,
   "metadata": {},
   "outputs": [],
   "source": []
  },
  {
   "cell_type": "code",
   "execution_count": null,
   "metadata": {},
   "outputs": [],
   "source": []
  },
  {
   "cell_type": "code",
   "execution_count": null,
   "metadata": {},
   "outputs": [],
   "source": [
    "#Read CSV file containing the agents from NTS\n",
    "df_trips_NTS_dir = r'' # use your path\n",
    "df_trips_NTS_file = os.path.join(df_trips_NTS_dir, \"\") # use your file name\n",
    "df_trips_NTS = pd.read_csv(df_trips_NTS_file, index_col=None, header=0)"
   ]
  },
  {
   "cell_type": "code",
   "execution_count": null,
   "metadata": {},
   "outputs": [],
   "source": [
    "len(df_trips_NTS)"
   ]
  },
  {
   "cell_type": "code",
   "execution_count": null,
   "metadata": {},
   "outputs": [],
   "source": [
    "## new dataframe with only those SPENSER individuals that were not matched with a day trip.\n",
    "# Keep only those days that DO NOT belong to the people selected before\n",
    "df_trip_NTS_selected = df_trips_NTS.loc[(df_trips_NTS['DayID'].isin(days_selected_list))]\n"
   ]
  },
  {
   "cell_type": "code",
   "execution_count": null,
   "metadata": {},
   "outputs": [],
   "source": [
    "len(df_trip_NTS_selected)"
   ]
  },
  {
   "cell_type": "code",
   "execution_count": null,
   "metadata": {},
   "outputs": [],
   "source": [
    "df_trip_NTS_selected.dtypes"
   ]
  },
  {
   "cell_type": "code",
   "execution_count": null,
   "metadata": {},
   "outputs": [],
   "source": [
    "# Save the data as csv file:\n",
    "df_trip_NTS_selected_export_20220509 = df_trip_NTS_selected\n",
    "\n",
    "df_trip_NTS_selected_export_20220509.to_csv(r'') # use your file path"
   ]
  },
  {
   "cell_type": "code",
   "execution_count": null,
   "metadata": {},
   "outputs": [],
   "source": [
    "\tValue = 1.0\tLabel = Commuting\n",
    "\tValue = 2.0\tLabel = Business\n",
    "\tValue = 3.0\tLabel = Education / escort education\n",
    "\tValue = 4.0\tLabel = Shopping\n",
    "\tValue = 5.0\tLabel = Other escort\n",
    "\tValue = 6.0\tLabel = Personal business\n",
    "\tValue = 7.0\tLabel = Leisure\n",
    "\tValue = 8.0\tLabel = Other including just walk\n",
    "\tValue = -10.0\tLabel = DEAD\n",
    "\tValue = -8.0\tLabel = NA\n"
   ]
  },
  {
   "cell_type": "code",
   "execution_count": null,
   "metadata": {},
   "outputs": [],
   "source": [
    "a = df_trip_NTS_selected.groupby(['TripPurpose_B04ID']).size()"
   ]
  },
  {
   "cell_type": "code",
   "execution_count": null,
   "metadata": {},
   "outputs": [],
   "source": [
    "a = pd.DataFrame({'index':a.index, 'TripPurpose_B04ID':a.values})"
   ]
  },
  {
   "cell_type": "code",
   "execution_count": null,
   "metadata": {},
   "outputs": [],
   "source": []
  },
  {
   "cell_type": "code",
   "execution_count": null,
   "metadata": {},
   "outputs": [],
   "source": [
    "a['Perentage'] = a['TripPurpose_B04ID'].div(len(df_trip_NTS_selected)).apply(lambda x: x*100).round(2)"
   ]
  },
  {
   "cell_type": "code",
   "execution_count": null,
   "metadata": {},
   "outputs": [],
   "source": [
    "a"
   ]
  }
 ],
 "metadata": {
  "kernelspec": {
   "display_name": "Python 3",
   "language": "python",
   "name": "python3"
  },
  "language_info": {
   "codemirror_mode": {
    "name": "ipython",
    "version": 3
   },
   "file_extension": ".py",
   "mimetype": "text/x-python",
   "name": "python",
   "nbconvert_exporter": "python",
   "pygments_lexer": "ipython3",
   "version": "3.7.12"
  }
 },
 "nbformat": 4,
 "nbformat_minor": 2
}
