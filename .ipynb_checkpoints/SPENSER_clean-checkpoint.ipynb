{
 "cells": [
  {
   "cell_type": "code",
   "execution_count": null,
   "metadata": {},
   "outputs": [],
   "source": [
    "import glob\n",
    "import pandas as pd\n",
    "import numpy as np\n",
    "import os\n",
    "import csv\n",
    "import sys"
   ]
  },
  {
   "cell_type": "code",
   "execution_count": null,
   "metadata": {},
   "outputs": [],
   "source": [
    "#Read CSV file containing the MSOA and OA values only from the North East of England\n",
    "df_persons_SPENSER__dir = r'' # use your path\n",
    "df_persons_SPENSER__file = os.path.join(df_persons_SPENSER__dir, \"\")\n",
    "df_persons_SPENSER = pd.read_csv(df_persons_SPENSER__file, index_col=None, header=0)"
   ]
  },
  {
   "cell_type": "code",
   "execution_count": null,
   "metadata": {},
   "outputs": [],
   "source": [
    "len(df_persons_SPENSER)"
   ]
  },
  {
   "cell_type": "code",
   "execution_count": null,
   "metadata": {},
   "outputs": [],
   "source": [
    "df_persons_SPENSER.dtypes"
   ]
  },
  {
   "cell_type": "code",
   "execution_count": null,
   "metadata": {},
   "outputs": [],
   "source": []
  },
  {
   "cell_type": "code",
   "execution_count": null,
   "metadata": {},
   "outputs": [],
   "source": [
    "#check the values that column \"Sex\" has:\n",
    "b = df_persons_SPENSER['Sex'].unique()\n",
    "print(sorted(b))"
   ]
  },
  {
   "cell_type": "code",
   "execution_count": null,
   "metadata": {},
   "outputs": [],
   "source": [
    "df_persons_SPENSER[\"Sex\"] = df_persons_SPENSER[\"Sex\"].astype(int)"
   ]
  },
  {
   "cell_type": "code",
   "execution_count": null,
   "metadata": {},
   "outputs": [],
   "source": [
    "#check the values that column \"Marital status\" has:\n",
    "b = df_persons_SPENSER['Sex'].unique()\n",
    "print(sorted(b))"
   ]
  },
  {
   "cell_type": "code",
   "execution_count": null,
   "metadata": {},
   "outputs": [],
   "source": [
    "#check the values that column \"Age\" has:\n",
    "c = df_persons_SPENSER['Age'].unique()\n",
    "print(sorted(c))"
   ]
  },
  {
   "cell_type": "code",
   "execution_count": null,
   "metadata": {},
   "outputs": [],
   "source": [
    "df_persons_SPENSER[\"Age\"] = df_persons_SPENSER[\"Age\"].astype(int)"
   ]
  },
  {
   "cell_type": "code",
   "execution_count": null,
   "metadata": {},
   "outputs": [],
   "source": [
    "#check the values that column \"Age\" has:\n",
    "c = df_persons_SPENSER['Age'].unique()\n",
    "print(sorted(c))"
   ]
  },
  {
   "cell_type": "code",
   "execution_count": null,
   "metadata": {},
   "outputs": [],
   "source": [
    "#check the values that column \"Marital status\" has:\n",
    "b = df_persons_SPENSER['Marital_status'].unique()\n",
    "print(sorted(b))"
   ]
  },
  {
   "cell_type": "code",
   "execution_count": null,
   "metadata": {},
   "outputs": [],
   "source": [
    "df_persons_SPENSER.loc[df_persons_SPENSER['Marital_status'] == 'Couple', 'Marital_status'] = 'Married or couple'\n",
    "df_persons_SPENSER.loc[df_persons_SPENSER['Marital_status'] == 'Married', 'Marital_status'] = 'Married or couple'"
   ]
  },
  {
   "cell_type": "code",
   "execution_count": null,
   "metadata": {},
   "outputs": [],
   "source": [
    "#check the values that column \"Marital status\" has:\n",
    "b = df_persons_SPENSER['Marital_status'].unique()\n",
    "print(sorted(b))"
   ]
  },
  {
   "cell_type": "code",
   "execution_count": null,
   "metadata": {},
   "outputs": [],
   "source": [
    "df_persons_SPENSER.dtypes"
   ]
  },
  {
   "cell_type": "code",
   "execution_count": null,
   "metadata": {},
   "outputs": [],
   "source": []
  },
  {
   "cell_type": "code",
   "execution_count": null,
   "metadata": {},
   "outputs": [],
   "source": [
    "#check the values that column \"Economic_activity\" has:\n",
    "c = df_persons_SPENSER['Economic_activity'].unique()\n",
    "print(sorted(c))"
   ]
  },
  {
   "cell_type": "code",
   "execution_count": null,
   "metadata": {},
   "outputs": [],
   "source": [
    "#check the values that column \"Occupation\" has:\n",
    "c = df_persons_SPENSER['Occupation'].unique()\n",
    "print((c))"
   ]
  },
  {
   "cell_type": "code",
   "execution_count": null,
   "metadata": {},
   "outputs": [],
   "source": [
    "# I need to combine the economic activity with the occupation when the economic activity is 'Inactive'\n",
    "\n",
    "for idx_person, person in df_persons_SPENSER.iterrows():\n",
    "    \n",
    "    if person['Economic_activity'] == 'Inactive':\n",
    "        df_persons_SPENSER.at[idx_person,'Economic_activity_new'] = person['Economic_activity'] + ' ' + person['Occupation']\n",
    "        \n",
    "    else:\n",
    "        df_persons_SPENSER.at[idx_person,'Economic_activity_new'] = person['Economic_activity']\n"
   ]
  },
  {
   "cell_type": "code",
   "execution_count": null,
   "metadata": {},
   "outputs": [],
   "source": [
    "#check the values that column \"Marital status\" has:\n",
    "c = df_persons_SPENSER['Economic_activity_new'].unique()\n",
    "print(sorted(c))"
   ]
  },
  {
   "cell_type": "code",
   "execution_count": null,
   "metadata": {},
   "outputs": [],
   "source": [
    "# I need to change the 'Inactive Long term sick' to 'Inactive Sick'    \n",
    "df_persons_SPENSER.loc[df_persons_SPENSER['Economic_activity_new'] == 'Inactive Long term sick', 'Economic_activity_new'] = 'Inactive Sick'\n"
   ]
  },
  {
   "cell_type": "code",
   "execution_count": null,
   "metadata": {},
   "outputs": [],
   "source": [
    "#check the values that column \"Marital status\" has:\n",
    "c = df_persons_SPENSER['Economic_activity_new'].unique()\n",
    "print(sorted(c))"
   ]
  },
  {
   "cell_type": "code",
   "execution_count": null,
   "metadata": {},
   "outputs": [],
   "source": [
    "df_persons_SPENSER.dtypes"
   ]
  },
  {
   "cell_type": "code",
   "execution_count": null,
   "metadata": {},
   "outputs": [],
   "source": []
  },
  {
   "cell_type": "code",
   "execution_count": null,
   "metadata": {},
   "outputs": [],
   "source": [
    "## Income"
   ]
  },
  {
   "cell_type": "code",
   "execution_count": null,
   "metadata": {},
   "outputs": [],
   "source": [
    "\n",
    "# Select those people that has an income (income > 0)\n",
    "\n",
    "df_persons_SPENSER_income = df_persons_SPENSER.loc[(df_persons_SPENSER['Income'] > 0)]"
   ]
  },
  {
   "cell_type": "code",
   "execution_count": null,
   "metadata": {},
   "outputs": [],
   "source": [
    "len(df_persons_SPENSER_income)"
   ]
  },
  {
   "cell_type": "code",
   "execution_count": null,
   "metadata": {},
   "outputs": [],
   "source": [
    "len(df_persons_SPENSER) - len(df_persons_SPENSER_income)"
   ]
  },
  {
   "cell_type": "code",
   "execution_count": null,
   "metadata": {},
   "outputs": [],
   "source": []
  },
  {
   "cell_type": "code",
   "execution_count": null,
   "metadata": {},
   "outputs": [],
   "source": []
  },
  {
   "cell_type": "code",
   "execution_count": null,
   "metadata": {},
   "outputs": [],
   "source": [
    "# Calculate the deciles of those people earning more than 0\n",
    "\n",
    "percentile_20 = df_persons_SPENSER_income.Income.quantile(0.2)\n",
    "percentile_40 = df_persons_SPENSER_income.Income.quantile(0.4)\n",
    "percentile_60 = df_persons_SPENSER_income.Income.quantile(0.6)\n",
    "percentile_80 = df_persons_SPENSER_income.Income.quantile(0.8)\n",
    "percentile_100 = df_persons_SPENSER_income.Income.quantile(1.0)"
   ]
  },
  {
   "cell_type": "code",
   "execution_count": null,
   "metadata": {},
   "outputs": [],
   "source": [
    "print(percentile_20)\n",
    "print(percentile_40)\n",
    "print(percentile_60)\n",
    "print(percentile_80)\n",
    "print(percentile_100)"
   ]
  },
  {
   "cell_type": "code",
   "execution_count": null,
   "metadata": {},
   "outputs": [],
   "source": []
  },
  {
   "cell_type": "code",
   "execution_count": null,
   "metadata": {},
   "outputs": [],
   "source": []
  },
  {
   "cell_type": "code",
   "execution_count": null,
   "metadata": {},
   "outputs": [],
   "source": [
    "# Income per groups\n",
    "\n",
    "## Example: group_1 contains the 10% of those people with the lowest income (excluding those people which income = 0)\n",
    "## Example: group_10 contains the 10% of those people with the highest income\n",
    "\n",
    "df_persons_SPENSER['Income_group'] = ''\n",
    "\n",
    "\n",
    "for idx_person, person in df_persons_SPENSER.iterrows():\n",
    "    \n",
    "    if (person['Income'] == 0.0):\n",
    "        df_persons_SPENSER.at[idx_person,'Income_group'] = 'group_0'\n",
    "    \n",
    "    elif ((person['Income'] > 0) and \n",
    "          (person['Income'] <= percentile_20)):\n",
    "        df_persons_SPENSER.at[idx_person,'Income_group'] = 'group_1'\n",
    "    \n",
    "    elif ((person['Income'] > percentile_20) and \n",
    "          (person['Income'] <= percentile_40)):\n",
    "        df_persons_SPENSER.at[idx_person,'Income_group'] = 'group_2'  \n",
    "        \n",
    "    elif ((person['Income'] > percentile_40) and\n",
    "          (person['Income'] <= percentile_60)):\n",
    "        df_persons_SPENSER.at[idx_person,'Income_group'] = 'group_3'   \n",
    "        \n",
    "    elif ((person['Income'] > percentile_60) and \n",
    "          (person['Income'] <= percentile_80)):\n",
    "        df_persons_SPENSER.at[idx_person,'Income_group'] = 'group_4'\n",
    "        \n",
    "    elif ((person['Income'] > percentile_80) and \n",
    "          (person['Income'] <= percentile_100)):\n",
    "        df_persons_SPENSER.at[idx_person,'Income_group'] = 'group_5'\n"
   ]
  },
  {
   "cell_type": "code",
   "execution_count": null,
   "metadata": {},
   "outputs": [],
   "source": [
    "#check the values that column \"Income_new\" has:\n",
    "d = df_persons_SPENSER['Income_group'].unique()\n",
    "print(sorted(d))"
   ]
  },
  {
   "cell_type": "code",
   "execution_count": null,
   "metadata": {},
   "outputs": [],
   "source": [
    "# Check the number of married or couple and single individuals in the dataset\n",
    "df_persons_SPENSER.groupby('Income_group').count()"
   ]
  },
  {
   "cell_type": "code",
   "execution_count": null,
   "metadata": {},
   "outputs": [],
   "source": [
    "# check the unique updated values\n",
    "e = df_persons_SPENSER['Driving_license'].unique()\n",
    "print(sorted(e))"
   ]
  },
  {
   "cell_type": "code",
   "execution_count": null,
   "metadata": {},
   "outputs": [],
   "source": [
    "df_persons_SPENSER.dtypes"
   ]
  },
  {
   "cell_type": "code",
   "execution_count": null,
   "metadata": {},
   "outputs": [],
   "source": [
    "#check the values that column \"Marital status\" has:\n",
    "f = df_persons_SPENSER['Car_access'].unique()\n",
    "print(sorted(f))"
   ]
  },
  {
   "cell_type": "code",
   "execution_count": null,
   "metadata": {},
   "outputs": [],
   "source": []
  },
  {
   "cell_type": "code",
   "execution_count": null,
   "metadata": {},
   "outputs": [],
   "source": [
    "# check the unique updated values\n",
    "f = df_persons_SPENSER['Children_dependency'].unique()\n",
    "print(sorted(f))"
   ]
  },
  {
   "cell_type": "code",
   "execution_count": null,
   "metadata": {},
   "outputs": [],
   "source": []
  },
  {
   "cell_type": "code",
   "execution_count": null,
   "metadata": {},
   "outputs": [],
   "source": [
    "df_persons_SPENSER[\"Total_People_in_household\"] = df_persons_SPENSER[\"Total_People_in_household\"].astype(int)"
   ]
  },
  {
   "cell_type": "code",
   "execution_count": null,
   "metadata": {},
   "outputs": [],
   "source": [
    "df_persons_SPENSER[\"Total_Children_in_household\"] = df_persons_SPENSER[\"Total_Children_in_household\"].astype(int)"
   ]
  },
  {
   "cell_type": "code",
   "execution_count": null,
   "metadata": {},
   "outputs": [],
   "source": [
    "df_persons_SPENSER[\"Income\"] = df_persons_SPENSER[\"Income\"].astype(int)"
   ]
  },
  {
   "cell_type": "code",
   "execution_count": null,
   "metadata": {},
   "outputs": [],
   "source": [
    "df_persons_SPENSER.dtypes"
   ]
  },
  {
   "cell_type": "code",
   "execution_count": null,
   "metadata": {},
   "outputs": [],
   "source": [
    "df_persons_SPENSER = df_persons_SPENSER[['PID', 'PID_AreaMSOA', 'HID', 'HID_AreaOA', 'Area_MSOA', 'Area_OA',\n",
    "                       'Age', 'Sex', 'Marital_status', 'Children_dependency', \n",
    "                       'Total_People_in_household', 'Total_Children_in_household',\n",
    "                       'Economic_activity_new', 'Occupation', 'Income', 'Income_group',\n",
    "                       'Driving_license', 'Car_access', 'Bike_access']]"
   ]
  },
  {
   "cell_type": "code",
   "execution_count": null,
   "metadata": {},
   "outputs": [],
   "source": [
    "len(df_persons_SPENSER)"
   ]
  },
  {
   "cell_type": "code",
   "execution_count": null,
   "metadata": {},
   "outputs": [],
   "source": [
    "df_persons_SPENSER = df_persons_SPENSER.rename(columns={'Economic_activity_new': 'Economic_activity'})"
   ]
  },
  {
   "cell_type": "code",
   "execution_count": null,
   "metadata": {},
   "outputs": [],
   "source": [
    "(df_persons_SPENSER)"
   ]
  },
  {
   "cell_type": "code",
   "execution_count": null,
   "metadata": {},
   "outputs": [],
   "source": [
    "df_persons_SPENSER.dtypes"
   ]
  },
  {
   "cell_type": "code",
   "execution_count": null,
   "metadata": {},
   "outputs": [],
   "source": [
    "# Save the data as csv file:\n",
    "df_persons_SPENSER_export_20220325_correct = df_persons_SPENSER\n",
    "\n",
    "df_persons_SPENSER_export_20220325_correct.to_csv(r'') # use your file path"
   ]
  },
  {
   "cell_type": "code",
   "execution_count": null,
   "metadata": {},
   "outputs": [],
   "source": [
    "len(df_persons_SPENSER_export_20220325_correct)"
   ]
  },
  {
   "cell_type": "code",
   "execution_count": null,
   "metadata": {},
   "outputs": [],
   "source": []
  },
  {
   "cell_type": "code",
   "execution_count": null,
   "metadata": {},
   "outputs": [],
   "source": []
  },
  {
   "cell_type": "code",
   "execution_count": null,
   "metadata": {},
   "outputs": [],
   "source": []
  }
 ],
 "metadata": {
  "kernelspec": {
   "display_name": "Python 3",
   "language": "python",
   "name": "python3"
  },
  "language_info": {
   "codemirror_mode": {
    "name": "ipython",
    "version": 3
   },
   "file_extension": ".py",
   "mimetype": "text/x-python",
   "name": "python",
   "nbconvert_exporter": "python",
   "pygments_lexer": "ipython3",
   "version": "3.7.12"
  }
 },
 "nbformat": 4,
 "nbformat_minor": 2
}
