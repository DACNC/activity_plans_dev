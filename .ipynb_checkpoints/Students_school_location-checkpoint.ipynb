{
 "cells": [
  {
   "cell_type": "code",
   "execution_count": null,
   "metadata": {},
   "outputs": [],
   "source": [
    "import glob\n",
    "import pandas as pd\n",
    "import numpy as np\n",
    "import os\n",
    "import csv\n",
    "import sys\n",
    "from pathlib import Path\n",
    "import random\n",
    "from IPython.display import clear_output\n",
    "from operator import itemgetter\n",
    "\n",
    "import time "
   ]
  },
  {
   "cell_type": "code",
   "execution_count": null,
   "metadata": {},
   "outputs": [],
   "source": [
    "#Read CSV file containing the agents from SPENSER\n",
    "df_persons_SPENSER__dir = r'' # use your path\n",
    "df_persons_SPENSER__file = os.path.join(df_persons_SPENSER__dir, \"\")\n",
    "df_persons_SPENSER = pd.read_csv(df_persons_SPENSER__file, index_col=None, header=0)"
   ]
  },
  {
   "cell_type": "code",
   "execution_count": null,
   "metadata": {},
   "outputs": [],
   "source": [
    "# Get only students younger than 16 and older than 2\n",
    "df_students_SPENSER = df_persons_SPENSER.loc[(df_persons_SPENSER['Age'] <=15)]"
   ]
  },
  {
   "cell_type": "code",
   "execution_count": null,
   "metadata": {},
   "outputs": [],
   "source": [
    "df_students_SPENSER['Age'].max()"
   ]
  },
  {
   "cell_type": "code",
   "execution_count": null,
   "metadata": {},
   "outputs": [],
   "source": [
    "SPENSER_students_ID_list = df_students_SPENSER['PID_AreaMSOA'].unique().tolist()"
   ]
  },
  {
   "cell_type": "code",
   "execution_count": null,
   "metadata": {},
   "outputs": [],
   "source": [
    "len(df_students_SPENSER)"
   ]
  },
  {
   "cell_type": "code",
   "execution_count": null,
   "metadata": {},
   "outputs": [],
   "source": []
  },
  {
   "cell_type": "code",
   "execution_count": null,
   "metadata": {},
   "outputs": [],
   "source": [
    "#Read CSV file containing the matches between NTS and SPENSER:\n",
    "NTS_SPENSER_matched_dir = r'' # use your path\n",
    "NTS_SPENSER_matched_file = os.path.join(NTS_SPENSER_matched_dir, \"\")\n",
    "df_NTS_SPENSER_matched = pd.read_csv(NTS_SPENSER_matched_file, index_col=None, header=0)"
   ]
  },
  {
   "cell_type": "code",
   "execution_count": null,
   "metadata": {},
   "outputs": [],
   "source": [
    "len(df_NTS_SPENSER_matched)"
   ]
  },
  {
   "cell_type": "code",
   "execution_count": null,
   "metadata": {},
   "outputs": [],
   "source": [
    "## Select only those NTS-SPENSER matches that belong to students\n",
    "df_NTS_SPENSER_matched_students = df_NTS_SPENSER_matched.loc[(df_NTS_SPENSER_matched['PID_AreaMSOA'].isin(SPENSER_students_ID_list))]"
   ]
  },
  {
   "cell_type": "code",
   "execution_count": null,
   "metadata": {},
   "outputs": [],
   "source": [
    "SPENSER_students_ID_list = df_NTS_SPENSER_matched_students['IndividualID'].unique().tolist()\n",
    "SPENSER_students_dayID_list = df_NTS_SPENSER_matched_students['DayID'].unique().tolist()"
   ]
  },
  {
   "cell_type": "code",
   "execution_count": null,
   "metadata": {},
   "outputs": [],
   "source": []
  },
  {
   "cell_type": "code",
   "execution_count": null,
   "metadata": {},
   "outputs": [],
   "source": []
  },
  {
   "cell_type": "code",
   "execution_count": null,
   "metadata": {},
   "outputs": [],
   "source": [
    "# Get the OA and MSOA levels from other columns (HID_AreaOA and PID_AreaMSOA)\n",
    "df_NTS_SPENSER_matched_students['oa'] = df_NTS_SPENSER_matched_students['HID_AreaOA'].str.split('_').str[-1]\n",
    "df_NTS_SPENSER_matched_students['msoa'] = df_NTS_SPENSER_matched_students['PID_AreaMSOA'].str.split('_').str[-1]"
   ]
  },
  {
   "cell_type": "code",
   "execution_count": null,
   "metadata": {},
   "outputs": [],
   "source": [
    "NTS_SPENSER_matched_students_IndividualID_list = df_NTS_SPENSER_matched_students['IndividualID'].unique().tolist()"
   ]
  },
  {
   "cell_type": "code",
   "execution_count": null,
   "metadata": {},
   "outputs": [],
   "source": [
    "NTS_SPENSER_matched_students_DayID_list = df_NTS_SPENSER_matched_students['DayID'].unique().tolist()"
   ]
  },
  {
   "cell_type": "code",
   "execution_count": null,
   "metadata": {},
   "outputs": [],
   "source": []
  },
  {
   "cell_type": "code",
   "execution_count": null,
   "metadata": {},
   "outputs": [],
   "source": [
    "# Import the file with the days related to each individual\n",
    "trips_dir = r'' # use your path\n",
    "\n",
    "\n",
    "df_NTS_trips = pd.read_csv(\n",
    "    trips_dir,\n",
    "    sep='\\t',\n",
    "    usecols=['TripID',\n",
    "             'DayID',               # ID given to all trips made by an individual on a given travel day - Created in SQL\n",
    "             'IndividualID',        # Individual unique ID - Created in SQL\n",
    "             'HouseholdID',         # Household unique ID - Created in SQL\n",
    "             'PSUID',               # PSU unique ID - Created in SQL\n",
    "             'JourSeq',             # Journey number on a given travel day\n",
    "             'NumStages',           # Number of stages - actual number\n",
    "             'MainMode_B04ID',      # Main mode of travel - publication table breakdown - 13 categories\n",
    "             'TripPurpTo_B01ID',   # Trip purpose - full list - 23 categories\n",
    "             'TripStartHours',      # Trip start time - hours component\n",
    "             'TripStartMinutes',    # Trip start time - minutes component\n",
    "             'TripStart',           # Trip start time - minutes past midnight\n",
    "             'TripEndHours',        # Trip end time - hours component\n",
    "             'TripEndMinutes',      # Trip end time - minutes component\n",
    "             'TripEnd',             # Trip end time - minutes past midnight\n",
    "             'TripDisIncSW',        # Trip distance - including short walk - miles - actual distance\n",
    "             'TripTotalTime'        # Total trip time - minutes - actual time\n",
    "             ]          \n",
    ")\n",
    "#persons_in.head()"
   ]
  },
  {
   "cell_type": "code",
   "execution_count": null,
   "metadata": {},
   "outputs": [],
   "source": [
    "## Update transpor mode\n",
    "mode_mapping = {\n",
    "    1: 'walk',\n",
    "     2: 'bike',\n",
    "     3: 'car',  #'Car/van driver'\n",
    "     4: 'car_passenger',  #'Car/van passenger'\n",
    "     5: 'motorcycle',  \n",
    "     6: 'car',  #'Other private transport',\n",
    "     7: 'bus', #Bus in London',\n",
    "     8: 'bus', #'Other local bus',\n",
    "     9: 'bus', #'Non-local bus',\n",
    "     10: 'metro', #'London Underground',\n",
    "     11: 'train', #'Surface Rail',\n",
    "     12: 'car',  #'Taxi/minicab',\n",
    "     13: 'metro', #'Other public transport',\n",
    "     -10: 'DEAD',\n",
    "     -8: 'NA'\n",
    "}"
   ]
  },
  {
   "cell_type": "code",
   "execution_count": null,
   "metadata": {},
   "outputs": [],
   "source": [
    "df_NTS_trips['MainMode_B04ID'] = df_NTS_trips['MainMode_B04ID'].map(mode_mapping)"
   ]
  },
  {
   "cell_type": "code",
   "execution_count": null,
   "metadata": {},
   "outputs": [],
   "source": [
    "purp_mapping = {\n",
    "    1: 'work',\n",
    "     2: 'work',  #'In course of work',\n",
    "     3: 'education',\n",
    "     4: 'food_shop',  #'Food shopping',\n",
    "     5: 'shop',  #'Non food shopping',\n",
    "     6: 'medical', #'Personal business medical',\n",
    "     7: 'eat',  #'Personal business eat/drink',\n",
    "     8: 'other',  #'Personal business other',\n",
    "     9: 'eat',  #'Eat/drink with friends',\n",
    "     10: 'other',  #'Visit friends',\n",
    "     11: 'leisure',  #'Other social',\n",
    "     12: 'leisure',  #'Entertain/ public activity',\n",
    "     13: 'leisure_sport',  #'Sport: participate',\n",
    "     14: 'home',  #'Holiday: base',\n",
    "     15: 'leisure_sport',  #'Day trip/just walk',\n",
    "     16: 'leisure',  #'Other non-escort',\n",
    "     17: 'escort',  #'Escort home',\n",
    "     18: 'escort',  #'Escort work',\n",
    "     19: 'escort',  #'Escort in course of work',\n",
    "     20: 'escort',  #'Escort education',\n",
    "     21: 'escort',  #'Escort shopping/personal business',\n",
    "     22: 'escort',  #'Other escort',\n",
    "     23: 'home',  #'Home',\n",
    "     -10: 'DEAD',\n",
    "     -8: 'NA'\n",
    "}"
   ]
  },
  {
   "cell_type": "code",
   "execution_count": null,
   "metadata": {},
   "outputs": [],
   "source": [
    "df_NTS_trips['TripPurpTo_B01ID'] = df_NTS_trips['TripPurpTo_B01ID'].map(purp_mapping)"
   ]
  },
  {
   "cell_type": "code",
   "execution_count": null,
   "metadata": {},
   "outputs": [],
   "source": []
  },
  {
   "cell_type": "code",
   "execution_count": null,
   "metadata": {},
   "outputs": [],
   "source": [
    "# Keep only those days that belong to the people selected before (studemts) and purpose = education\n",
    "df_NTS_trips_students = df_NTS_trips.loc[(df_NTS_trips['IndividualID'].isin(NTS_SPENSER_matched_students_IndividualID_list)) & (df_NTS_trips['DayID'].isin(NTS_SPENSER_matched_students_DayID_list)) & (df_NTS_trips['TripPurpTo_B01ID'] == 'education')]\n"
   ]
  },
  {
   "cell_type": "code",
   "execution_count": null,
   "metadata": {},
   "outputs": [],
   "source": [
    "len(df_NTS_trips_students)"
   ]
  },
  {
   "cell_type": "code",
   "execution_count": null,
   "metadata": {},
   "outputs": [],
   "source": [
    "#################################"
   ]
  },
  {
   "cell_type": "code",
   "execution_count": null,
   "metadata": {},
   "outputs": [],
   "source": [
    "#############################"
   ]
  },
  {
   "cell_type": "code",
   "execution_count": null,
   "metadata": {},
   "outputs": [],
   "source": [
    "#Read CSV file containing the distances between msoa centroids (meters and miles) \n",
    "MSOA_level_centroid_distances_dir = r'' # use your path\n",
    "MSOA_level_centroid_distances_file = os.path.join(MSOA_level_centroid_distances_dir, \"\")\n",
    "df_MSOA_level_centroid_distances = pd.read_csv(MSOA_level_centroid_distances_file, index_col=None, header=0)"
   ]
  },
  {
   "cell_type": "code",
   "execution_count": null,
   "metadata": {},
   "outputs": [],
   "source": [
    "# create a list of the buildings with the following attributes only: 'PID_AreaMSOA', 'Area_MSOA', 'Area_OA' \n",
    "df_MSOA_level_centroid_distances = df_MSOA_level_centroid_distances[['msoa_origin', 'msoa_destination', 'distance_miles']]"
   ]
  },
  {
   "cell_type": "code",
   "execution_count": null,
   "metadata": {},
   "outputs": [],
   "source": []
  },
  {
   "cell_type": "code",
   "execution_count": null,
   "metadata": {},
   "outputs": [],
   "source": [
    "#Read CSV file containing the distances between msoa centroids (meters and miles) \n",
    "OA_lelvel_centroid_distances_dir = r'' # use your path\n",
    "OA_lelvel_centroid_distances_file = os.path.join(OA_lelvel_centroid_distances_dir, \"\")\n",
    "df_OA_lelvel_centroid_distances = pd.read_csv(OA_lelvel_centroid_distances_file, index_col=None, header=0)"
   ]
  },
  {
   "cell_type": "code",
   "execution_count": null,
   "metadata": {},
   "outputs": [],
   "source": [
    "df_OA_lelvel_centroid_distances.rename(columns={'oa11cd_x': 'oa_origin', 'oa11cd_y': 'oa_destination', 'distance': 'distance_meters'}, inplace=True)"
   ]
  },
  {
   "cell_type": "code",
   "execution_count": null,
   "metadata": {},
   "outputs": [],
   "source": [
    "df_OA_lelvel_centroid_distances['distance_miles'] = df_OA_lelvel_centroid_distances['distance_meters']/1609"
   ]
  },
  {
   "cell_type": "code",
   "execution_count": null,
   "metadata": {},
   "outputs": [],
   "source": [
    "# create a list of the buildings with the following attributes only: 'PID_AreaMSOA', 'Area_MSOA', 'Area_OA' \n",
    "df_OA_lelvel_centroid_distances = df_OA_lelvel_centroid_distances[['oa_origin', 'oa_destination', 'distance_miles']]"
   ]
  },
  {
   "cell_type": "code",
   "execution_count": null,
   "metadata": {},
   "outputs": [],
   "source": []
  },
  {
   "cell_type": "code",
   "execution_count": null,
   "metadata": {},
   "outputs": [],
   "source": []
  },
  {
   "cell_type": "code",
   "execution_count": null,
   "metadata": {},
   "outputs": [],
   "source": [
    "#Read CSV file containing the selected NTS days:\n",
    "education_buildings_dir = r'' # use your path\n",
    "education_buildings_file = os.path.join(education_buildings_dir, \"\")\n",
    "df_education_buildings = pd.read_csv(education_buildings_file, index_col=None, header=0)"
   ]
  },
  {
   "cell_type": "code",
   "execution_count": null,
   "metadata": {},
   "outputs": [],
   "source": []
  },
  {
   "cell_type": "code",
   "execution_count": null,
   "metadata": {},
   "outputs": [],
   "source": [
    "# create a list of the buildings with the following attributes only: 'PID_AreaMSOA', 'Area_MSOA', 'Area_OA' \n",
    "education_buildings_list = df_education_buildings[['URN', 'NumberOfPu', 'oa11cd', 'msoa11cd', 'Easting', 'Northing']].values.tolist()"
   ]
  },
  {
   "cell_type": "code",
   "execution_count": null,
   "metadata": {},
   "outputs": [],
   "source": []
  },
  {
   "cell_type": "code",
   "execution_count": null,
   "metadata": {},
   "outputs": [],
   "source": [
    "df_education_buildings['NumberOfPu'].sum()"
   ]
  },
  {
   "cell_type": "code",
   "execution_count": null,
   "metadata": {},
   "outputs": [],
   "source": []
  },
  {
   "cell_type": "code",
   "execution_count": null,
   "metadata": {},
   "outputs": [],
   "source": [
    "# Path to save the results\n",
    "school_destination_round_1_dataframe = r'' # in case\n"
   ]
  },
  {
   "cell_type": "code",
   "execution_count": null,
   "metadata": {},
   "outputs": [],
   "source": [
    "# Spilts persons Dataframe into MSOA areas (whole households are stored in OA areas)\n",
    "\n",
    "grps_persons_oa_split = df_students_SPENSER.groupby('Area_OA')"
   ]
  },
  {
   "cell_type": "code",
   "execution_count": null,
   "metadata": {},
   "outputs": [],
   "source": [
    "t0 = time.time()\n",
    "\n",
    "oa_num = 0\n",
    "oa_tot = df_students_SPENSER.Area_OA.nunique()\n",
    "\n",
    "\n",
    "for oa_name, persons_grp in grps_persons_oa_split:\n",
    "    \n",
    "    oa_num += 1\n",
    "    t1 = time.time()\n",
    "    clear_output(wait=True)\n",
    "    print(f'OA num: {oa_num} of {oa_tot}, OA name: {oa_name}')\n",
    "    print(f'time running {(t1 - t0)/3600}')\n",
    "    \n",
    "    for idx_student, student in persons_grp.iterrows():\n",
    "        \n",
    "\n",
    "        oa_level = student['Area_OA']\n",
    "        msoa_level = student['Area_MSOA']\n",
    "        spenser_id = student['PID_AreaMSOA']\n",
    "\n",
    "        #print(oa_level)\n",
    "        #print(msoa_level)\n",
    "        #print(spenser_id)\n",
    "\n",
    "        ##########################################################################\n",
    "        # Get the match between SPENSER student and the NTS person\n",
    "        df_NTS_SPENSER_matched_student = df_NTS_SPENSER_matched.loc[(df_NTS_SPENSER_matched['PID_AreaMSOA'] == spenser_id)]\n",
    "\n",
    "        #print(df_NTS_SPENSER_matched_student)\n",
    "\n",
    "        nts_inidvidual_id = df_NTS_SPENSER_matched_student['IndividualID'].values[0]\n",
    "        nts_day_id = df_NTS_SPENSER_matched_student['DayID'].values[0]\n",
    "\n",
    "        #print(nts_inidvidual_id)\n",
    "        #print(nts_day_id)\n",
    "\n",
    "        ##########################################################################\n",
    "\n",
    "        #Find his/her education trips\n",
    "        df_NTS_trips_student_education = df_NTS_trips_students.loc[(df_NTS_trips_students['IndividualID'] == nts_inidvidual_id) & (df_NTS_trips_students['DayID'] == nts_day_id) & (df_NTS_trips_students['TripPurpTo_B01ID'] == 'education')]\n",
    "\n",
    "\n",
    "        # If the student has a trip which purpose = 'education':\n",
    "        # else: do nothing\n",
    "        if (len(df_NTS_trips_student_education) > 0):\n",
    "\n",
    "\n",
    "            # If there is more than one, keep only the earliest in the day\n",
    "            if (len(df_NTS_trips_student_education) > 1):\n",
    "\n",
    "                df_NTS_trips_student_education = df_NTS_trips_student_education.sort_values('TripStart')\n",
    "\n",
    "                df_NTS_trips_student_education = df_NTS_trips_student_education.head(1)\n",
    "\n",
    "\n",
    "            # Get the distance travelled\n",
    "            trip_distance = df_NTS_trips_student_education['TripDisIncSW'].values[0]\n",
    "\n",
    "\n",
    "\n",
    "            ##########################################################################\n",
    "            # Find the OA levels (centroids) that are at the selected or lower distance from the OA level (centroid) where the student lives:\n",
    "            df_OA_lelvel_centroid_distances_selected = df_OA_lelvel_centroid_distances.loc[(df_OA_lelvel_centroid_distances['oa_origin'] == oa_level) & (df_OA_lelvel_centroid_distances['distance_miles'] <= trip_distance)]\n",
    "\n",
    "            #print(df_OA_lelvel_centroid_distances_selected)\n",
    "\n",
    "\n",
    "            OA_list = df_OA_lelvel_centroid_distances_selected['oa_destination'].unique().tolist()\n",
    "\n",
    "\n",
    "            # Select those education buildings that are located in the previous OA levels and number of remaining puplis is greater than 0\n",
    "            df_education_buildings_selected = df_education_buildings.loc[(df_education_buildings['oa11cd'].isin(OA_list) & (df_education_buildings['NumberOfPu'] > 0))]\n",
    "\n",
    "\n",
    "\n",
    "\n",
    "            # Check if the dataframe contains any education building.\n",
    "            ## If the dataframe is empty, find the education buildings per MSOA level!\n",
    "            if (len(df_education_buildings_selected) == 0):\n",
    "\n",
    "                # Find the MSOA levels (centroids) that are at the selected or lower distance from the MSOA level (centroid) where the student lives:\n",
    "                df_MSOA_lelvel_centroid_distances_selected = df_MSOA_level_centroid_distances.loc[(df_MSOA_level_centroid_distances['msoa_origin'] == msoa_level) & (df_MSOA_level_centroid_distances['distance_miles'] <= trip_distance)]\n",
    "\n",
    "                #print(df_OA_lelvel_centroid_distances_selected)\n",
    "\n",
    "                MSOA_list = df_MSOA_lelvel_centroid_distances_selected['msoa_destination'].unique().tolist()\n",
    "\n",
    "                # Select those education buildings that are located in the previous MSOA levels and number of remaining puplis is greater than 0\n",
    "                df_education_buildings_selected = df_education_buildings.loc[(df_education_buildings['msoa11cd'].isin(MSOA_list) & (df_education_buildings['NumberOfPu'] > 0))]\n",
    "\n",
    "\n",
    "            #print(df_education_buildings_selected) \n",
    "\n",
    "\n",
    "            ##########################################################################\n",
    "            # Select randomly one row of the df_education_buildings_selected:\n",
    "            if (len(df_education_buildings_selected) > 0):\n",
    "            \n",
    "                \n",
    "                ## OLD --> RANDOM SELECTION\n",
    "                #df_unique_building_education_selected = df_education_buildings_selected.sample(1)\n",
    "                \n",
    "                \n",
    "                ## NEW --> SELECT THE ONE WITH THE HIGHEST CAPACITY\n",
    "                df_unique_building_education_selected = df_education_buildings_selected[df_education_buildings_selected.NumberOfPu == df_education_buildings_selected.NumberOfPu.max()]\n",
    "                \n",
    "                \n",
    "                #print(df_unique_building_education_selected)\n",
    "\n",
    "                # Get the relevant information of the selected building:\n",
    "                building_urn_id = df_unique_building_education_selected['URN'].values[0]\n",
    "                building_easting = df_unique_building_education_selected['Easting'].values[0]\n",
    "                building_northing = df_unique_building_education_selected['Northing'].values[0]\n",
    "                \n",
    "                \n",
    "                \n",
    "                building_oa = df_unique_building_education_selected['oa11cd'].values[0]\n",
    "                building_msoa = df_unique_building_education_selected['msoa11cd'].values[0]\n",
    "\n",
    "\n",
    "                # Save information in a list:\n",
    "                temp_list = []\n",
    "\n",
    "                temp_list.append(spenser_id)\n",
    "                temp_list.append(nts_inidvidual_id)\n",
    "                temp_list.append(nts_day_id)\n",
    "                temp_list.append(building_urn_id)\n",
    "                temp_list.append(building_easting)\n",
    "                temp_list.append(building_northing)\n",
    "                temp_list.append(building_oa)\n",
    "                temp_list.append(building_msoa)\n",
    "\n",
    "                ##########################################################################\n",
    "                ## Update the number of pupils in the dataframe.\n",
    "\n",
    "                # Get the number of pupils that can be allocated in the education building\n",
    "                number_of_pupils = df_unique_building_education_selected['NumberOfPu'].values[0]\n",
    "\n",
    "                # Remove one unit of the current remainig students to be assigned to that building education\n",
    "                ## the person selected in the for loop will take this place and should be not accesible for the others.\n",
    "                df_education_buildings.loc[df_education_buildings['URN'] == building_urn_id, ['NumberOfPu']] = number_of_pupils - 1\n",
    "\n",
    "\n",
    "                ##########################################################################\n",
    "                # Save the data in a csv file:\n",
    "\n",
    "                # Create an empty dataframe\n",
    "                df_SPENSER_students_education_location = pd.DataFrame([temp_list], columns = ['PID_AreaMSOA', 'IndividualID', 'DayID', 'URN', 'x', 'y', 'oa', 'msoa'])\n",
    "\n",
    "                # save the data in a csv file\n",
    "                df_SPENSER_students_education_location.to_csv(school_destination_round_1_dataframe, encoding='utf-8', mode='a', index=False, header=False)\n",
    "\n",
    "\n",
    "                ##########################################################################\n",
    "\n",
    "\n",
    "                #if counter == 2:\n",
    "                    #sys.exit()\n",
    "        \n",
    "    \n",
    "    \n",
    "    \n",
    "    \n",
    "print('Code has been finished. Check results!')  "
   ]
  },
  {
   "cell_type": "code",
   "execution_count": null,
   "metadata": {},
   "outputs": [],
   "source": [
    "t2 = time.time()\n",
    "print('Time taken (h): ', (t2 - t0) / 3600)"
   ]
  },
  {
   "cell_type": "code",
   "execution_count": null,
   "metadata": {},
   "outputs": [],
   "source": []
  },
  {
   "cell_type": "code",
   "execution_count": null,
   "metadata": {},
   "outputs": [],
   "source": []
  },
  {
   "cell_type": "code",
   "execution_count": null,
   "metadata": {},
   "outputs": [],
   "source": [
    "header_students_matched =[\"PID_AreaMSOA\", \"IndividualID\", \"DayID\", \"School_PSU\", \"X\", \"Y\", \"oa\", \"msoa\"]"
   ]
  },
  {
   "cell_type": "code",
   "execution_count": null,
   "metadata": {},
   "outputs": [],
   "source": [
    "#Read CSV file containing the agents from SPENSER\n",
    "school_destination_dataframe_capacity__dir = r'' # use your path\n",
    "school_destination_dataframe_capacity__file = os.path.join(school_destination_dataframe_capacity__dir, \"\")\n",
    "df_school_destination_dataframe_capacity = pd.read_csv(school_destination_dataframe_capacity__file, index_col=None, header=0, names= header_students_matched)"
   ]
  },
  {
   "cell_type": "code",
   "execution_count": null,
   "metadata": {},
   "outputs": [],
   "source": [
    "df_school_destination_dataframe_capacity.head()"
   ]
  },
  {
   "cell_type": "code",
   "execution_count": null,
   "metadata": {},
   "outputs": [],
   "source": [
    "len(df_school_destination_dataframe_capacity)"
   ]
  },
  {
   "cell_type": "code",
   "execution_count": null,
   "metadata": {},
   "outputs": [],
   "source": [
    "len(df_students_SPENSER)"
   ]
  },
  {
   "cell_type": "code",
   "execution_count": null,
   "metadata": {},
   "outputs": [],
   "source": [
    "len(df_students_SPENSER) - len(df_school_destination_dataframe_capacity)"
   ]
  },
  {
   "cell_type": "code",
   "execution_count": null,
   "metadata": {},
   "outputs": [],
   "source": [
    "# % of remaining students to be assigned an education centre\n",
    "len(df_students_SPENSER_remaining)/len(df_students_SPENSER) * 100"
   ]
  },
  {
   "cell_type": "code",
   "execution_count": null,
   "metadata": {},
   "outputs": [],
   "source": []
  },
  {
   "cell_type": "code",
   "execution_count": null,
   "metadata": {},
   "outputs": [],
   "source": [
    "total_number_pupils_schools = 408275"
   ]
  },
  {
   "cell_type": "code",
   "execution_count": null,
   "metadata": {},
   "outputs": [],
   "source": [
    "# % of students assigned an education centre based on the total capacity of schools\n",
    "len(df_school_destination_dataframe_capacity)/total_number_pupils_schools * 100"
   ]
  },
  {
   "cell_type": "code",
   "execution_count": null,
   "metadata": {},
   "outputs": [],
   "source": [
    "# % of students assigned an education centre \n",
    "len(df_school_destination_dataframe_capacity)/len(df_students_SPENSER) * 100"
   ]
  },
  {
   "cell_type": "code",
   "execution_count": null,
   "metadata": {},
   "outputs": [],
   "source": []
  },
  {
   "cell_type": "code",
   "execution_count": null,
   "metadata": {},
   "outputs": [],
   "source": [
    "spenser_students_ID_matched_list = df_school_destination_dataframe_capacity['PID_AreaMSOA'].unique().tolist()"
   ]
  },
  {
   "cell_type": "code",
   "execution_count": null,
   "metadata": {},
   "outputs": [],
   "source": []
  },
  {
   "cell_type": "code",
   "execution_count": null,
   "metadata": {},
   "outputs": [],
   "source": [
    "df_students_SPENSER_remaining = df_students_SPENSER.loc[~(df_students_SPENSER['PID_AreaMSOA'].isin(spenser_students_ID_matched_list))]"
   ]
  },
  {
   "cell_type": "code",
   "execution_count": null,
   "metadata": {},
   "outputs": [],
   "source": [
    "len(df_students_SPENSER_remaining)"
   ]
  },
  {
   "cell_type": "code",
   "execution_count": null,
   "metadata": {},
   "outputs": [],
   "source": []
  },
  {
   "cell_type": "code",
   "execution_count": null,
   "metadata": {},
   "outputs": [],
   "source": [
    "df_students_SPENSER_remaining.head(30)"
   ]
  },
  {
   "cell_type": "code",
   "execution_count": null,
   "metadata": {},
   "outputs": [],
   "source": []
  },
  {
   "cell_type": "code",
   "execution_count": null,
   "metadata": {},
   "outputs": [],
   "source": []
  },
  {
   "cell_type": "code",
   "execution_count": null,
   "metadata": {},
   "outputs": [],
   "source": []
  },
  {
   "cell_type": "code",
   "execution_count": null,
   "metadata": {},
   "outputs": [],
   "source": [
    "#Read CSV file containing the agents from NTS\n",
    "df_persons_NTS_dir = r'' # use your path\n",
    "df_persons_NTS_file = os.path.join(df_persons_NTS_dir, \"\")\n",
    "df_persons_NTS = pd.read_csv(df_persons_NTS_file, index_col=None, header=0)"
   ]
  },
  {
   "cell_type": "code",
   "execution_count": null,
   "metadata": {},
   "outputs": [],
   "source": []
  },
  {
   "cell_type": "code",
   "execution_count": null,
   "metadata": {},
   "outputs": [],
   "source": []
  },
  {
   "cell_type": "code",
   "execution_count": null,
   "metadata": {},
   "outputs": [],
   "source": [
    "###############################################################################################################\n",
    "\n",
    "\n",
    "###############\n",
    "\n",
    "\n",
    "\n",
    "\n",
    "################################\n",
    "\n",
    "\n",
    "\n",
    "\n",
    "###############################################################################################################"
   ]
  },
  {
   "cell_type": "code",
   "execution_count": null,
   "metadata": {},
   "outputs": [],
   "source": [
    "# Path to save the results\n",
    "school_destination_round_1_dataframe = r'' # in case\n"
   ]
  },
  {
   "cell_type": "code",
   "execution_count": null,
   "metadata": {},
   "outputs": [],
   "source": [
    "school_ID_list = []\n",
    "\n",
    "for idx_student, student in df_school_destination_dataframe_capacity.iterrows():\n",
    "    \n",
    "    school_ID = student['School_PSU']\n",
    "    \n",
    "    \n",
    "    \n",
    "    if (school_ID not in school_ID_list):\n",
    "    \n",
    "        school_ID_list.append(school_ID)\n",
    "        temp_list = []\n",
    "        #Find the number of students matched to the school_ID\n",
    "        \n",
    "        students_matched_to_school_ID = len(df_school_destination_dataframe_capacity.loc[(df_school_destination_dataframe_capacity['School_PSU'] == school_ID)])\n",
    "    \n",
    "    \n",
    "        #print(students_matched_to_school_ID)\n",
    "        school_X = student['X']\n",
    "        school_Y = student['Y']\n",
    "        \n",
    "        temp_list.append(school_ID)\n",
    "        temp_list.append(school_X)\n",
    "        temp_list.append(school_Y)\n",
    "        temp_list.append(students_matched_to_school_ID)\n",
    "        \n",
    "        \n",
    "        # Create an empty dataframe\n",
    "        df_schools_students_matched = pd.DataFrame([temp_list], columns = ['School_PSU', 'X', 'Y', 'Students'])\n",
    "\n",
    "        # save the data in a csv file\n",
    "        df_schools_students_matched.to_csv(school_destination_round_1_dataframe, encoding='utf-8', mode='a', index=False, header=False)\n",
    "        \n",
    "\n",
    "\n",
    "    \n",
    "    \n",
    "print('Code has finished. Check results, amigo')   "
   ]
  },
  {
   "cell_type": "code",
   "execution_count": null,
   "metadata": {},
   "outputs": [],
   "source": [
    "header_school_capacities =[\"School_PSU\", \"X\", \"Y\", \"pupils\"]"
   ]
  },
  {
   "cell_type": "code",
   "execution_count": null,
   "metadata": {},
   "outputs": [],
   "source": [
    "#Read CSV file containing the agents from SPENSER\n",
    "school_pupils__dir = r'' # use your path\n",
    "school_pupils__file = os.path.join(school_pupils__dir, \"school_destination_round_1_dataframe_capaticty_matched.csv\")\n",
    "df_school_pupils = pd.read_csv(school_pupils__file, index_col=None, header=0, names= header_school_capacities)"
   ]
  },
  {
   "cell_type": "code",
   "execution_count": null,
   "metadata": {},
   "outputs": [],
   "source": [
    "len(df_school_pupils)"
   ]
  },
  {
   "cell_type": "code",
   "execution_count": null,
   "metadata": {},
   "outputs": [],
   "source": []
  },
  {
   "cell_type": "code",
   "execution_count": null,
   "metadata": {},
   "outputs": [],
   "source": [
    "#################################################"
   ]
  },
  {
   "cell_type": "code",
   "execution_count": null,
   "metadata": {},
   "outputs": [],
   "source": [
    "#Read CSV file containing the selected NTS days:\n",
    "education_buildings_dir = r'' # use your path\n",
    "education_buildings_file = os.path.join(education_buildings_dir, \"education_buildings_studdents_aged_15_or_below_only.csv\")\n",
    "df_education_buildings_2 = pd.read_csv(education_buildings_file, index_col=None, header=0)"
   ]
  },
  {
   "cell_type": "code",
   "execution_count": null,
   "metadata": {},
   "outputs": [],
   "source": [
    "df_education_buildings_2.head()"
   ]
  },
  {
   "cell_type": "code",
   "execution_count": null,
   "metadata": {},
   "outputs": [],
   "source": [
    "# Match schools and compare the % of students matched in each school"
   ]
  },
  {
   "cell_type": "code",
   "execution_count": null,
   "metadata": {},
   "outputs": [],
   "source": [
    "## Merge dataframes to combine df_NTS_SPENSER_matched_msoa with the distances travelled by each individual        \n",
    "df_school_percentage = pd.merge(df_education_buildings_2, df_school_pupils,  how='left', left_on=['URN'], right_on = ['School_PSU'])\n"
   ]
  },
  {
   "cell_type": "code",
   "execution_count": null,
   "metadata": {},
   "outputs": [],
   "source": [
    "df_school_percentage.head()"
   ]
  },
  {
   "cell_type": "code",
   "execution_count": null,
   "metadata": {},
   "outputs": [],
   "source": [
    "df_school_percentage = df_school_percentage[['X_x','Y_x', 'URN', 'NumberOfPu','pupils']]"
   ]
  },
  {
   "cell_type": "code",
   "execution_count": null,
   "metadata": {},
   "outputs": [],
   "source": [
    "df_school_percentage.fillna(0)"
   ]
  },
  {
   "cell_type": "code",
   "execution_count": null,
   "metadata": {},
   "outputs": [],
   "source": [
    "df_school_percentage['Percentge_matched'] = df_school_percentage['pupils'] / df_school_percentage['NumberOfPu']*100"
   ]
  },
  {
   "cell_type": "code",
   "execution_count": null,
   "metadata": {},
   "outputs": [],
   "source": [
    "df_school_percentage"
   ]
  },
  {
   "cell_type": "code",
   "execution_count": null,
   "metadata": {},
   "outputs": [],
   "source": [
    "df_school_percentage['Percentge_matched'].min()"
   ]
  },
  {
   "cell_type": "code",
   "execution_count": null,
   "metadata": {},
   "outputs": [],
   "source": [
    "df_school_percentage['Percentge_matched'].max()"
   ]
  },
  {
   "cell_type": "code",
   "execution_count": null,
   "metadata": {},
   "outputs": [],
   "source": [
    "df_school_percentage['Percentge_matched'].mean()"
   ]
  },
  {
   "cell_type": "code",
   "execution_count": null,
   "metadata": {},
   "outputs": [],
   "source": [
    "df_school_percentage['Percentge_matched'].median()"
   ]
  },
  {
   "cell_type": "code",
   "execution_count": null,
   "metadata": {},
   "outputs": [],
   "source": [
    "school_percentage_matched_path = r''"
   ]
  },
  {
   "cell_type": "code",
   "execution_count": null,
   "metadata": {},
   "outputs": [],
   "source": [
    "# save the data in a csv file\n",
    "df_school_percentage.to_csv(school_percentage_matched_path, encoding='utf-8', mode='a', index=False, header=False)\n",
    "        "
   ]
  },
  {
   "cell_type": "code",
   "execution_count": null,
   "metadata": {},
   "outputs": [],
   "source": [
    "df_school_percentage['NumberOfPu'].sum()"
   ]
  },
  {
   "cell_type": "code",
   "execution_count": null,
   "metadata": {},
   "outputs": [],
   "source": []
  }
 ],
 "metadata": {
  "kernelspec": {
   "display_name": "Python 3",
   "language": "python",
   "name": "python3"
  },
  "language_info": {
   "codemirror_mode": {
    "name": "ipython",
    "version": 3
   },
   "file_extension": ".py",
   "mimetype": "text/x-python",
   "name": "python",
   "nbconvert_exporter": "python",
   "pygments_lexer": "ipython3",
   "version": "3.7.12"
  }
 },
 "nbformat": 4,
 "nbformat_minor": 2
}
