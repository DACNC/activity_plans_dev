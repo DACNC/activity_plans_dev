{
 "cells": [
  {
   "cell_type": "code",
   "execution_count": null,
   "metadata": {},
   "outputs": [],
   "source": [
    "import glob\n",
    "import pandas as pd\n",
    "import numpy as np\n",
    "import os\n",
    "import csv\n",
    "import sys\n",
    "from pathlib import Path\n",
    "import random\n",
    "from IPython.display import clear_output\n",
    "from operator import itemgetter\n",
    "\n",
    "import time "
   ]
  },
  {
   "cell_type": "code",
   "execution_count": null,
   "metadata": {},
   "outputs": [],
   "source": []
  },
  {
   "cell_type": "code",
   "execution_count": null,
   "metadata": {},
   "outputs": [],
   "source": [
    "#Read CSV file containing the matches between NTS and SPENSER:\n",
    "NTS_SPENSER_matched_dir = r'' # use your path\n",
    "NTS_SPENSER_matched_file = os.path.join(NTS_SPENSER_matched_dir, \"\")\n",
    "df_NTS_SPENSER_matched = pd.read_csv(NTS_SPENSER_matched_file, index_col=None, header=0)"
   ]
  },
  {
   "cell_type": "code",
   "execution_count": null,
   "metadata": {},
   "outputs": [],
   "source": [
    "len(df_NTS_SPENSER_matched)"
   ]
  },
  {
   "cell_type": "code",
   "execution_count": null,
   "metadata": {},
   "outputs": [],
   "source": [
    "NTS_id_list = df_NTS_SPENSER_matched['IndividualID'].unique().tolist()"
   ]
  },
  {
   "cell_type": "code",
   "execution_count": null,
   "metadata": {},
   "outputs": [],
   "source": [
    "NTS_day_id_list = df_NTS_SPENSER_matched['DayID'].unique().tolist()"
   ]
  },
  {
   "cell_type": "code",
   "execution_count": null,
   "metadata": {},
   "outputs": [],
   "source": []
  },
  {
   "cell_type": "code",
   "execution_count": null,
   "metadata": {},
   "outputs": [],
   "source": [
    "# Import the file with the days related to each individual\n",
    "trips_dir = r'' # use your path\n",
    "\n",
    "\n",
    "df_NTS_trips = pd.read_csv(\n",
    "    trips_dir,\n",
    "    sep='\\t',\n",
    "    usecols=['TripID',\n",
    "             'DayID',               # ID given to all trips made by an individual on a given travel day - Created in SQL\n",
    "             'IndividualID',        # Individual unique ID - Created in SQL\n",
    "             'HouseholdID',         # Household unique ID - Created in SQL\n",
    "             'PSUID',               # PSU unique ID - Created in SQL\n",
    "             'JourSeq',             # Journey number on a given travel day\n",
    "             'NumStages',           # Number of stages - actual number\n",
    "             'MainMode_B04ID',      # Main mode of travel - publication table breakdown - 13 categories\n",
    "             'TripPurpTo_B01ID',   # Trip purpose - full list - 23 categories\n",
    "             'TripStartHours',      # Trip start time - hours component\n",
    "             'TripStartMinutes',    # Trip start time - minutes component\n",
    "             'TripStart',           # Trip start time - minutes past midnight\n",
    "             'TripEndHours',        # Trip end time - hours component\n",
    "             'TripEndMinutes',      # Trip end time - minutes component\n",
    "             'TripEnd',             # Trip end time - minutes past midnight\n",
    "             'TripDisIncSW',        # Trip distance - including short walk - miles - actual distance\n",
    "             'TripTotalTime'        # Total trip time - minutes - actual time\n",
    "             ]          \n",
    ")\n",
    "#persons_in.head()"
   ]
  },
  {
   "cell_type": "code",
   "execution_count": null,
   "metadata": {},
   "outputs": [],
   "source": [
    "df_NTS_trips = df_NTS_trips.loc[(df_NTS_trips['IndividualID'].isin(NTS_id_list)) & (df_NTS_trips['DayID'].isin(NTS_day_id_list))]"
   ]
  },
  {
   "cell_type": "code",
   "execution_count": null,
   "metadata": {},
   "outputs": [],
   "source": [
    "len(df_NTS_trips)"
   ]
  },
  {
   "cell_type": "code",
   "execution_count": null,
   "metadata": {},
   "outputs": [],
   "source": [
    "## Update transpor mode\n",
    "mode_mapping = {\n",
    "    1: 'walk',\n",
    "     2: 'bike',\n",
    "     3: 'car',  #'Car/van driver'\n",
    "     4: 'car_passenger',  #'Car/van passenger'\n",
    "     5: 'motorcycle',  \n",
    "     6: 'car',  #'Other private transport',\n",
    "     7: 'bus', #Bus in London',\n",
    "     8: 'bus', #'Other local bus',\n",
    "     9: 'bus', #'Non-local bus',\n",
    "     10: 'metro', #'London Underground',\n",
    "     11: 'train', #'Surface Rail',\n",
    "     12: 'car',  #'Taxi/minicab',\n",
    "     13: 'metro', #'Other public transport',\n",
    "     -10: 'DEAD',\n",
    "     -8: 'NA'\n",
    "}"
   ]
  },
  {
   "cell_type": "code",
   "execution_count": null,
   "metadata": {},
   "outputs": [],
   "source": [
    "df_NTS_trips['MainMode_B04ID'] = df_NTS_trips['MainMode_B04ID'].map(mode_mapping)"
   ]
  },
  {
   "cell_type": "code",
   "execution_count": null,
   "metadata": {},
   "outputs": [],
   "source": [
    "purp_mapping = {\n",
    "    1: 'work',\n",
    "     2: 'work',  #'In course of work',\n",
    "     3: 'education',\n",
    "     4: 'food_shop',  #'Food shopping',\n",
    "     5: 'shop',  #'Non food shopping',\n",
    "     6: 'medical', #'Personal business medical',\n",
    "     7: 'eat',  #'Personal business eat/drink',\n",
    "     8: 'other',  #'Personal business other',\n",
    "     9: 'eat',  #'Eat/drink with friends',\n",
    "     10: 'other',  #'Visit friends',\n",
    "     11: 'leisure',  #'Other social',\n",
    "     12: 'leisure',  #'Entertain/ public activity',\n",
    "     13: 'leisure_sport',  #'Sport: participate',\n",
    "     14: 'home',  #'Holiday: base',\n",
    "     15: 'leisure_sport',  #'Day trip/just walk',\n",
    "     16: 'leisure',  #'Other non-escort',\n",
    "     17: 'escort_home',  #'Escort home',\n",
    "     18: 'escort_work',  #'Escort work',\n",
    "     19: 'escort_work',  #'Escort in course of work',\n",
    "     20: 'escort_education',  #'Escort education',\n",
    "     21: 'escort_leisure',  #'Escort shopping/personal business',\n",
    "     22: 'escort_other',  #'Other escort',\n",
    "     23: 'home',  #'Home',\n",
    "     -10: 'DEAD',\n",
    "     -8: 'NA'\n",
    "}"
   ]
  },
  {
   "cell_type": "code",
   "execution_count": null,
   "metadata": {},
   "outputs": [],
   "source": [
    "df_NTS_trips['TripPurpTo_B01ID'] = df_NTS_trips['TripPurpTo_B01ID'].map(purp_mapping)"
   ]
  },
  {
   "cell_type": "code",
   "execution_count": null,
   "metadata": {},
   "outputs": [],
   "source": []
  },
  {
   "cell_type": "code",
   "execution_count": null,
   "metadata": {},
   "outputs": [],
   "source": [
    "# Select only those people with trip_purpose = escort_education\n",
    "\n",
    "df_NTS_trips_escort_edu = df_NTS_trips.loc[(df_NTS_trips['TripPurpTo_B01ID'] == 'escort_education')]"
   ]
  },
  {
   "cell_type": "code",
   "execution_count": null,
   "metadata": {},
   "outputs": [],
   "source": [
    "len(df_NTS_trips_escort_edu)"
   ]
  },
  {
   "cell_type": "code",
   "execution_count": null,
   "metadata": {},
   "outputs": [],
   "source": [
    "# Get the IndividualID and DayID of those trips\n",
    "NTS_trips_escort_edu_nts_id_list = df_NTS_trips_escort_edu['IndividualID'].unique().tolist()\n",
    "\n",
    "NTS_trips_escort_edu_nts_day_id_list = df_NTS_trips_escort_edu['DayID'].unique().tolist()"
   ]
  },
  {
   "cell_type": "code",
   "execution_count": null,
   "metadata": {},
   "outputs": [],
   "source": []
  },
  {
   "cell_type": "code",
   "execution_count": null,
   "metadata": {},
   "outputs": [],
   "source": [
    "# Get the SPENSER people assigned with trip_purpose = escort_education\n",
    "df_NTS_SPENSER_matched_escort_edu = df_NTS_SPENSER_matched.loc[(df_NTS_SPENSER_matched['IndividualID'].isin(NTS_trips_escort_edu_nts_id_list)) & (df_NTS_SPENSER_matched['DayID'].isin(NTS_trips_escort_edu_nts_day_id_list))]"
   ]
  },
  {
   "cell_type": "code",
   "execution_count": null,
   "metadata": {},
   "outputs": [],
   "source": [
    "# Number of spenser agents with trip_pursose = 'escort_education'\n",
    "len(df_NTS_SPENSER_matched_escort_edu)"
   ]
  },
  {
   "cell_type": "code",
   "execution_count": null,
   "metadata": {},
   "outputs": [],
   "source": [
    "# % of population:\n",
    "len(df_NTS_SPENSER_matched_escort_edu)/len(df_NTS_SPENSER_matched) * 100"
   ]
  },
  {
   "cell_type": "code",
   "execution_count": null,
   "metadata": {},
   "outputs": [],
   "source": []
  },
  {
   "cell_type": "code",
   "execution_count": null,
   "metadata": {},
   "outputs": [],
   "source": [
    "df_NTS_SPENSER_matched_escort_edu.head()"
   ]
  },
  {
   "cell_type": "code",
   "execution_count": null,
   "metadata": {},
   "outputs": [],
   "source": []
  },
  {
   "cell_type": "code",
   "execution_count": null,
   "metadata": {},
   "outputs": [],
   "source": [
    "#####################################################"
   ]
  },
  {
   "cell_type": "code",
   "execution_count": null,
   "metadata": {},
   "outputs": [],
   "source": [
    "header_students_matched =[\"PID_AreaMSOA\", \"IndividualID\", \"DayID\", \"School_PSU\", \"X\", \"Y\"]"
   ]
  },
  {
   "cell_type": "code",
   "execution_count": null,
   "metadata": {},
   "outputs": [],
   "source": [
    "#Read CSV file containing students matched with a education_centre:\n",
    "SPENSER_students_school_selected_dir = r'' # use your path\n",
    "SPENSER_students_school_selected_file = os.path.join(SPENSER_students_school_selected_dir, \"\")\n",
    "df_SPENSER_students_school_selected = pd.read_csv(SPENSER_students_school_selected_file, index_col=None, header=0, names= header_students_matched)"
   ]
  },
  {
   "cell_type": "code",
   "execution_count": null,
   "metadata": {},
   "outputs": [],
   "source": [
    "len(df_SPENSER_students_school_selected)"
   ]
  },
  {
   "cell_type": "code",
   "execution_count": null,
   "metadata": {},
   "outputs": [],
   "source": [
    "df_SPENSER_students_school_selected.head()"
   ]
  },
  {
   "cell_type": "code",
   "execution_count": null,
   "metadata": {},
   "outputs": [],
   "source": [
    "## Get the HID_AreaOA column in the table df_SPENSER_students_school_selected\n",
    "## Merge df_SPENSER_students_school_selected with df_NTS_SPENSER_matched to get the HID_AreaOA with the students\n",
    "\n",
    "## Merge dataframes to combine df_NTS_SPENSER_matched_msoa with the distances travelled by each individual        \n",
    "df_SPENSER_students_school_selected = pd.merge(df_SPENSER_students_school_selected, df_NTS_SPENSER_matched[['PID_AreaMSOA','HID_AreaOA']],  how='left', left_on=['PID_AreaMSOA'], right_on = ['PID_AreaMSOA'])\n"
   ]
  },
  {
   "cell_type": "code",
   "execution_count": null,
   "metadata": {},
   "outputs": [],
   "source": [
    "df_SPENSER_students_school_selected"
   ]
  },
  {
   "cell_type": "code",
   "execution_count": null,
   "metadata": {},
   "outputs": [],
   "source": []
  },
  {
   "cell_type": "code",
   "execution_count": null,
   "metadata": {},
   "outputs": [],
   "source": [
    "#######################"
   ]
  },
  {
   "cell_type": "code",
   "execution_count": null,
   "metadata": {},
   "outputs": [],
   "source": [
    "# Merge dataframes based on the HH_id\n",
    "df_spenser_escort_edu_location = pd.merge(df_NTS_SPENSER_matched_escort_edu, df_SPENSER_students_school_selected[['HID_AreaOA','PID_AreaMSOA','School_PSU','X','Y']],  how='left', left_on=['HID_AreaOA'], right_on = ['HID_AreaOA'])\n"
   ]
  },
  {
   "cell_type": "code",
   "execution_count": null,
   "metadata": {},
   "outputs": [],
   "source": [
    "# Keep only the relevant columns\n",
    "df_spenser_escort_edu_location = df_spenser_escort_edu_location[['HID_AreaOA', 'PID_AreaMSOA_x', 'PID_AreaMSOA_y', 'School_PSU','X','Y']]"
   ]
  },
  {
   "cell_type": "code",
   "execution_count": null,
   "metadata": {},
   "outputs": [],
   "source": [
    "df_spenser_escort_edu_location.rename(columns={'PID_AreaMSOA_x': 'PID_AreaMSOA', 'PID_AreaMSOA_y': 'PID_AreaMSOA_student'}, inplace=True)"
   ]
  },
  {
   "cell_type": "code",
   "execution_count": null,
   "metadata": {},
   "outputs": [],
   "source": [
    "# Sort by column x \n",
    "## This is to keep the ones matched in the top\n",
    "### then, I will remove duplictes and keep the first (just in case spenser agent trip_purpose = escort_education has been linked more than once)\n",
    "df_spenser_escort_edu_location =  df_spenser_escort_edu_location.sort_values('X')"
   ]
  },
  {
   "cell_type": "code",
   "execution_count": null,
   "metadata": {},
   "outputs": [],
   "source": [
    "df_spenser_escort_edu_location"
   ]
  },
  {
   "cell_type": "code",
   "execution_count": null,
   "metadata": {},
   "outputs": [],
   "source": [
    "len(df_spenser_escort_edu_location)"
   ]
  },
  {
   "cell_type": "code",
   "execution_count": null,
   "metadata": {},
   "outputs": [],
   "source": []
  },
  {
   "cell_type": "code",
   "execution_count": null,
   "metadata": {},
   "outputs": [],
   "source": [
    "# not null rows\n",
    "len(df_spenser_escort_edu_location.loc[~(df_spenser_escort_edu_location['School_PSU'].isna())])"
   ]
  },
  {
   "cell_type": "code",
   "execution_count": null,
   "metadata": {},
   "outputs": [],
   "source": [
    "# % of not null rows of the total spenser_escort_edu_location (175211)\n",
    "139516/175211 * 100"
   ]
  },
  {
   "cell_type": "code",
   "execution_count": null,
   "metadata": {},
   "outputs": [],
   "source": []
  },
  {
   "cell_type": "code",
   "execution_count": null,
   "metadata": {},
   "outputs": [],
   "source": [
    "# Path to save the file as csv\n",
    "spenser_escort_edu_location_path = r''"
   ]
  },
  {
   "cell_type": "code",
   "execution_count": null,
   "metadata": {},
   "outputs": [],
   "source": [
    "# Save the file as csv file\n",
    "df_spenser_escort_edu_location.to_csv(spenser_escort_edu_location_path,  encoding='utf-8', mode='a', index=False, header=['HID_AreaOA','PID_AreaMSOA','PID_AreaMSOA_student','School_PSU','X','Y'])"
   ]
  },
  {
   "cell_type": "code",
   "execution_count": null,
   "metadata": {},
   "outputs": [],
   "source": [
    "#############################################"
   ]
  },
  {
   "cell_type": "code",
   "execution_count": null,
   "metadata": {},
   "outputs": [],
   "source": []
  },
  {
   "cell_type": "code",
   "execution_count": null,
   "metadata": {},
   "outputs": [],
   "source": []
  },
  {
   "cell_type": "code",
   "execution_count": null,
   "metadata": {},
   "outputs": [],
   "source": []
  },
  {
   "cell_type": "code",
   "execution_count": null,
   "metadata": {},
   "outputs": [],
   "source": []
  }
 ],
 "metadata": {
  "kernelspec": {
   "display_name": "Python 3",
   "language": "python",
   "name": "python3"
  },
  "language_info": {
   "codemirror_mode": {
    "name": "ipython",
    "version": 3
   },
   "file_extension": ".py",
   "mimetype": "text/x-python",
   "name": "python",
   "nbconvert_exporter": "python",
   "pygments_lexer": "ipython3",
   "version": "3.7.12"
  }
 },
 "nbformat": 4,
 "nbformat_minor": 2
}
