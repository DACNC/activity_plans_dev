{
 "cells": [
  {
   "cell_type": "code",
   "execution_count": null,
   "metadata": {},
   "outputs": [],
   "source": [
    "import glob\n",
    "import pandas as pd\n",
    "import numpy as np\n",
    "import os\n",
    "import csv\n",
    "import sys\n",
    "from pathlib import Path\n",
    "import random\n",
    "import datetime\n",
    "\n",
    "from functools import reduce\n",
    "from IPython.display import clear_output\n"
   ]
  },
  {
   "cell_type": "code",
   "execution_count": null,
   "metadata": {},
   "outputs": [],
   "source": [
    "#Read CSV file containing the agents from SPENSER\n",
    "workplace_destination_employed_selected_dir = r'' # use your path\n",
    "workplace_destination_employed_selected_file = os.path.join(workplace_destination_employed_selected_dir, \"\")\n",
    "df_workplace_destination_employed_selected = pd.read_csv(workplace_destination_employed_selected_file, index_col=None, header=0)"
   ]
  },
  {
   "cell_type": "code",
   "execution_count": null,
   "metadata": {},
   "outputs": [],
   "source": [
    "len(df_workplace_destination_employed_selected)"
   ]
  },
  {
   "cell_type": "code",
   "execution_count": null,
   "metadata": {},
   "outputs": [],
   "source": [
    "df_workplace_destination_employed_selected"
   ]
  },
  {
   "cell_type": "code",
   "execution_count": null,
   "metadata": {},
   "outputs": [],
   "source": [
    "len(msoa_destination_list)"
   ]
  },
  {
   "cell_type": "code",
   "execution_count": null,
   "metadata": {},
   "outputs": [],
   "source": [
    "# Read the buildings used to work\n",
    "#Read CSV file containing the agents from SPENSER\n",
    "facilities_location_dir = r'' # use your path\n",
    "facilities_location_file = os.path.join(facilities_location_dir, \"\")\n",
    "df_facilities_location = pd.read_csv(facilities_location_file, index_col=None, header=0)\n"
   ]
  },
  {
   "cell_type": "code",
   "execution_count": null,
   "metadata": {},
   "outputs": [],
   "source": [
    "len(df_facilities_location)"
   ]
  },
  {
   "cell_type": "code",
   "execution_count": null,
   "metadata": {},
   "outputs": [],
   "source": [
    "df_facilities_location"
   ]
  },
  {
   "cell_type": "code",
   "execution_count": null,
   "metadata": {},
   "outputs": [],
   "source": [
    "## Remove duplicates and keep first\n",
    "df_facilities_location = df_facilities_location.drop_duplicates(subset='id', keep=\"first\")\n"
   ]
  },
  {
   "cell_type": "code",
   "execution_count": null,
   "metadata": {},
   "outputs": [],
   "source": [
    "len(df_facilities_location)"
   ]
  },
  {
   "cell_type": "code",
   "execution_count": null,
   "metadata": {},
   "outputs": [],
   "source": [
    "## Remove those rows where msoa11cd is NaN\n",
    "df_facilities_location = df_facilities_location[df_facilities_location['msoa11cd'].notna()]"
   ]
  },
  {
   "cell_type": "code",
   "execution_count": null,
   "metadata": {},
   "outputs": [],
   "source": [
    "len(df_facilities_location)"
   ]
  },
  {
   "cell_type": "code",
   "execution_count": null,
   "metadata": {},
   "outputs": [],
   "source": [
    "df_facilities_location.dtypes"
   ]
  },
  {
   "cell_type": "code",
   "execution_count": null,
   "metadata": {},
   "outputs": [],
   "source": [
    "df_workplaces_location = df_facilities_location[df_facilities_location['activities'].str.contains('work')]"
   ]
  },
  {
   "cell_type": "code",
   "execution_count": null,
   "metadata": {},
   "outputs": [],
   "source": [
    "len(df_workplaces_location)"
   ]
  },
  {
   "cell_type": "code",
   "execution_count": null,
   "metadata": {},
   "outputs": [],
   "source": [
    "## Save data here:\n",
    "workplace_building_location = ''"
   ]
  },
  {
   "cell_type": "code",
   "execution_count": null,
   "metadata": {},
   "outputs": [],
   "source": []
  },
  {
   "cell_type": "code",
   "execution_count": null,
   "metadata": {},
   "outputs": [],
   "source": []
  },
  {
   "cell_type": "code",
   "execution_count": null,
   "metadata": {},
   "outputs": [],
   "source": [
    "## Create a new column with the number of square meters for employee in each work category\n",
    "sqm_per_employee = []\n",
    "for row in df_workplaces_location['activities']:\n",
    "\n",
    "    if 'work_office' in row: sqm_per_employee.append(12)\n",
    "    elif 'work_industrial' in row: sqm_per_employee.append(42)\n",
    "    elif 'work_retail' in row: sqm_per_employee.append(20)\n",
    "    elif 'work_commercial' in row: sqm_per_employee.append(50)\n",
    "    elif 'work_warehouse' in row: sqm_per_employee.append(80)\n",
    "    elif 'work_hotel' in row: sqm_per_employee.append(70)\n",
    "    elif 'work_hospital' in row: sqm_per_employee.append(50)\n",
    "    elif 'work_education' in row: sqm_per_employee.append(30)\n",
    "    elif 'work_fitness' in row: sqm_per_employee.append(70)\n",
    "    elif 'work_attraction' in row: sqm_per_employee.append(300)\n",
    "    elif 'work_restaurant' in row: sqm_per_employee.append(17)\n",
    "    elif 'work_visitor_attraction' in row: sqm_per_employee.append(50)\n",
    "    elif 'work_social' in row: sqm_per_employee.append(40)\n",
    "    elif 'work_entertainment' in row: sqm_per_employee.append(70)\n",
    "    elif 'work_office' in row: sqm_per_employee.append(12)\n",
    "    elif 'work_culture' in row: sqm_per_employee.append(200)\n",
    "    else: sqm_per_employee.append(9999)"
   ]
  },
  {
   "cell_type": "code",
   "execution_count": null,
   "metadata": {},
   "outputs": [],
   "source": [
    "df_workplaces_location['sqm_per_employee'] = sqm_per_employee\n"
   ]
  },
  {
   "cell_type": "code",
   "execution_count": null,
   "metadata": {},
   "outputs": [],
   "source": [
    "df_workplaces_location['predicted_employees'] = round(df_workplaces_location['floor_area'] / df_workplaces_location['sqm_per_employee'], 0).astype(int)"
   ]
  },
  {
   "cell_type": "code",
   "execution_count": null,
   "metadata": {},
   "outputs": [],
   "source": [
    "df_workplaces_location.head()"
   ]
  },
  {
   "cell_type": "code",
   "execution_count": null,
   "metadata": {},
   "outputs": [],
   "source": []
  },
  {
   "cell_type": "code",
   "execution_count": null,
   "metadata": {},
   "outputs": [],
   "source": []
  },
  {
   "cell_type": "code",
   "execution_count": null,
   "metadata": {},
   "outputs": [],
   "source": []
  },
  {
   "cell_type": "code",
   "execution_count": null,
   "metadata": {},
   "outputs": [],
   "source": []
  },
  {
   "cell_type": "code",
   "execution_count": null,
   "metadata": {
    "scrolled": false
   },
   "outputs": [],
   "source": [
    "counter = 0\n",
    "\n",
    "list_tester = []\n",
    "\n",
    "for msoa_code in msoa_destination_list:\n",
    "    \n",
    "    #msoa_code = 'E02002485'\n",
    "    \n",
    "    \n",
    "    temp_list =[]\n",
    "    \n",
    "    counter += 1\n",
    "    clear_output(wait=True)\n",
    "    print(f' {counter} of {len(msoa_destination_list)}, MSOA name: {msoa_code}')\n",
    "\n",
    "    # Select those individuals that have been assinged a destination = msoa_code\n",
    "    df_employed_msoa = df_workplace_destination_employed_selected.loc[(df_workplace_destination_employed_selected['Destination'] == msoa_code)]\n",
    "\n",
    "    # count the number of people that work there\n",
    "    total_employed_msoa = len(df_employed_msoa)\n",
    "    \n",
    "    #print(total_employed_msoa)\n",
    "    \n",
    "    temp_list.append(msoa_code)\n",
    "    temp_list.append(total_employed_msoa)\n",
    "    \n",
    "    # Select those buildings located in the msoa_code\n",
    "    df_workplaces_location_msoa = df_workplaces_location.loc[(df_workplaces_location['msoa11cd'] == msoa_code)]\n",
    "    \n",
    "    number_buildings_msoa = len(df_workplaces_location_msoa)\n",
    "    \n",
    "    ## Sum the floor_areas of all buldings in the msoa_code to now the total area\n",
    "    total_predicted_employees_in_msoa = df_workplaces_location_msoa['predicted_employees'].sum()\n",
    "    \n",
    "    #print(total_predicted_employees_in_msoa)\n",
    "    \n",
    "  \n",
    "    employee_ratio = total_employed_msoa / total_predicted_employees_in_msoa\n",
    "\n",
    "    #print(employee_ratio)\n",
    "    \n",
    "    df_workplaces_location_msoa['designed_employees'] = round(df_workplaces_location_msoa['predicted_employees'] * employee_ratio, 0).astype(int)\n",
    "    \n",
    "    ## Sum the floor_areas of all buldings in the msoa_code to now the total area\n",
    "    total_designed_employees_in_msoa = df_workplaces_location_msoa['designed_employees'].sum()\n",
    "    \n",
    "    \n",
    "    #print(total_designed_employees_in_msoa)\n",
    "    \n",
    "\n",
    "    \n",
    "    \n",
    "    # Sort column 'designed_employees' in ascending order\n",
    "    ## This will allow start with the building with less employees\n",
    "    df_workplaces_location_msoa = df_workplaces_location_msoa.sort_values(['designed_employees'], ascending = [True])\n",
    "    \n",
    "\n",
    "    building_counter = 0\n",
    "    number_individuals_msoa_matched_list = 0\n",
    "\n",
    "\n",
    "    # loop through the buildings\n",
    "    for idx_building, building_row in df_workplaces_location_msoa.iterrows():\n",
    "        \n",
    "        building_counter += 1\n",
    "        \n",
    "        if (building_counter != number_buildings_msoa):\n",
    "            building_employees = building_row['designed_employees']\n",
    "\n",
    "\n",
    "            if (len(df_employed_msoa) >= building_employees):\n",
    "\n",
    "                # Select randomly the % of people that has to go to that building\n",
    "                df_employed_msoa_building_selected = df_employed_msoa.sample(building_employees)\n",
    "\n",
    "            else:    \n",
    "                df_employed_msoa_building_selected = df_employed_msoa\n",
    "\n",
    "            # Remove selected people from the dataframe to avoid selecting them more than once\n",
    "            ## Concatenate previous selected students with the \"potential inactives\"\n",
    "            df_employed_msoa_concatenated = (pd.concat([df_employed_msoa, df_employed_msoa_building_selected]))\n",
    "\n",
    "            ## Remove duplicates and keep the name of the original dataframe to be used in other iterations:\n",
    "            df_employed_msoa = df_employed_msoa_concatenated.drop_duplicates(subset='PID_AreaMSOA',keep = False)\n",
    "\n",
    "        \n",
    "        \n",
    "        # Select the remaining people for the last building\n",
    "        ## This is to avoid leaving people without a building\n",
    "        else:\n",
    "            \n",
    "            df_employed_msoa_building_selected = df_employed_msoa\n",
    "        \n",
    "\n",
    "        # Create new columns with informationa about the building selected to them\n",
    "        df_employed_msoa_building_selected['building_id'] = building_row['id']\n",
    "        df_employed_msoa_building_selected['x'] = building_row['X']\n",
    "        df_employed_msoa_building_selected['y'] = building_row['Y']\n",
    "        \n",
    "        df_employed_msoa_building_selected['oa'] = building_row['oa11cd']\n",
    "        df_employed_msoa_building_selected['msoa'] = building_row['msoa11cd']\n",
    "        \n",
    "        \n",
    "        number_individuals_msoa_matched_list += len(df_employed_msoa_building_selected)\n",
    "        \n",
    "        # save the data in a csv file\n",
    "        df_employed_msoa_building_selected.to_csv(workplace_building_location, encoding='utf-8', mode='a', index=False, header=False)\n",
    "          \n",
    "        \n",
    "    temp_list.append(number_individuals_msoa_matched_list)\n",
    "        \n",
    "        \n",
    "    list_tester.append(temp_list)\n",
    "        \n",
    "        \n",
    "        \n",
    "          \n",
    "\n",
    "print('Code has been finished. Check results!')   "
   ]
  },
  {
   "cell_type": "code",
   "execution_count": null,
   "metadata": {
    "scrolled": true
   },
   "outputs": [],
   "source": [
    "list_tester"
   ]
  },
  {
   "cell_type": "code",
   "execution_count": null,
   "metadata": {},
   "outputs": [],
   "source": [
    "df_tester = pd.DataFrame(list_tester)"
   ]
  },
  {
   "cell_type": "code",
   "execution_count": null,
   "metadata": {},
   "outputs": [],
   "source": [
    "df_tester"
   ]
  },
  {
   "cell_type": "code",
   "execution_count": null,
   "metadata": {},
   "outputs": [],
   "source": [
    "df_tester.loc[df_tester[2] == 0]"
   ]
  },
  {
   "cell_type": "code",
   "execution_count": null,
   "metadata": {},
   "outputs": [],
   "source": [
    "df_tester['Difference'] = df_tester[1] - df_tester[2]"
   ]
  },
  {
   "cell_type": "code",
   "execution_count": null,
   "metadata": {},
   "outputs": [],
   "source": [
    "df_tester.loc[(df_tester['Difference'] > 0)]"
   ]
  },
  {
   "cell_type": "code",
   "execution_count": null,
   "metadata": {},
   "outputs": [],
   "source": []
  },
  {
   "cell_type": "code",
   "execution_count": null,
   "metadata": {},
   "outputs": [],
   "source": [
    "df_employed_msoa_building_selected"
   ]
  },
  {
   "cell_type": "code",
   "execution_count": null,
   "metadata": {},
   "outputs": [],
   "source": [
    "header_workplaces_building_location =['PID_AreaMSOA', 'IndividualID', 'DayID', 'Origin', 'Destination', 'building_id', 'x', 'y', 'workplace_oa', 'workplace_msoa']\n"
   ]
  },
  {
   "cell_type": "code",
   "execution_count": null,
   "metadata": {},
   "outputs": [],
   "source": [
    "#Read CSV file containing the agents from SPENSER\n",
    "workplaces_building_location_dir = r'' # use your path\n",
    "workplaces_building_location_file = os.path.join(workplaces_building_location_dir, \"\")\n",
    "df_workplaces_building_location = pd.read_csv(workplaces_building_location_file, index_col=None, header=None, names= header_workplaces_building_location)"
   ]
  },
  {
   "cell_type": "code",
   "execution_count": null,
   "metadata": {},
   "outputs": [],
   "source": [
    "len(df_workplaces_building_location)"
   ]
  },
  {
   "cell_type": "code",
   "execution_count": null,
   "metadata": {},
   "outputs": [],
   "source": [
    "df_workplaces_building_location = df_workplaces_building_location.drop_duplicates(subset='PID_AreaMSOA',keep = False)"
   ]
  },
  {
   "cell_type": "code",
   "execution_count": null,
   "metadata": {},
   "outputs": [],
   "source": [
    "df_workplaces_building_location"
   ]
  },
  {
   "cell_type": "code",
   "execution_count": null,
   "metadata": {},
   "outputs": [],
   "source": [
    "len(df_workplaces_building_location)"
   ]
  },
  {
   "cell_type": "code",
   "execution_count": null,
   "metadata": {},
   "outputs": [],
   "source": [
    "len(df_workplace_destination_employed_selected)"
   ]
  },
  {
   "cell_type": "code",
   "execution_count": null,
   "metadata": {},
   "outputs": [],
   "source": [
    "len(df_workplace_destination_employed_selected)- len(df_workplaces_building_location)"
   ]
  },
  {
   "cell_type": "code",
   "execution_count": null,
   "metadata": {},
   "outputs": [],
   "source": [
    "df_workplaces_building_location"
   ]
  },
  {
   "cell_type": "code",
   "execution_count": null,
   "metadata": {},
   "outputs": [],
   "source": []
  },
  {
   "cell_type": "code",
   "execution_count": null,
   "metadata": {},
   "outputs": [],
   "source": []
  },
  {
   "cell_type": "code",
   "execution_count": null,
   "metadata": {},
   "outputs": [],
   "source": [
    "# save the data in a csv file\n",
    "#df_workplaces_building_location_short.to_csv(r'C:\\Users\\b9055315\\PhD_project\\UK_Data_Service\\NTS\\Generated_data_from_code\\workplace_destination\\sixth_attempt\\workplace_building_location_short.csv', encoding='utf-8', mode='a', index=False, header= header_workplaces_building_location_short)\n"
   ]
  },
  {
   "cell_type": "code",
   "execution_count": null,
   "metadata": {},
   "outputs": [],
   "source": [
    "buildings_selected_list = df_workplaces_building_location['building_id'].unique().tolist()"
   ]
  },
  {
   "cell_type": "code",
   "execution_count": null,
   "metadata": {},
   "outputs": [],
   "source": [
    "len(buildings_selected_list)"
   ]
  },
  {
   "cell_type": "code",
   "execution_count": null,
   "metadata": {},
   "outputs": [],
   "source": [
    "len(buildings_selected_list)/len(df_workplaces_location)*100"
   ]
  },
  {
   "cell_type": "code",
   "execution_count": null,
   "metadata": {},
   "outputs": [],
   "source": []
  },
  {
   "cell_type": "code",
   "execution_count": null,
   "metadata": {},
   "outputs": [],
   "source": []
  }
 ],
 "metadata": {
  "kernelspec": {
   "display_name": "Python 3",
   "language": "python",
   "name": "python3"
  },
  "language_info": {
   "codemirror_mode": {
    "name": "ipython",
    "version": 3
   },
   "file_extension": ".py",
   "mimetype": "text/x-python",
   "name": "python",
   "nbconvert_exporter": "python",
   "pygments_lexer": "ipython3",
   "version": "3.7.12"
  }
 },
 "nbformat": 4,
 "nbformat_minor": 2
}
